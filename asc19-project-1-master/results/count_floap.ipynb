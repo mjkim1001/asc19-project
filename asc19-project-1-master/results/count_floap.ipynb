{
 "cells": [
  {
   "cell_type": "markdown",
   "metadata": {},
   "source": [
    "기존의 코드를 바꿔서 한 번 iteration 돌 때 floap수만 계산했음."
   ]
  },
  {
   "cell_type": "code",
   "execution_count": 6,
   "metadata": {},
   "outputs": [],
   "source": [
    "include(\"../src/data_generation.jl\");\n",
    "include(\"../src/count_floap.jl\");"
   ]
  },
  {
   "cell_type": "code",
   "execution_count": 7,
   "metadata": {},
   "outputs": [],
   "source": [
    "Random.seed!(111)\n",
    "n = 10\n",
    "A = gen_A(n)\n",
    "b = randn(n^2);"
   ]
  },
  {
   "cell_type": "code",
   "execution_count": 8,
   "metadata": {},
   "outputs": [
    {
     "name": "stdout",
     "output_type": "stream",
     "text": [
      "SOR\n",
      "for 1 itter: 1580.0\n",
      "for initial: 200.0\n",
      "==========================\n",
      "SSOR\n",
      "for inital: 200.0\n",
      "for 1 itter: 3240.0\n",
      "==========================\n",
      "Cheby-acclereated SSOR\n",
      "for inital: 200.0\n",
      "for 1 itter: 3360.0\n",
      "==========================\n",
      "Richardson\n",
      "for 1 itter :1120.0\n",
      "==========================\n",
      "Jacobi\n",
      "for 1 itter :1320.0\n",
      "==========================\n",
      "Gauss-Seidel\n",
      "for 1 itter: 1580.0\n"
     ]
    }
   ],
   "source": [
    "println(\"SOR\")\n",
    "k3_sor_floap(A, copy(b), 1.9852, 1);\n",
    "println(\"==========================\")\n",
    "\n",
    "println(\"SSOR\")\n",
    "k3_ssor_floap(A, copy(b), 1.6641, 1);\n",
    "println(\"==========================\")\n",
    "\n",
    "w =  1.9852\n",
    "λ_max,λ_min = eigMm(A, w)\n",
    "println(\"Cheby-acclereated SSOR\")\n",
    "sol_5 = k3_CB_ssor_floap(A, copy(b), 1.6641, λ_max,λ_min, 1);\n",
    "println(\"==========================\")\n",
    "\n",
    "println(\"Richardson\")\n",
    "k3_RCS_floap(A, copy(b), 1, 1)\n",
    "println(\"==========================\")\n",
    "\n",
    "println(\"Jacobi\")\n",
    "k3_JCB_floap(A, copy(b), 1)\n",
    "println(\"==========================\")\n",
    "\n",
    "println(\"Gauss-Seidel\")\n",
    "k3_GS_floap(A, copy(b), 1);"
   ]
  }
 ],
 "metadata": {
  "kernelspec": {
   "display_name": "Julia 1.2.0",
   "language": "julia",
   "name": "julia-1.2"
  },
  "language_info": {
   "file_extension": ".jl",
   "mimetype": "application/julia",
   "name": "julia",
   "version": "1.2.0"
  }
 },
 "nbformat": 4,
 "nbformat_minor": 4
}
