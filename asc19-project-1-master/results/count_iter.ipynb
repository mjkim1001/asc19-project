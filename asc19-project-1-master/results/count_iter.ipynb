{
 "cells": [
  {
   "cell_type": "markdown",
   "metadata": {},
   "source": [
    "* 기존의 코드에서 매 iteration마다 residual의 norm을 계산해 $10^{-8}$보다 작아지는 최소 iteration 수를 계산"
   ]
  },
  {
   "cell_type": "code",
   "execution_count": 22,
   "metadata": {},
   "outputs": [],
   "source": [
    "include(\"../src/data_generation.jl\");\n",
    "include(\"../src/count_iteration.jl\");"
   ]
  },
  {
   "cell_type": "code",
   "execution_count": 23,
   "metadata": {},
   "outputs": [],
   "source": [
    "Random.seed!(111)\n",
    "n = 10\n",
    "A = gen_A(n)\n",
    "b = randn(n^2);"
   ]
  },
  {
   "cell_type": "code",
   "execution_count": 24,
   "metadata": {},
   "outputs": [
    {
     "name": "stdout",
     "output_type": "stream",
     "text": [
      "SOR\n",
      "sor_itter : 1668\n",
      "==========================\n",
      "SSOR\n",
      "ssor_itter : 61278\n",
      "==========================\n",
      "Cheby-acclereated SSOR with w = 1\n",
      "CB ssor_itter : 1021\n",
      "==========================\n",
      "Cheby-acclereated SSOR with w = 1.6641\n",
      "CB ssor_itter : 636\n",
      "==========================\n",
      "Richardson\n",
      "==========================\n",
      "Jacobi\n",
      "Jacobi_itter : 691805\n",
      "==========================\n",
      "Gauss-Seidel\n",
      "GaussSeidel : 319915\n"
     ]
    }
   ],
   "source": [
    "println(\"SOR\")\n",
    "k3_sor(A, copy(b), 1.9852, 1000000);\n",
    "println(\"==========================\")\n",
    "\n",
    "println(\"SSOR\")\n",
    "k3_ssor(A, copy(b), 1.6641, 1000000);\n",
    "println(\"==========================\")\n",
    "\n",
    "w = 1.0\n",
    "λ_max,λ_min = eigMm(A, w)\n",
    "println(\"Cheby-acclereated SSOR with w = 1\")\n",
    "sol_5 = k3_CB_ssor(A, copy(b), w, λ_max, λ_min, 1000000);\n",
    "println(\"==========================\")\n",
    "\n",
    "w = 1.6641\n",
    "λ_max,λ_min = eigMm(A, w)\n",
    "println(\"Cheby-acclereated SSOR with w = 1.6641\")\n",
    "sol_5 = k3_CB_ssor(A, copy(b), w, λ_max, λ_min, 1000000);\n",
    "println(\"==========================\")\n",
    "\n",
    "println(\"Richardson\")\n",
    "k3_RCS(A, copy(b), 1, 1000000)\n",
    "println(\"==========================\")\n",
    "\n",
    "println(\"Jacobi\")\n",
    "k3_JCB(A, copy(b), 1000000)\n",
    "println(\"==========================\")\n",
    "\n",
    "println(\"Gauss-Seidel\")\n",
    "k3_GS(A, copy(b), 1000000);"
   ]
  },
  {
   "cell_type": "markdown",
   "metadata": {},
   "source": [
    "* Note that Richardson does not converge."
   ]
  }
 ],
 "metadata": {
  "kernelspec": {
   "display_name": "Julia 1.2.0",
   "language": "julia",
   "name": "julia-1.2"
  },
  "language_info": {
   "file_extension": ".jl",
   "mimetype": "application/julia",
   "name": "julia",
   "version": "1.2.0"
  }
 },
 "nbformat": 4,
 "nbformat_minor": 4
}
