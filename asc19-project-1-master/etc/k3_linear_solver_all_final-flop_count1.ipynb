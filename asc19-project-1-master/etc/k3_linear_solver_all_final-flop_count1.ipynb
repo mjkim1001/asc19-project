{
 "cells": [
  {
   "cell_type": "markdown",
   "metadata": {},
   "source": [
    "# julia itteration solver sparse src"
   ]
  },
  {
   "cell_type": "code",
   "execution_count": 3,
   "metadata": {},
   "outputs": [],
   "source": [
    "mutable struct flop_counter\n",
    "    f::Float64\n",
    "end"
   ]
  },
  {
   "cell_type": "code",
   "execution_count": 2,
   "metadata": {},
   "outputs": [
    {
     "name": "stdout",
     "output_type": "stream",
     "text": [
      "include group.jl for user defined matrix generators\n",
      "verify download of index files...\n",
      "used remote site is https://sparse.tamu.edu/?per_page=All\n",
      "populating internal database...\n"
     ]
    },
    {
     "data": {
      "text/plain": [
       "backward_sub! (generic function with 2 methods)"
      ]
     },
     "execution_count": 2,
     "metadata": {},
     "output_type": "execute_result"
    }
   ],
   "source": [
    "import LinearAlgebra: mul!, ldiv!\n",
    "import Base: getindex, iterate\n",
    "using SparseArrays, Arpack, LinearAlgebra\n",
    "using BenchmarkTools, IterativeSolvers, MatrixDepot, Random\n",
    "\n",
    "\n",
    "struct DiagonalIndices{Tv, Ti <: Integer}\n",
    "    matrix::SparseMatrixCSC{Tv,Ti}\n",
    "    diag::Vector{Ti}\n",
    "\n",
    "    function DiagonalIndices{Tv,Ti}(A::SparseMatrixCSC{Tv,Ti}) where {Tv,Ti}\n",
    "        # Check square?\n",
    "        diag = Vector{Ti}(undef, A.n)\n",
    "\n",
    "        for col = 1 : A.n\n",
    "            r1 = Int(A.colptr[col])\n",
    "            r2 = Int(A.colptr[col + 1] - 1)\n",
    "            r1 = searchsortedfirst(A.rowval, col, r1, r2, Base.Order.Forward)\n",
    "            if r1 > r2 || A.rowval[r1] != col || iszero(A.nzval[r1])\n",
    "                throw(LinearAlgebra.SingularException(col))\n",
    "            end\n",
    "            diag[col] = r1\n",
    "        end \n",
    "\n",
    "        new(A, diag) #\n",
    "    end\n",
    "end\n",
    "\n",
    "DiagonalIndices(A::SparseMatrixCSC{Tv,Ti}) where {Tv,Ti} = DiagonalIndices{Tv,Ti}(A)\n",
    "@inline getindex(d::DiagonalIndices, i::Int) = d.diag[i]\n",
    "\n",
    "\n",
    "struct FastLowerTriangular{Tv,Ti}\n",
    "    matrix::SparseMatrixCSC{Tv,Ti}\n",
    "    diag::DiagonalIndices{Tv,Ti}\n",
    "end\n",
    "\n",
    "struct FastUpperTriangular{Tv,Ti}\n",
    "    matrix::SparseMatrixCSC{Tv,Ti}\n",
    "    diag::DiagonalIndices{Tv,Ti}\n",
    "end\n",
    "\n",
    "struct StrictlyUpperTriangular{Tv,Ti}\n",
    "    matrix::SparseMatrixCSC{Tv,Ti}\n",
    "    diag::DiagonalIndices{Tv,Ti}\n",
    "end\n",
    "\n",
    "struct StrictlyLowerTriangular{Tv,Ti}\n",
    "    matrix::SparseMatrixCSC{Tv,Ti}\n",
    "    diag::DiagonalIndices{Tv,Ti}\n",
    "end\n",
    "\n",
    "struct OffDiagonal{Tv,Ti}\n",
    "    matrix::SparseMatrixCSC{Tv,Ti}\n",
    "    diag::DiagonalIndices{Tv,Ti}\n",
    "end\n",
    "\n",
    "\n",
    "function forward_sub!(F::FastLowerTriangular, x::AbstractVector)\n",
    "    A = F.matrix\n",
    "    @inbounds for col = 1 : A.n\n",
    "        idx = F.diag[col]\n",
    "        x[col] /= A.nzval[idx] # ok\n",
    "        for i = idx + 1 : (A.colptr[col + 1] - 1) #colptr인데 lower triangular이기 때문에 해당 col의 diagonal 아래 개수가나옴.\n",
    "            x[A.rowval[i]] -= A.nzval[i] * x[col] # 이 term으로 x[n] 계산할때 그이전텀들이 다 마이너스 되어서 있음. \n",
    "        end\n",
    "    end\n",
    "    x\n",
    "end\n",
    "\n",
    "function backward_sub!(F::FastUpperTriangular, x::AbstractVector)\n",
    "    A = F.matrix\n",
    "\n",
    "    @inbounds for col = A.n : -1 : 1\n",
    "\n",
    "        # Solve for diagonal element\n",
    "        idx = F.diag[col]\n",
    "        x[col] = x[col] / A.nzval[idx]\n",
    "\n",
    "        # Substitute next values involving x[col]\n",
    "        for i = A.colptr[col] : idx - 1\n",
    "            x[A.rowval[i]] -= A.nzval[i] * x[col]\n",
    "        end\n",
    "    end\n",
    "\n",
    "    x\n",
    "end\n",
    "\n",
    "\n",
    "function forward_sub!(fp::flop_counter, F::FastLowerTriangular, x::AbstractVector)\n",
    "    A = F.matrix\n",
    "    @inbounds for col = 1 : A.n\n",
    "        idx = F.diag[col]\n",
    "        x[col] /= A.nzval[idx] # ok\n",
    "        fp.f += 1\n",
    "        for i = idx + 1 : (A.colptr[col + 1] - 1) #colptr인데 lower triangular이기 때문에 해당 col의 diagonal 아래 개수가나옴.\n",
    "            x[A.rowval[i]] -= A.nzval[i] * x[col] # 이 term으로 x[n] 계산할때 그이전텀들이 다 마이너스 되어서 있음. \n",
    "            fp.f += 2\n",
    "        end\n",
    "    end\n",
    "    x\n",
    "end\n",
    "\n",
    "function backward_sub!(fp::flop_counter, F::FastUpperTriangular, x::AbstractVector)\n",
    "    A = F.matrix\n",
    "\n",
    "    @inbounds for col = A.n : -1 : 1\n",
    "\n",
    "        # Solve for diagonal element\n",
    "        idx = F.diag[col]\n",
    "        x[col] = x[col] / A.nzval[idx]\n",
    "        fp.f += 1\n",
    "        # Substitute next values involving x[col]\n",
    "        for i = A.colptr[col] : idx - 1\n",
    "            x[A.rowval[i]] -= A.nzval[i] * x[col]\n",
    "            fp.f += 2\n",
    "        end\n",
    "    end\n",
    "\n",
    "    x\n",
    "end\n",
    "\n",
    "\n"
   ]
  },
  {
   "cell_type": "markdown",
   "metadata": {},
   "source": [
    "## Matrix Generator"
   ]
  },
  {
   "cell_type": "code",
   "execution_count": 5,
   "metadata": {},
   "outputs": [
    {
     "data": {
      "text/plain": [
       "gen_Ab_temp (generic function with 1 method)"
      ]
     },
     "execution_count": 5,
     "metadata": {},
     "output_type": "execute_result"
    }
   ],
   "source": [
    "using BenchmarkTools, IterativeSolvers, LinearAlgebra, MatrixDepot, Random\n",
    "\n",
    "\n",
    "using LinearAlgebra\n",
    "using SparseArrays\n",
    "\n",
    "function cartesianidx(k::Int, n::Int)\n",
    "    \"\"\"\n",
    "    {s_i} are on a regular 10 by 10 lattice over the two dimensional domain\n",
    "    S = [1, 10] \\times [1, 10].\n",
    "    output gives a cartesian index (i, j) of s_k, i.e., \n",
    "    S = [s01 s11 s21 ... s91\n",
    "         s02 s12 s22 ... s92\n",
    "         s03 s13 s23 ... s93\n",
    "            ... ... \n",
    "         s10 s20 s30 ... s100]\n",
    "    \"\"\"\n",
    "    if k % n == 0\n",
    "        [n; k ÷ n]\n",
    "    else\n",
    "        [k % n; k ÷ n + 1]\n",
    "    end\n",
    "end\n",
    "\n",
    "\"\"\"\n",
    "n_i is the number of points neighbouring s_i, i.e., with distance 1from s_i\n",
    "N[i, j] = n_k, where cartesianindex(k, 10) = (i, j)\n",
    "\"\"\"\n",
    "\n",
    "function gen_Ab(n)\n",
    "    #n = 10\n",
    "    N = 4 * ones(n, n);\n",
    "    for k in 1:n\n",
    "        N[1, k] -= 1\n",
    "        N[k, 1] -= 1\n",
    "        N[n, k] -= 1\n",
    "        N[k, n] -= 1\n",
    "    end\n",
    "\n",
    "    \"\"\"\n",
    "    6.1 A 10 by 10 lattice example (n = 100)\n",
    "    \"\"\"\n",
    "    A = zeros(n^2, n^2)\n",
    "    for i in 1:n^2\n",
    "        for j in 1:n^2\n",
    "            if i == j\n",
    "                A[i, j] = 0.0001 + N[i]\n",
    "            elseif norm(cartesianidx(i, n)-cartesianidx(j, n)) <= 1.0\n",
    "                A[i, j] = -1.0\n",
    "            else\n",
    "                A[i, j] = 0.0\n",
    "            end\n",
    "        end\n",
    "    end\n",
    "\n",
    "    A = sparse(A)\n",
    "    b = randn(n^2)\n",
    "    \n",
    "    (A,b)\n",
    "end\n",
    "\n",
    "\n",
    "\n",
    "function gen_Ab_temp(n)\n",
    "    #n = 100\n",
    "    # Poisson matrix of dimension n^2=10000, pd and sparse\n",
    "    A = matrixdepot(\"poisson\", n)\n",
    "    @show typeof(A)\n",
    "    # dense matrix representation of A\n",
    "    #Afull = convert(Matrix, A)\n",
    "    #@show typeof(Afull)\n",
    "    # sparsity level\n",
    "    count(!iszero, A) / length(A)\n",
    "    b = randn(n^2)\n",
    "    (A,b)\n",
    "end"
   ]
  },
  {
   "cell_type": "markdown",
   "metadata": {},
   "source": [
    "# K3 src"
   ]
  },
  {
   "cell_type": "code",
   "execution_count": 1,
   "metadata": {},
   "outputs": [],
   "source": [
    "mutable struct flop_counter\n",
    "    f::Float64\n",
    "end"
   ]
  },
  {
   "cell_type": "markdown",
   "metadata": {},
   "source": [
    "# SOR"
   ]
  },
  {
   "cell_type": "code",
   "execution_count": 10,
   "metadata": {},
   "outputs": [
    {
     "data": {
      "text/plain": [
       "k3_sor (generic function with 1 method)"
      ]
     },
     "execution_count": 10,
     "metadata": {},
     "output_type": "execute_result"
    }
   ],
   "source": [
    "function f_mul!(fp::flop_counter, α::T, O::DiagonalIndices, x::AbstractVector, b::AbstractVector, r::AbstractVector  ) where {T}\n",
    "    A = O.matrix\n",
    "    r[:] = b\n",
    "    @inbounds for col = 1 : A.n\n",
    "        αx = α * x[col]\n",
    "        diag_index = O.diag[col]\n",
    "        for j = A.colptr[col] : A.colptr[col + 1] - 1\n",
    "            r[A.rowval[j]] += A.nzval[j] * αx \n",
    "            fp.f +=2\n",
    "        end\n",
    "        fp.f +=1\n",
    "    end\n",
    "    r\n",
    "end\n",
    "\n",
    "function sum!(fp::flop_counter, z, r, A::SparseMatrixCSC)\n",
    "    @inbounds for i =1: A.n\n",
    "        z[i] += r[i]\n",
    "        fp.f +=1\n",
    "    end\n",
    "end\n",
    "\n",
    "\n",
    "function m_sor!(fp::flop_counter,A, D::DiagonalIndices, w)\n",
    "    for d_idx in D.diag \n",
    "        A.nzval[d_idx]  *= (1/w)\n",
    "        fp.f +=2\n",
    "    end\n",
    "    @inbounds for col = 1 : A.n\n",
    "        for j = A.colptr[col] :  A.colptr[col + 1] - 1\n",
    "            if A.rowval[j] < col \n",
    "                A.nzval[j] = 0\n",
    "            end\n",
    "        end\n",
    "    end\n",
    "    \n",
    "end\n",
    "\n",
    "\n",
    "function itter_sor!(F::FastLowerTriangular, D::DiagonalIndices,\n",
    "                        x::AbstractVector, b::AbstractVector, max_itter)\n",
    "    A = D.matrix\n",
    "    T = eltype(x)\n",
    "    r =zeros(A.n)\n",
    "    fp = flop_counter(0)\n",
    "    \n",
    "    for i = 1 : max_itter \n",
    "        f_mul!(fp, -one(T), D, x, b, r) # r <- b- Ax\n",
    "        \n",
    "        if norm(r) < 10^(-8)\n",
    "            println(\"sor_itter : \",i)\n",
    "            break\n",
    "        end \n",
    "        \n",
    "        forward_sub!(fp,F, r)# r <- M_sor\\r\n",
    "        sum!(fp,x, r, A) # x <- x +  M_sor/b \n",
    "        print(fp.f)\n",
    "    end\n",
    "    x\n",
    "    \n",
    "end\n",
    "\n",
    "function k3_sor(A, b::AbstractVector, w, maxiter)\n",
    "    fp_1 = flop_counter(0)\n",
    "    x = zeros(A.n)\n",
    "    m_sor = copy(A)\n",
    "    D = DiagonalIndices(A)\n",
    "    m_sor!(fp_1, m_sor, D, w)\n",
    "    D_ms = DiagonalIndices(m_sor)\n",
    "    itter_sor!(FastLowerTriangular(m_sor ,D_ms), D, x , b, maxiter)\n",
    "    print(fp_1.f)\n",
    "end\n",
    "\n"
   ]
  },
  {
   "cell_type": "code",
   "execution_count": 8,
   "metadata": {},
   "outputs": [
    {
     "data": {
      "text/plain": [
       "100-element Array{Float64,1}:\n",
       " -1.7315758115819326  \n",
       " -0.07997027726456443 \n",
       " -0.8717545788440997  \n",
       "  0.7733603550405481  \n",
       " -1.23025949718485    \n",
       " -0.6795623171595335  \n",
       " -0.010805773536428006\n",
       "  1.0184230151812865  \n",
       "  1.2922470361893663  \n",
       " -0.83611955576624    \n",
       "  0.5521943322533005  \n",
       "  0.05351062498107297 \n",
       " -1.0419308334324373  \n",
       "  ⋮                   \n",
       "  1.432654869366426   \n",
       " -0.8308116881216856  \n",
       " -0.49050481966992765 \n",
       " -0.8752173846676085  \n",
       "  0.41643854460137203 \n",
       " -0.16597548367272988 \n",
       " -1.0381618314231047  \n",
       "  0.3442747472946145  \n",
       "  0.9066603636859343  \n",
       "  1.851695590343076   \n",
       "  0.8408877379738464  \n",
       "  0.013748637305547661"
      ]
     },
     "execution_count": 8,
     "metadata": {},
     "output_type": "execute_result"
    }
   ],
   "source": [
    "A, b = gen_Ab(10)\n",
    "b_ = copy(b)"
   ]
  },
  {
   "cell_type": "code",
   "execution_count": 11,
   "metadata": {},
   "outputs": [
    {
     "name": "stdout",
     "output_type": "stream",
     "text": [
      "1580.0200.0"
     ]
    }
   ],
   "source": [
    "sol_6 = k3_sor(A, b_, 1.9852, 1)"
   ]
  },
  {
   "cell_type": "markdown",
   "metadata": {},
   "source": [
    "# SSOR"
   ]
  },
  {
   "cell_type": "code",
   "execution_count": 17,
   "metadata": {},
   "outputs": [
    {
     "data": {
      "text/plain": [
       "k3_ssor (generic function with 1 method)"
      ]
     },
     "execution_count": 17,
     "metadata": {},
     "output_type": "execute_result"
    }
   ],
   "source": [
    "function gamma_sqrt_diag_mul!(fp::flop_counter, D::DiagonalIndices, b::AbstractVector, w ,b_c)\n",
    "    A = D.matrix\n",
    "    for idx in D.diag \n",
    "        b[A.rowval[idx]] *=  sqrt( b_c * ((2/w) -1) * A.nzval[idx])\n",
    "        fp.f += 6\n",
    "    end\n",
    "end\n",
    "\n",
    "function sum2!(fp::flop_counter, x,y,z, A::SparseMatrixCSC)\n",
    "    @inbounds for i =1: A.n\n",
    "        x[i] =y[i]+z[i]\n",
    "        fp.f += 1\n",
    "    end\n",
    "end\n",
    "\n",
    "function itter_ssor!(F::FastLowerTriangular, U::FastUpperTriangular, D::DiagonalIndices,\n",
    "                        D_t::DiagonalIndices, x::AbstractVector, b::AbstractVector\n",
    "                        , w,  max_itter)\n",
    "    \n",
    "    A = D.matrix\n",
    "    A_t = D_t.matrix\n",
    "    #symetric일때도 필요한지 고려 diag정의는 새로필요한거 같음\n",
    "\n",
    "    fp = flop_counter(0)\n",
    "\n",
    "    T = eltype(b)\n",
    "    r = zeros(A.n)\n",
    "    y = zeros(A.n)\n",
    "        \n",
    "    for i = 1 : max_itter \n",
    "        f_mul!(fp, -one(T), D, x, b, r) # r_1 <-  γ * D^(1/2) * b- Ay\n",
    "        \n",
    "        if norm(r) < 10^(-8)\n",
    "            println(\"ssor_itter : \",i)\n",
    "            break\n",
    "        end \n",
    "        \n",
    "        gamma_sqrt_diag_mul!(fp, D,r,w,1)\n",
    "        forward_sub!(fp, F, r) #r_1 <- m_sor\\r_1\n",
    "        gamma_sqrt_diag_mul!(fp, D,r,w,1)\n",
    "        backward_sub!(fp, U, r)\n",
    "        sum!(fp, x, r, A)\n",
    "        println(\"for 1 itter :\", fp.f)\n",
    "    end\n",
    "    x\n",
    "end\n",
    "\n",
    "\n",
    "\n",
    "function k3_ssor(A, b::AbstractVector, w, maxiter)\n",
    "    x = zeros(A.n)\n",
    "    m_sor = copy(A)\n",
    "    D = DiagonalIndices(A)\n",
    "    D_t = DiagonalIndices(sparse(A'))\n",
    "    fp_1 = flop_counter(0)\n",
    "\n",
    "    \n",
    "    m_sor!(fp_1, m_sor, D, w)\n",
    "    \n",
    "    D_ms = DiagonalIndices(m_sor)\n",
    "    m_sor_t = sparse(m_sor')\n",
    "    D_ms_t = DiagonalIndices(m_sor_t)\n",
    "    \n",
    "    println(\"for inital :\", fp_1.f)\n",
    "    itter_ssor!(FastLowerTriangular(m_sor ,D_ms), FastUpperTriangular(m_sor_t,D_ms_t),\n",
    "                    D, D_t, x , b, w, maxiter)\n",
    "end\n"
   ]
  },
  {
   "cell_type": "code",
   "execution_count": 18,
   "metadata": {},
   "outputs": [
    {
     "name": "stdout",
     "output_type": "stream",
     "text": [
      "for inital :200.0\n",
      "for 1 itter :3240.0"
     ]
    },
    {
     "data": {
      "text/plain": [
       "100-element Array{Float64,1}:\n",
       " -1.021620652489922   \n",
       " -0.5493349596819     \n",
       " -0.5253570242229018  \n",
       " -0.4702521834581398  \n",
       " -0.4160397339451868  \n",
       " -0.33671469506439156 \n",
       " -0.24145715457646325 \n",
       " -0.15178279379561777 \n",
       " -0.08773851573319826 \n",
       " -0.05874088950512483 \n",
       " -0.45432618649381923 \n",
       " -0.2828636902985248  \n",
       " -0.2962565871469309  \n",
       "  ⋮                   \n",
       " -0.0623261060160197  \n",
       " -0.07793466133992544 \n",
       " -0.041650564834754475\n",
       " -0.02957829698164326 \n",
       " -0.026823263339203776\n",
       " -0.041889363974324065\n",
       " -0.06440633170311852 \n",
       " -0.06658695859164611 \n",
       " -0.05202461496238094 \n",
       " -0.03758608421473334 \n",
       " -0.03889644250255729 \n",
       " -0.05436254119675141 "
      ]
     },
     "execution_count": 18,
     "metadata": {},
     "output_type": "execute_result"
    },
    {
     "name": "stdout",
     "output_type": "stream",
     "text": [
      "\n"
     ]
    }
   ],
   "source": [
    "b_ = copy(b)\n",
    "sol_5 = k3_ssor(A, b_, 1.9852, 1)"
   ]
  },
  {
   "cell_type": "markdown",
   "metadata": {},
   "source": [
    "# Cheby_SSOR"
   ]
  },
  {
   "cell_type": "code",
   "execution_count": 33,
   "metadata": {},
   "outputs": [
    {
     "data": {
      "text/plain": [
       "k3_CB_ssor (generic function with 1 method)"
      ]
     },
     "execution_count": 33,
     "metadata": {},
     "output_type": "execute_result"
    }
   ],
   "source": [
    "mutable struct CB_variable\n",
    "    β::Float64\n",
    "    α::Float64\n",
    "    b::Float64\n",
    "    a::Float64\n",
    "    κ::Float64\n",
    "end\n",
    "\n",
    "function mul_sum!(fp::flop_counter,x_next, x, x_pre, r, α, τ, A)\n",
    "    for i = 1:A.n \n",
    "        x_next[i] = (1-α)*x_pre[i] + α*x[i] + (τ*α*r[i])\n",
    "        fp.f += 6\n",
    "    end\n",
    "    # x\n",
    "end\n",
    "\n",
    "\n",
    "\n",
    "function sum2!(fp::flop_counter,x_next, x, r, A)\n",
    "    for i = 1:A.n \n",
    "        x_next[i] = x[i] + r[i]\n",
    "        fp.f += 1\n",
    "    end\n",
    "    # x\n",
    "end\n",
    "\n",
    "function sum3!(fp::flop_counter, w_v, x_temp , x, r, A)\n",
    "    for i = 1:A.n \n",
    "        w_v[i] = x_temp[i] - x[i] + r[i]\n",
    "        fp.f += 2\n",
    "    end\n",
    "    # x\n",
    "end\n",
    "\n",
    "function eigMm(A::SparseMatrixCSC, ω::Real)\n",
    "\n",
    "    Dw = sqrt((2/ω-1)) * Diagonal(sqrt.(diag(A)))\n",
    "    L = (LowerTriangular(A)- (1-1/ω) * Diagonal(A))*(inv(Dw))\n",
    "\n",
    "    Meig = inv(cholesky(L*L')) * A\n",
    "    \n",
    "    λ_max = eigs(Meig; nev=1, ritzvec=false, which=:LM)[1][1]\n",
    "    λ_min = eigs(Meig; nev=1, ritzvec=false, which=:SM)[1][1]\n",
    "    real(λ_max), real(λ_min)\n",
    "end\n",
    "\n",
    "\n",
    "function itter_CB_ssor!(F::FastLowerTriangular, U::FastUpperTriangular, D::DiagonalIndices,\n",
    "                        D_t::DiagonalIndices, x::AbstractVector, b::AbstractVector\n",
    "                        , w,  λ_max, λ_min, max_itter)\n",
    " \n",
    "    fp = flop_counter(0)\n",
    "\n",
    "    A = D.matrix\n",
    "    A_t = D_t.matrix\n",
    "    \n",
    "    δ = ((λ_max - λ_min)/4)^2\n",
    "    τ = 2/(λ_max + λ_min)\n",
    "    \n",
    "    T = eltype(b)\n",
    "    cb = CB_variable(0,0,0,0,0)\n",
    "    #Assign initial parameter\n",
    "    cb.β  = 2*τ\n",
    "    cb.α = 1\n",
    "    cb.b = 2/cb.α - 1\n",
    "    cb.a = (2/τ -1) * cb.b\n",
    "    cb.κ = τ\n",
    "    \n",
    "    T = eltype(b)\n",
    "    r_1 = zeros(A.n)\n",
    "    r_2 = zeros(A.n)\n",
    "    x_pre = zeros(A.n)\n",
    "    x_next = zeros(A.n)\n",
    "    x_temp = zeros(A.n)\n",
    "    w_v = zeros(A.n)\n",
    " \n",
    "    for i = 1 : max_itter \n",
    "\n",
    "        x_pre[:] = x \n",
    "        x[:] = x_next\n",
    "        \n",
    "        f_mul!(fp, -one(T), D, x, b, r_1) # r <- b - A* X        \n",
    "        \"\"\"\n",
    "        if norm(r_1) < 10^(-8)\n",
    "            #println(\"CB sor_itter : \",i)\n",
    "            break\n",
    "        end \n",
    "        \n",
    "        \"\"\"\n",
    "        \n",
    "        \n",
    "        \n",
    "        forward_sub!(fp, F, r_1) #r_1 <- m_sor\\r_1\n",
    "        sum2!(fp, x_temp, x, r_1, A) #x_next <- x + τ*r\n",
    "        \n",
    "        f_mul!(fp, -one(T), D, x_temp, b, r_2) # r_2 <- b - A* X\n",
    "        backward_sub!(fp, U, r_2)\n",
    "        sum3!(fp, w_v, x_temp , x, r_2, A)\n",
    "        \n",
    "        if i == 1\n",
    "            sum2!(fp, x_next, cb.α*x, τ*w_v, A) #x_next <- x + τ*r\n",
    "        else\n",
    "            mul_sum!(fp, x_next, x, x_pre, w_v, cb.α, τ, A) # x_next <- (1-α)*x_pre + α*x + (τ*α*r[i])\n",
    "        end\n",
    "        \n",
    "        \n",
    "        cb.β = 1 / ( (1/τ)  - cb.β*δ ) \n",
    "        cb.α = cb.β / τ\n",
    "        cb.b = ( ( 2*cb.κ*(1- cb.α) ) / cb.β) + 1\n",
    "        cb.a = ((2/τ) -1) + (cb.b-1) * ( (1/τ) + (1/cb.κ) -1 )\n",
    "        cb.κ = cb.β  + ( (1 - cb.α) * cb.κ)\n",
    "        \n",
    "        println(\"for 1 itter :\", fp.f)\n",
    "        \n",
    "    end\n",
    "    x\n",
    "\n",
    "end\n",
    "\n",
    "\n",
    "\n",
    "function k3_CB_ssor(A, b::AbstractVector, w, λ_max, λ_min,  maxiter)\n",
    "    x = zeros(A.n)\n",
    "    m_sor = copy(A)\n",
    "    D = DiagonalIndices(A)\n",
    "    D_t = DiagonalIndices(sparse(A'))\n",
    "    \n",
    "    fp_1 = flop_counter(0)\n",
    "    \n",
    "    m_sor!(fp_1, m_sor, D, w)\n",
    "    \n",
    "    D_ms = DiagonalIndices(m_sor)\n",
    "    m_sor_t = sparse(m_sor')\n",
    "    D_ms_t = DiagonalIndices(m_sor_t)\n",
    "    #λ_max,λ_min = eigMm(A, w)\n",
    "    println(\"for inital :\", fp_1.f)\n",
    "\n",
    "    itter_CB_ssor!(FastLowerTriangular(m_sor ,D_ms), FastUpperTriangular(m_sor_t,D_ms_t),\n",
    "                    D, D_t, x , b, w, λ_max, λ_min, maxiter)\n",
    "end\n"
   ]
  },
  {
   "cell_type": "code",
   "execution_count": 34,
   "metadata": {},
   "outputs": [
    {
     "name": "stdout",
     "output_type": "stream",
     "text": [
      "for inital :200.0\n",
      "for 1 itter :3360.0\n"
     ]
    },
    {
     "data": {
      "text/plain": [
       "100-element Array{Float64,1}:\n",
       " 0.0\n",
       " 0.0\n",
       " 0.0\n",
       " 0.0\n",
       " 0.0\n",
       " 0.0\n",
       " 0.0\n",
       " 0.0\n",
       " 0.0\n",
       " 0.0\n",
       " 0.0\n",
       " 0.0\n",
       " 0.0\n",
       " ⋮  \n",
       " 0.0\n",
       " 0.0\n",
       " 0.0\n",
       " 0.0\n",
       " 0.0\n",
       " 0.0\n",
       " 0.0\n",
       " 0.0\n",
       " 0.0\n",
       " 0.0\n",
       " 0.0\n",
       " 0.0"
      ]
     },
     "execution_count": 34,
     "metadata": {},
     "output_type": "execute_result"
    }
   ],
   "source": [
    "w =  1.9852\n",
    "λ_max,λ_min = eigMm(A, w)\n",
    "b_ = copy(b)\n",
    "sol_5 = k3_CB_ssor(A, b_, 1.9852, λ_max,λ_min, 1)"
   ]
  },
  {
   "cell_type": "markdown",
   "metadata": {},
   "source": [
    "# Richardson"
   ]
  },
  {
   "cell_type": "code",
   "execution_count": 35,
   "metadata": {},
   "outputs": [
    {
     "data": {
      "text/plain": [
       "k3_RCS (generic function with 1 method)"
      ]
     },
     "execution_count": 35,
     "metadata": {},
     "output_type": "execute_result"
    }
   ],
   "source": [
    "\n",
    "function itter_Richardson!(D::DiagonalIndices, x::AbstractVector, w, b::AbstractVector, max_itter)\n",
    "    A = D.matrix\n",
    "    T = eltype(x)\n",
    "    r =zeros(A.n)\n",
    "    fp = flop_counter(0)\n",
    "    for i = 1 : max_itter \n",
    "        f_mul!(fp, -one(T), D, x, b, r) # r <- b- Ax\n",
    "        \n",
    "        if norm(r) < 10^(-8)\n",
    "            println(\"Richardson_itter : \",i)\n",
    "            break\n",
    "        end \n",
    "        \n",
    "        sum!(fp, x, w*r, A) # x <- x +  wr\n",
    "\n",
    "        println(\"for 1 itter :\", fp.f)\n",
    "    end\n",
    "    x\n",
    "    \n",
    "end\n",
    "\n",
    "\n",
    "function k3_RCS(A, b::AbstractVector, w, maxiter)\n",
    "    x = zeros(A.n)\n",
    "    D = DiagonalIndices(A)\n",
    "    itter_Richardson!(D, x , w, b, maxiter)\n",
    "end\n",
    "\n"
   ]
  },
  {
   "cell_type": "code",
   "execution_count": 38,
   "metadata": {},
   "outputs": [
    {
     "name": "stdout",
     "output_type": "stream",
     "text": [
      "for 1 itter :1120.0\n"
     ]
    },
    {
     "data": {
      "text/plain": [
       "100-element Array{Float64,1}:\n",
       " -1.7315758115819326  \n",
       " -0.07997027726456443 \n",
       " -0.8717545788440997  \n",
       "  0.7733603550405481  \n",
       " -1.23025949718485    \n",
       " -0.6795623171595335  \n",
       " -0.010805773536428006\n",
       "  1.0184230151812865  \n",
       "  1.2922470361893663  \n",
       " -0.83611955576624    \n",
       "  0.5521943322533005  \n",
       "  0.05351062498107297 \n",
       " -1.0419308334324373  \n",
       "  ⋮                   \n",
       "  1.432654869366426   \n",
       " -0.8308116881216856  \n",
       " -0.49050481966992765 \n",
       " -0.8752173846676085  \n",
       "  0.41643854460137203 \n",
       " -0.16597548367272988 \n",
       " -1.0381618314231047  \n",
       "  0.3442747472946145  \n",
       "  0.9066603636859343  \n",
       "  1.851695590343076   \n",
       "  0.8408877379738464  \n",
       "  0.013748637305547661"
      ]
     },
     "execution_count": 38,
     "metadata": {},
     "output_type": "execute_result"
    }
   ],
   "source": [
    "\n",
    "b_ = copy(b)\n",
    "sol_3 = k3_RCS(A, b_, 1, 1)\n"
   ]
  },
  {
   "cell_type": "markdown",
   "metadata": {},
   "source": [
    "# Jacobi"
   ]
  },
  {
   "cell_type": "code",
   "execution_count": 39,
   "metadata": {},
   "outputs": [
    {
     "data": {
      "text/plain": [
       "k3_JCB (generic function with 1 method)"
      ]
     },
     "execution_count": 39,
     "metadata": {},
     "output_type": "execute_result"
    }
   ],
   "source": [
    "function mul_inv_d!(fp::flop_counter, D, r)\n",
    "    A = D.matrix\n",
    "    for idx in D.diag \n",
    "        r[A.rowval[idx]] *=  (1 / A.nzval[idx])\n",
    "        fp.f += 2\n",
    "    end\n",
    "end\n",
    "    \n",
    "\n",
    "function itter_JCB!(D::DiagonalIndices, x::AbstractVector, b::AbstractVector, max_itter)\n",
    "    A = D.matrix\n",
    "    T = eltype(x)\n",
    "    r =zeros(A.n)\n",
    "    fp = flop_counter(0)\n",
    "    for i = 1 : max_itter \n",
    "        f_mul!(fp, -one(T), D, x, b, r) # r <- b- Ax\n",
    "        \n",
    "        if norm(r) < 10^(-8)\n",
    "            println(\"Jacobi_itter : \",i)\n",
    "            break\n",
    "        end \n",
    "\n",
    "        mul_inv_d!(fp, D, r)# r <- D^-1*r\n",
    "        sum!(fp, x, r, A) # x <- x +  M^-1*r\n",
    "        \n",
    "        println(\"for 1 itter :\", fp.f)\n",
    "\n",
    "    end\n",
    "    x\n",
    "    \n",
    "end\n",
    "\n",
    "\n",
    "function k3_JCB(A, b::AbstractVector, maxiter)\n",
    "    x = zeros(A.n)\n",
    "    D = DiagonalIndices(A)\n",
    "    itter_JCB!(D, x , b, maxiter)\n",
    "end\n",
    "\n"
   ]
  },
  {
   "cell_type": "code",
   "execution_count": 40,
   "metadata": {},
   "outputs": [
    {
     "name": "stdout",
     "output_type": "stream",
     "text": [
      "for 1 itter :1320.0\n"
     ]
    },
    {
     "data": {
      "text/plain": [
       "100-element Array{Float64,1}:\n",
       " -0.8657446185600381   \n",
       " -0.0266558705591695   \n",
       " -0.290575173775574    \n",
       "  0.2577781924071024   \n",
       " -0.41007282996728434  \n",
       " -0.22651322194577964  \n",
       " -0.0036018044519942685\n",
       "  0.33946302295966346  \n",
       "  0.430734654241314    \n",
       " -0.418038875939323    \n",
       "  0.18405864212969583  \n",
       "  0.01337732181222294  \n",
       " -0.26047619645319803  \n",
       "  ⋮                    \n",
       "  0.35815476347251973  \n",
       " -0.27692799844061383  \n",
       " -0.24524014782757242  \n",
       " -0.2917294039090725   \n",
       "  0.13880822125974868  \n",
       " -0.05532331711367283  \n",
       " -0.34604240906073286  \n",
       "  0.11475442395073979  \n",
       "  0.3022100475603927   \n",
       "  0.617211289738034    \n",
       "  0.2802865697722897   \n",
       "  0.006873974954026129 "
      ]
     },
     "execution_count": 40,
     "metadata": {},
     "output_type": "execute_result"
    }
   ],
   "source": [
    "b_ = copy(b)\n",
    "sol_4 = k3_JCB(A, b_, 1)"
   ]
  },
  {
   "cell_type": "markdown",
   "metadata": {},
   "source": [
    "# Gauss-Seidal"
   ]
  },
  {
   "cell_type": "code",
   "execution_count": 47,
   "metadata": {},
   "outputs": [
    {
     "data": {
      "text/plain": [
       "k3_GS (generic function with 1 method)"
      ]
     },
     "execution_count": 47,
     "metadata": {},
     "output_type": "execute_result"
    }
   ],
   "source": [
    "\n",
    "function m_GS!(fp::flop_counter, A, D::DiagonalIndices)\n",
    "    @inbounds for col = 1 : A.n\n",
    "        for j = A.colptr[col] :  A.colptr[col + 1] - 1\n",
    "            if A.rowval[j] < col \n",
    "                A.nzval[j] = 0\n",
    "            end\n",
    "        end\n",
    "    end\n",
    "    \n",
    "end\n",
    "\n",
    "\n",
    "function itter_GS!(F::FastLowerTriangular, D::DiagonalIndices,\n",
    "                        x::AbstractVector, b::AbstractVector, max_itter)\n",
    "    A = D.matrix\n",
    "    T = eltype(x)\n",
    "    r =zeros(A.n)\n",
    "    \n",
    "    fp = flop_counter(0)\n",
    "    \n",
    "    for i = 1 : max_itter \n",
    "        f_mul!(fp, -one(T), D, x, b, r) # r <- b- Ax\n",
    "        \n",
    "        if norm(r) < 10^(-8)\n",
    "            println(\"Gauss_Seidal_itter : \",i)\n",
    "            break\n",
    "        end \n",
    "        \n",
    "        forward_sub!(fp, F, r)# r <- M_sor\\r\n",
    "        sum!(fp, x, r, A) # x <- x +  M_sor/b        \n",
    "        \n",
    "        println(\"for 1 itter :\", fp.f)\n",
    "\n",
    "    end\n",
    "    x\n",
    "    \n",
    "end\n",
    "\n",
    "\n",
    "function k3_GS(A, b::AbstractVector, maxiter)\n",
    "    x = zeros(A.n)\n",
    "    m_GS = copy(A)\n",
    "    D = DiagonalIndices(A)\n",
    "    fp_1 = flop_counter(0)\n",
    "    m_GS!(fp_1, m_GS, D)\n",
    "    println(\"for inital :\", fp_1.f)\n",
    "\n",
    "    D_GS = DiagonalIndices(m_GS)\n",
    "    itter_sor!(FastLowerTriangular(m_GS ,D_GS), D, x , b, maxiter)\n",
    "\n",
    "end\n",
    "\n"
   ]
  },
  {
   "cell_type": "code",
   "execution_count": 48,
   "metadata": {},
   "outputs": [
    {
     "name": "stdout",
     "output_type": "stream",
     "text": [
      "for inital :0.0\n",
      "1580.0"
     ]
    },
    {
     "data": {
      "text/plain": [
       "100-element Array{Float64,1}:\n",
       " -0.8657446185600383  \n",
       " -0.315227791015167   \n",
       " -0.3956476016996989  \n",
       "  0.12590005444513488 \n",
       " -0.36810754399510515 \n",
       " -0.3492116466633241  \n",
       " -0.12000180667302827 \n",
       "  0.2994637540442846  \n",
       "  0.5305525783252728  \n",
       " -0.15277584992798718 \n",
       " -0.1045132783263017  \n",
       " -0.09155532220704377 \n",
       " -0.38227388248773286 \n",
       "  ⋮                   \n",
       "  0.3152352895220627  \n",
       " -0.24494436890715673 \n",
       " -0.4227354907081954  \n",
       " -0.4157062431295673  \n",
       "  0.0926272029125421  \n",
       "  0.037779787711954504\n",
       " -0.40751183646561057 \n",
       " -0.17870870045265638 \n",
       "  0.21546113639977107 \n",
       "  0.6647657697800938  \n",
       "  0.6069427010019676  \n",
       "  0.18786409149560443 "
      ]
     },
     "execution_count": 48,
     "metadata": {},
     "output_type": "execute_result"
    }
   ],
   "source": [
    "b_ = copy(b)\n",
    "sol_4 = k3_GS(A, b_, 1)"
   ]
  },
  {
   "cell_type": "markdown",
   "metadata": {},
   "source": [
    "# Test"
   ]
  },
  {
   "cell_type": "code",
   "execution_count": 86,
   "metadata": {},
   "outputs": [
    {
     "data": {
      "text/plain": [
       "BenchmarkTools.Trial: \n",
       "  memory estimate:  3.91 MiB\n",
       "  allocs estimate:  256010\n",
       "  --------------\n",
       "  minimum time:     174.948 ms (0.00% GC)\n",
       "  median time:      182.340 ms (0.00% GC)\n",
       "  mean time:        185.055 ms (1.34% GC)\n",
       "  maximum time:     226.584 ms (22.32% GC)\n",
       "  --------------\n",
       "  samples:          28\n",
       "  evals/sample:     1"
      ]
     },
     "execution_count": 86,
     "metadata": {},
     "output_type": "execute_result"
    }
   ],
   "source": [
    "@benchmark ssor(A, b_, 1.6641, maxiter= 64000)"
   ]
  },
  {
   "cell_type": "code",
   "execution_count": 89,
   "metadata": {},
   "outputs": [
    {
     "data": {
      "text/plain": [
       "BenchmarkTools.Trial: \n",
       "  memory estimate:  36.89 KiB\n",
       "  allocs estimate:  33\n",
       "  --------------\n",
       "  minimum time:     3.112 ms (0.00% GC)\n",
       "  median time:      3.273 ms (0.00% GC)\n",
       "  mean time:        3.337 ms (1.31% GC)\n",
       "  maximum time:     54.598 ms (93.92% GC)\n",
       "  --------------\n",
       "  samples:          1497\n",
       "  evals/sample:     1"
      ]
     },
     "execution_count": 89,
     "metadata": {},
     "output_type": "execute_result"
    }
   ],
   "source": [
    "w = 1.6641\n",
    "λ_max,λ_min = eigMm(A, w)\n",
    "@benchmark k3_CB_ssor(A, b_, 1.6641, λ_max, λ_min, 1100)"
   ]
  },
  {
   "cell_type": "code",
   "execution_count": 90,
   "metadata": {},
   "outputs": [
    {
     "data": {
      "text/plain": [
       "BenchmarkTools.Trial: \n",
       "  memory estimate:  36.89 KiB\n",
       "  allocs estimate:  33\n",
       "  --------------\n",
       "  minimum time:     236.739 ms (0.00% GC)\n",
       "  median time:      240.880 ms (0.00% GC)\n",
       "  mean time:        243.286 ms (0.00% GC)\n",
       "  maximum time:     263.917 ms (0.00% GC)\n",
       "  --------------\n",
       "  samples:          21\n",
       "  evals/sample:     1"
      ]
     },
     "execution_count": 90,
     "metadata": {},
     "output_type": "execute_result"
    }
   ],
   "source": [
    "w = 1.6641\n",
    "λ_max,λ_min = eigMm(A, w)\n",
    "@benchmark k3_CB_ssor(A, b_, 1.6641, λ_max, λ_min, 80000)"
   ]
  },
  {
   "cell_type": "code",
   "execution_count": 85,
   "metadata": {},
   "outputs": [
    {
     "name": "stdout",
     "output_type": "stream",
     "text": [
      "Jacobi_itter : 680053\n",
      "ssor_itter : 63903\n",
      "sor_itter : 1725\n",
      "CB sor_itter : 1017\n",
      "CB sor_itter : 638\n"
     ]
    },
    {
     "data": {
      "text/plain": [
       "100-element Array{Float64,1}:\n",
       " -1115.024659132122 \n",
       " -1115.0836624743986\n",
       " -1114.573890655761 \n",
       " -1114.7073389924383\n",
       " -1114.1214348944284\n",
       " -1113.559149202011 \n",
       " -1113.6090264340335\n",
       " -1113.7986450854858\n",
       " -1113.3337172177296\n",
       " -1113.3125049903535\n",
       " -1115.8260199168164\n",
       " -1115.7777208225439\n",
       " -1115.101501247324 \n",
       "     ⋮              \n",
       " -1117.580131117082 \n",
       " -1118.060776607826 \n",
       " -1120.5001640232185\n",
       " -1120.5906476996554\n",
       " -1120.0388094047973\n",
       " -1119.9393941354429\n",
       " -1119.6723138345092\n",
       " -1119.052709286683 \n",
       " -1118.8129249830072\n",
       " -1118.036148446878 \n",
       " -1116.9604920304675\n",
       " -1118.0260757030715"
      ]
     },
     "execution_count": 85,
     "metadata": {},
     "output_type": "execute_result"
    }
   ],
   "source": [
    "sol_1 = sor(A,b , 1.9852 ,maxiter=100000)\n",
    "sol_2 = ssor(A,b , 1.6641 ,maxiter=100000)\n",
    "\n",
    "\n",
    "#b_ = copy(b)\n",
    "#sol_3 = k3_RCS(A, b_, 1, 100000)\n",
    "\n",
    "\n",
    "b_ = copy(b)\n",
    "sol_4 = k3_JCB(A, b_, 1000000)\n",
    "\n",
    "\n",
    "b_ = copy(b)\n",
    "sol_5 = k3_ssor(A, b_, 1.6641, 100000)\n",
    "\n",
    "b_ = copy(b)\n",
    "sol_6 = k3_sor(A, b_, 1.9852, 100000)\n",
    "\n",
    "b_ = copy(b)\n",
    "sol_7 = k3_CB_ssor(A, b_, 1, 100000)\n",
    "\n",
    "b_ = copy(b)\n",
    "sol_8 = k3_CB_ssor(A, b_, 1.6641, λ_max, λ_min, 80000)"
   ]
  },
  {
   "cell_type": "code",
   "execution_count": 83,
   "metadata": {},
   "outputs": [
    {
     "data": {
      "text/plain": [
       "100-element Array{Float64,1}:\n",
       " -1115.0246603755354\n",
       " -1115.0836637200284\n",
       " -1114.5738919030093\n",
       " -1114.7073402403676\n",
       " -1114.121436144546 \n",
       " -1113.5591504541803\n",
       " -1113.6090276880068\n",
       " -1113.7986463414118\n",
       " -1113.333718475241 \n",
       " -1113.3125062502306\n",
       " -1115.8260211619456\n",
       " -1115.7777220693695\n",
       " -1115.101502496146 \n",
       "     ⋮              \n",
       " -1117.5801323843825\n",
       " -1118.060777876408 \n",
       " -1120.500165278496 \n",
       " -1120.5906489563533\n",
       " -1120.0388106632456\n",
       " -1119.9393953954598\n",
       " -1119.6723150965565\n",
       " -1119.0527105505548\n",
       " -1118.812926248478 \n",
       " -1118.036149713508 \n",
       " -1116.9604932990276\n",
       " -1118.0260769732374"
      ]
     },
     "execution_count": 83,
     "metadata": {},
     "output_type": "execute_result"
    }
   ],
   "source": [
    "sol_6"
   ]
  },
  {
   "cell_type": "code",
   "execution_count": 23,
   "metadata": {},
   "outputs": [
    {
     "data": {
      "text/plain": [
       "10000-element Array{Float64,1}:\n",
       "  0.34491546859697686  \n",
       " -0.23558888716138957  \n",
       "  0.11987784530725726  \n",
       "  0.061503776626506614 \n",
       "  0.4064547871727671   \n",
       " -0.583143818730661    \n",
       " -0.14439710806145784  \n",
       " -0.14035840652493967  \n",
       " -0.1556705390981974   \n",
       "  0.13210616732317065  \n",
       "  0.5432297571465943   \n",
       " -0.0051115843476727905\n",
       "  0.4467627060253428   \n",
       "  ⋮                    \n",
       "  0.5524034380129357   \n",
       "  0.09440911968003189  \n",
       "  0.05395113042203955  \n",
       "  0.34440455505834605  \n",
       " -0.15987906883379494  \n",
       " -0.07044970309366055  \n",
       " -1.092756019743297    \n",
       " -0.7803666451224219   \n",
       " -0.8586800310875652   \n",
       " -0.37267263994381894  \n",
       " -0.4117121774759638   \n",
       " -0.3944917172390592   "
      ]
     },
     "execution_count": 23,
     "metadata": {},
     "output_type": "execute_result"
    }
   ],
   "source": [
    "sol_4"
   ]
  }
 ],
 "metadata": {
  "kernelspec": {
   "display_name": "Julia 1.2.0",
   "language": "julia",
   "name": "julia-1.2"
  },
  "language_info": {
   "file_extension": ".jl",
   "mimetype": "application/julia",
   "name": "julia",
   "version": "1.2.0"
  }
 },
 "nbformat": 4,
 "nbformat_minor": 4
}
