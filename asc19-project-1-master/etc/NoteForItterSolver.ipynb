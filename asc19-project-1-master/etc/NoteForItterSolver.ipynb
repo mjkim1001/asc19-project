{
 "cells": [
  {
   "cell_type": "markdown",
   "metadata": {},
   "source": [
    "# Review of julia itterative solver\n"
   ]
  },
  {
   "cell_type": "markdown",
   "metadata": {},
   "source": [
    "![ssor_image](algorithm_4.png)"
   ]
  },
  {
   "cell_type": "code",
   "execution_count": null,
   "metadata": {},
   "outputs": [],
   "source": [
    "\"\"\"\n",
    "struct SparseMatrixCSC{Tv,Ti<:Integer} <: AbstractSparseMatrix{Tv,Ti}\n",
    "    m::Int                  # Number of rows\n",
    "    n::Int                  # Number of columns\n",
    "    colptr::Vector{Ti}      # Column i is in colptr[i]:(colptr[i+1]-1)\n",
    "    rowval::Vector{Ti}      # Row indices of stored values\n",
    "    nzval::Vector{Tv}       # Stored values, typically nonzeros\n",
    "end\n",
    "\"\"\"\n"
   ]
  },
  {
   "cell_type": "code",
   "execution_count": 3,
   "metadata": {},
   "outputs": [
    {
     "data": {
      "text/plain": [
       "getindex (generic function with 200 methods)"
      ]
     },
     "execution_count": 3,
     "metadata": {},
     "output_type": "execute_result"
    }
   ],
   "source": [
    "  \n",
    "import LinearAlgebra: mul!, ldiv!\n",
    "import Base: getindex, iterate\n",
    "\n",
    "using SparseArrays\n",
    "\n",
    "struct DiagonalIndices{Tv, Ti <: Integer}\n",
    "    matrix::SparseMatrixCSC{Tv,Ti}\n",
    "    diag::Vector{Ti}\n",
    "\n",
    "    function DiagonalIndices{Tv,Ti}(A::SparseMatrixCSC{Tv,Ti}) where {Tv,Ti}\n",
    "        # Check square?\n",
    "        diag = Vector{Ti}(undef, A.n)\n",
    "\n",
    "        for col = 1 : A.n\n",
    "            r1 = Int(A.colptr[col])\n",
    "            r2 = Int(A.colptr[col + 1] - 1)\n",
    "            r1 = searchsortedfirst(A.rowval, col, r1, r2, Base.Order.Forward)\n",
    "            if r1 > r2 || A.rowval[r1] != col || iszero(A.nzval[r1])\n",
    "                throw(LinearAlgebra.SingularException(col))\n",
    "            end\n",
    "            diag[col] = r1\n",
    "        end \n",
    "\n",
    "        new(A, diag) #\n",
    "    end\n",
    "end\n",
    "\n",
    "DiagonalIndices(A::SparseMatrixCSC{Tv,Ti}) where {Tv,Ti} = DiagonalIndices{Tv,Ti}(A)\n",
    "#밖에서도 함수로 쓸수있게 따로 빼준건가?\n",
    "\n",
    "#DiagonalIndices 특징은 Sparse matrix의 nz diagonal element vector로 변환시키며,\n",
    "#diagonal term에 0이 있으면 안된다.\n",
    "#원 matrix을 담고 있는 구조체임.\n",
    "# A.nz는 col 순서대로 적어내린 values\n",
    "# A.row는 nz 기준 해당 row index\n",
    "# A.cor은 i에  해당하는 nz index 범위를 찍어줌\n",
    "\n",
    "@inline getindex(d::DiagonalIndices, i::Int) = d.diag[i]\n",
    "#get index를 선언해줘야 forwardsub!가 돌아갔음..\n",
    "\n",
    "\n"
   ]
  },
  {
   "cell_type": "code",
   "execution_count": 56,
   "metadata": {},
   "outputs": [
    {
     "data": {
      "text/plain": [
       "forward_sub!"
      ]
     },
     "execution_count": 56,
     "metadata": {},
     "output_type": "execute_result"
    }
   ],
   "source": [
    "\"\"\"\n",
    "Forward substitution for the FastLowerTriangular type\n",
    "\"\"\"\n",
    "function forward_sub!(F::FastLowerTriangular, x::AbstractVector)\n",
    "    A = F.matrix\n",
    "    @inbounds for col = 1 : A.n\n",
    "        idx = F.diag[col]\n",
    "        x[col] /= A.nzval[idx] # ok\n",
    "        for i = idx + 1 : (A.colptr[col + 1] - 1) #colptr인데 lower triangular이기 때문에 해당 col의 diagonal 아래 개수가나옴.\n",
    "            x[A.rowval[i]] -= A.nzval[i] * x[col] # 이 term으로 x[n] 계산할때 그이전텀들이 다 마이너스 되어서 있음. \n",
    "        end\n",
    "    end\n",
    "    x\n",
    "end\n",
    "#forward_sub!(s.ω, s.L, s.next, one(T) - s.ω, s.x)\n",
    "# solve  A(x- β × y) = α × b (여기서 b = x)\n",
    "function forward_sub!(α, F::FastLowerTriangular, x::AbstractVector, β, y::AbstractVector)\n",
    "    A = F.matrix\n",
    "\n",
    "    @inbounds for col = 1 : A.n\n",
    "\n",
    "        # Solve for diagonal element\n",
    "        idx = F.diag[col]\n",
    "        x[col] = α * x[col] / A.nzval[idx] + β * y[col]\n",
    "\n",
    "        # Substitute next values involving x[col]\n",
    "        for i = idx + 1 : (A.colptr[col + 1] - 1)\n",
    "            x[A.rowval[i]] -= A.nzval[i] * x[col]\n",
    "        end\n",
    "    end\n",
    "\n",
    "    x\n",
    "end\n",
    "\n",
    "#(α×A×X)+(β×y)  \n",
    "function mul!(α::T, O::OffDiagonal, x::AbstractVector, β::T, y::AbstractVector) where {T}\n",
    "    # Specialize for β = 0 and β = 1\n",
    "    A = O.matrix\n",
    "\n",
    "    if β != one(T)\n",
    "        if iszero(β)\n",
    "            fill!(y, zero(T))\n",
    "        else\n",
    "            lmul!(β, y) #그냥 베타 곱해주는 함수\n",
    "        end\n",
    "    end\n",
    "\n",
    "    @inbounds for col = 1 : A.n\n",
    "        αx = α * x[col]\n",
    "        diag_index = O.diag[col]\n",
    "        for j = A.colptr[col] : diag_index - 1 #off diagonal 이기때문에 해당 제외 데이터 개수\n",
    "            y[A.rowval[j]] += A.nzval[j] * αx #y를 솔루션이라고 하면 해당하는 \n",
    "        end\n",
    "        #off diagonal 하나 빼는게 힘들어서 이지랄/..\n",
    "        for j = diag_index + 1 : A.colptr[col + 1] - 1\n",
    "            y[A.rowval[j]] += A.nzval[j] * αx\n",
    "        end\n",
    "    end\n",
    "\n",
    "    y\n",
    "end\n",
    "\n",
    "# (α×U×X)+(β×y)\n",
    "function gauss_seidel_multiply!(α, U::StrictlyUpperTriangular, x::AbstractVector, β, y::AbstractVector, z::AbstractVector)\n",
    "    A = U.matrix\n",
    "\n",
    "    for col = 1 : A.n\n",
    "        αx = α * x[col]\n",
    "        diag_index = U.diag[col]\n",
    "        @inbounds for j = A.colptr[col] : diag_index - 1\n",
    "            z[A.rowval[j]] += A.nzval[j] * αx\n",
    "        end\n",
    "        z[col] = β * y[col] \n",
    "        #위에서 j = A.colptr[col] : diag_index - 1 만 건드리기때문에 β 곱하는게 우선시 됨.\n",
    "    end\n",
    "    z\n",
    "end\n"
   ]
  },
  {
   "cell_type": "markdown",
   "metadata": {},
   "source": [
    "## Test code for forwardsub "
   ]
  },
  {
   "cell_type": "code",
   "execution_count": 65,
   "metadata": {},
   "outputs": [
    {
     "data": {
      "text/plain": [
       "\"matrix A\""
      ]
     },
     "metadata": {},
     "output_type": "display_data"
    },
    {
     "data": {
      "text/plain": [
       "4×4 Array{Float64,2}:\n",
       " 1.0  2.0  3.0   0.0\n",
       " 1.0  1.0  0.0   0.0\n",
       " 0.0  1.0  4.0   1.0\n",
       " 1.0  0.0  0.0  10.0"
      ]
     },
     "metadata": {},
     "output_type": "display_data"
    },
    {
     "data": {
      "text/plain": [
       "\"matrix A diag\""
      ]
     },
     "metadata": {},
     "output_type": "display_data"
    },
    {
     "data": {
      "text/plain": [
       "4-element Array{Int64,1}:\n",
       "  1\n",
       "  5\n",
       "  8\n",
       " 10"
      ]
     },
     "metadata": {},
     "output_type": "display_data"
    },
    {
     "data": {
      "text/plain": [
       "4×4 Array{Float64,2}:\n",
       " 1.0  0.0  0.0   0.0\n",
       " 1.0  1.0  0.0   0.0\n",
       " 0.0  1.0  4.0   0.0\n",
       " 1.0  0.0  0.0  10.0"
      ]
     },
     "metadata": {},
     "output_type": "display_data"
    },
    {
     "data": {
      "text/plain": [
       "4-element Array{Float64,1}:\n",
       " 1.1\n",
       " 2.0\n",
       " 3.0\n",
       " 4.0"
      ]
     },
     "metadata": {},
     "output_type": "display_data"
    }
   ],
   "source": [
    "\n",
    "struct FastLowerTriangular{Tv,Ti}\n",
    "    matrix::SparseMatrixCSC{Tv,Ti}\n",
    "    diag::DiagonalIndices{Tv,Ti}\n",
    "end\n",
    " \n",
    "A = sparse([1.0 2 3 0; 1 1 0 0;0 1 4 1; 1 0 0 10])\n",
    "Da = DiagonalIndices(A)\n",
    "\n",
    "display(\"matrix A\")\n",
    "display(Matrix(A))\n",
    "display(\"matrix A diag\")\n",
    "display(Da.diag)\n",
    "\n",
    "\n",
    "A_temp = LowerTriangular(A)\n",
    "#A_temp = UpperTriangular(A)\n",
    "A_temp = sparse(A_temp)\n",
    "D_a = DiagonalIndices(A_temp)\n",
    "LT = FastLowerTriangular(D_a.matrix,D_a)\n",
    "b = [1.1 ;2.0 ;3.0 ;4.0]\n",
    "display(Matrix(A_temp))\n",
    "display(b)\n"
   ]
  },
  {
   "cell_type": "code",
   "execution_count": 45,
   "metadata": {},
   "outputs": [
    {
     "data": {
      "text/plain": [
       "4×4 Array{Float64,2}:\n",
       " 1.0  0.0  0.0   0.0\n",
       " 0.0  1.0  0.0   0.0\n",
       " 0.0  1.0  4.0   0.0\n",
       " 1.0  0.0  0.0  10.0"
      ]
     },
     "execution_count": 45,
     "metadata": {},
     "output_type": "execute_result"
    }
   ],
   "source": [
    "Matrix(LT.matrix)"
   ]
  },
  {
   "cell_type": "code",
   "execution_count": 52,
   "metadata": {},
   "outputs": [
    {
     "data": {
      "text/plain": [
       "DiagonalIndices{Float64,Int64}(\n",
       "  [1, 1]  =  1.0\n",
       "  [4, 1]  =  1.0\n",
       "  [2, 2]  =  1.0\n",
       "  [3, 2]  =  1.0\n",
       "  [3, 3]  =  4.0\n",
       "  [4, 4]  =  10.0, [1, 3, 5, 6])"
      ]
     },
     "execution_count": 52,
     "metadata": {},
     "output_type": "execute_result"
    }
   ],
   "source": [
    "LT.diag"
   ]
  },
  {
   "cell_type": "code",
   "execution_count": 51,
   "metadata": {},
   "outputs": [
    {
     "data": {
      "text/plain": [
       "6"
      ]
     },
     "execution_count": 51,
     "metadata": {},
     "output_type": "execute_result"
    }
   ],
   "source": [
    "LT.diag[4]"
   ]
  },
  {
   "cell_type": "code",
   "execution_count": 47,
   "metadata": {},
   "outputs": [
    {
     "data": {
      "text/plain": [
       "1"
      ]
     },
     "execution_count": 47,
     "metadata": {},
     "output_type": "execute_result"
    }
   ],
   "source": [
    "LT.diag[1]"
   ]
  },
  {
   "cell_type": "markdown",
   "metadata": {},
   "source": [
    "## SOR logic review"
   ]
  },
  {
   "cell_type": "markdown",
   "metadata": {},
   "source": [
    "![itter](./sub_file/itter.png)"
   ]
  },
  {
   "cell_type": "markdown",
   "metadata": {},
   "source": [
    "![itter](./sub_file/sor_ssor.png)"
   ]
  },
  {
   "cell_type": "code",
   "execution_count": 59,
   "metadata": {},
   "outputs": [
    {
     "ename": "UndefVarError",
     "evalue": "UndefVarError: StrictlyUpperTriangular not defined",
     "output_type": "error",
     "traceback": [
      "UndefVarError: StrictlyUpperTriangular not defined",
      "",
      "Stacktrace:",
      " [1] top-level scope at C:\\Users\\cobook\\.julia\\packages\\IJulia\\F1GUo\\src\\kernel.jl:52"
     ]
    }
   ],
   "source": [
    "\n",
    "mutable struct SORIterable{T, solT, vecT, rhsT, numT <: Real}\n",
    "    U::StrictlyUpperTriangular\n",
    "    L::FastLowerTriangular\n",
    "    ω::numT\n",
    "\n",
    "    x::solT\n",
    "    next::vecT\n",
    "    b::rhsT\n",
    "\n",
    "    maxiter::Int\n",
    "end\n",
    "\n",
    "start(::SORIterable) = 1\n",
    "done(s::SORIterable, iteration::Int) = iteration > s.maxiter\n",
    "function iterate(s::SORIterable{T}, iteration::Int=start(s)) where {T}\n",
    "    if done(s, iteration) return nothing end\n",
    "\n",
    "    # next = b - U * x\n",
    "    gauss_seidel_multiply!(-one(T), s.U, s.x, one(T), s.b, s.next)\n",
    "\n",
    "    # next = ω * inv(L) * next(residual) + (1 - ω) * x\n",
    "    #  w * l * (x_next - (1-w)* x)  = w * residual\n",
    "    forward_sub!(s.ω, s.L, s.next, one(T) - s.ω, s.x)\n",
    "    # solve α × A(x- β × y) = b \n",
    "    # (α, F::FastLowerTriangular, x::AbstractVector, β, y::AbstractVector)\n",
    "\n",
    "\n",
    "    # Switch current and next iterate\n",
    "    s.x, s.next = s.next, s.x\n",
    "\n",
    "    nothing, iteration + 1\n",
    "end\n",
    "\n",
    "function sor_iterable(x::AbstractVector, A::SparseMatrixCSC, b::AbstractVector, ω::Real; maxiter::Int = 10)\n",
    "    D = DiagonalIndices(A)\n",
    "    T = eltype(x)\n",
    "    SORIterable{T,typeof(x),typeof(x),typeof(b),eltype(ω)}(\n",
    "        StrictlyUpperTriangular(A, D), FastLowerTriangular(A, D), ω,\n",
    "        x, similar(x), b, maxiter\n",
    "    ) #해당 타입 반환\n",
    "end\n",
    "\n",
    "\"\"\"\n",
    "    sor!(x, A::SparseMatrixCSC, b, ω::Real; maxiter=10)\n",
    "Performs exactly `maxiter` SOR iterations with relaxation parameter `ω`.\n",
    "Allocates a temporary vector and precomputes the diagonal indices.\n",
    "Throws `LinearAlgebra.SingularException` when the diagonal has a zero. This check\n",
    "is performed once beforehand.\n",
    "\"\"\"\n",
    "function sor!(x::AbstractVector, A::SparseMatrixCSC, b::AbstractVector, ω::Real; maxiter::Int = 10)\n",
    "    iterable = sor_iterable(x, A, b, ω, maxiter = maxiter)\n",
    "    for item = iterable end\n",
    "    iterable.x\n",
    "end\n",
    "\n",
    "\n",
    "\"\"\"\n",
    "for element in EveryNth(2, 0, 10)!\n",
    "           println(element)\n",
    "end\n",
    "\n",
    "which equivalent to\n",
    "\n",
    "let iterable = EveryNth(2, 0, 10), state = start(iterable)\n",
    "   while !done(iterable, state)\n",
    "       (element, state) = next(iterable, state)\n",
    "       println(element)\n",
    "   end\n",
    "end\n",
    "\n",
    "\"\"\"\n",
    "\n"
   ]
  },
  {
   "cell_type": "markdown",
   "metadata": {},
   "source": [
    "# miscellaneous"
   ]
  },
  {
   "cell_type": "code",
   "execution_count": 6,
   "metadata": {},
   "outputs": [
    {
     "data": {
      "text/plain": [
       "\"matrix A_\""
      ]
     },
     "metadata": {},
     "output_type": "display_data"
    },
    {
     "data": {
      "text/plain": [
       "4×4 Array{Float64,2}:\n",
       " 1.0  0.0  3.0   0.0\n",
       " 2.0  1.0  0.0   0.0\n",
       " 0.0  1.0  4.0   1.0\n",
       " 0.0  0.0  1.0  10.0"
      ]
     },
     "metadata": {},
     "output_type": "display_data"
    },
    {
     "data": {
      "text/plain": [
       "\"matrix A_ diag\""
      ]
     },
     "metadata": {},
     "output_type": "display_data"
    },
    {
     "data": {
      "text/plain": [
       "4-element Array{Int64,1}:\n",
       " 1\n",
       " 3\n",
       " 6\n",
       " 9"
      ]
     },
     "metadata": {},
     "output_type": "display_data"
    },
    {
     "data": {
      "text/plain": [
       "\"matrix A\""
      ]
     },
     "metadata": {},
     "output_type": "display_data"
    },
    {
     "data": {
      "text/plain": [
       "4×4 Array{Float64,2}:\n",
       " 1.0  2.0  3.0   0.0\n",
       " 0.0  1.0  0.0   0.0\n",
       " 0.0  1.0  4.0   1.0\n",
       " 1.0  0.0  0.0  10.0"
      ]
     },
     "metadata": {},
     "output_type": "display_data"
    },
    {
     "data": {
      "text/plain": [
       "\"matrix A diag\""
      ]
     },
     "metadata": {},
     "output_type": "display_data"
    },
    {
     "data": {
      "text/plain": [
       "4-element Array{Int64,1}:\n",
       " 1\n",
       " 4\n",
       " 7\n",
       " 9"
      ]
     },
     "metadata": {},
     "output_type": "display_data"
    }
   ],
   "source": [
    "import LinearAlgebra: mul!, ldiv!\n",
    "import Base: getindex, iterate\n",
    "using LinearAlgebra\n",
    "\n",
    "A_ = sparse([1.0 0 3 0; 2 1 0 0;0 1 4 1; 0 0 1 10])\n",
    "Da_ = DiagonalIndices(A_)\n",
    "\n",
    "display(\"matrix A_\")\n",
    "display(Matrix(A_))\n",
    "display(\"matrix A_ diag\")\n",
    "display(Da_.diag)\n",
    "\n",
    "A = sparse([1.0 2 3 0; 0 1 0 0;0 1 4 1; 1 0 0 10])\n",
    "Da = DiagonalIndices(A)\n",
    "\n",
    "display(\"matrix A\")\n",
    "display(Matrix(A))\n",
    "display(\"matrix A diag\")\n",
    "display(Da.diag)\n",
    "\n",
    "\n",
    "#A.colptr #col_i에서 매칭된 element 개수와 위치 with A.nzval[col[i] : col[i+1]-1]\n",
    "#A.diag는 col base counting에서 n-th diag elment까지 nz element의 개수(자기 포함)\n",
    "#diag는 nzval map을 이용해서 diag로 접근가능\n",
    "#get index 참고하면 알 수 있음."
   ]
  },
  {
   "cell_type": "code",
   "execution_count": 74,
   "metadata": {},
   "outputs": [
    {
     "data": {
      "text/plain": [
       "9-element Array{Int64,1}:\n",
       " 1\n",
       " 4\n",
       " 1\n",
       " 2\n",
       " 3\n",
       " 1\n",
       " 3\n",
       " 3\n",
       " 4"
      ]
     },
     "execution_count": 74,
     "metadata": {},
     "output_type": "execute_result"
    }
   ],
   "source": [
    "A.rowval"
   ]
  },
  {
   "cell_type": "code",
   "execution_count": null,
   "metadata": {},
   "outputs": [],
   "source": []
  },
  {
   "cell_type": "code",
   "execution_count": null,
   "metadata": {
    "jupyter": {
     "source_hidden": true
    }
   },
   "outputs": [],
   "source": []
  },
  {
   "cell_type": "code",
   "execution_count": null,
   "metadata": {},
   "outputs": [],
   "source": []
  },
  {
   "cell_type": "code",
   "execution_count": null,
   "metadata": {},
   "outputs": [],
   "source": []
  },
  {
   "cell_type": "markdown",
   "metadata": {},
   "source": [
    "The following two types are equivalent – one with a default constructor, the other with an explicit constructor:\n",
    "\n",
    "~~~\n",
    "julia> struct T1\n",
    "           x::Int64\n",
    "       end\n",
    "\n",
    "julia> struct T2\n",
    "           x::Int64\n",
    "           T2(x) = new(x)\n",
    "       end\n",
    "~~~\n"
   ]
  },
  {
   "cell_type": "markdown",
   "metadata": {},
   "source": [
    "# Acc_poly algorithm"
   ]
  },
  {
   "cell_type": "markdown",
   "metadata": {},
   "source": [
    "![acc1](./sub_file/acc_1.png)\n"
   ]
  },
  {
   "cell_type": "markdown",
   "metadata": {},
   "source": [
    "![acc2](./sub_file/acc_2.png)\n"
   ]
  },
  {
   "cell_type": "markdown",
   "metadata": {},
   "source": [
    "![acc3](./sub_file/acc_3.png)\n"
   ]
  },
  {
   "cell_type": "markdown",
   "metadata": {},
   "source": []
  }
 ],
 "metadata": {
  "kernelspec": {
   "display_name": "Julia 1.2.0",
   "language": "julia",
   "name": "julia-1.2"
  },
  "language_info": {
   "file_extension": ".jl",
   "mimetype": "application/julia",
   "name": "julia",
   "version": "1.2.0"
  }
 },
 "nbformat": 4,
 "nbformat_minor": 4
}
