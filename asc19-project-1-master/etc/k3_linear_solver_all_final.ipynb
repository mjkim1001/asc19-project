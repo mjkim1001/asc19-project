{
 "cells": [
  {
   "cell_type": "markdown",
   "metadata": {},
   "source": [
    "# julia itteration solver sparse src"
   ]
  },
  {
   "cell_type": "code",
   "execution_count": null,
   "metadata": {},
   "outputs": [],
   "source": [
    "#copyright kkk"
   ]
  },
  {
   "cell_type": "code",
   "execution_count": 1,
   "metadata": {},
   "outputs": [
    {
     "name": "stderr",
     "output_type": "stream",
     "text": [
      "┌ Info: Recompiling stale cache file C:\\Users\\cobook\\.julia\\compiled\\v1.2\\BenchmarkTools\\ZXPQo.ji for BenchmarkTools [6e4b80f9-dd63-53aa-95a3-0cdb28fa8baf]\n",
      "└ @ Base loading.jl:1240\n",
      "┌ Info: Recompiling stale cache file C:\\Users\\cobook\\.julia\\compiled\\v1.2\\MatrixDepot\\90RGs.ji for MatrixDepot [b51810bb-c9f3-55da-ae3c-350fc1fbce05]\n",
      "└ @ Base loading.jl:1240\n"
     ]
    },
    {
     "name": "stdout",
     "output_type": "stream",
     "text": [
      "include group.jl for user defined matrix generators\n",
      "verify download of index files...\n",
      "used remote site is https://sparse.tamu.edu/?per_page=All\n",
      "populating internal database...\n"
     ]
    },
    {
     "data": {
      "text/plain": [
       "backward_sub! (generic function with 1 method)"
      ]
     },
     "execution_count": 1,
     "metadata": {},
     "output_type": "execute_result"
    }
   ],
   "source": [
    "import LinearAlgebra: mul!, ldiv!\n",
    "import Base: getindex, iterate\n",
    "using SparseArrays, Arpack, LinearAlgebra\n",
    "using BenchmarkTools, IterativeSolvers, MatrixDepot, Random\n",
    "\n",
    "\n",
    "struct DiagonalIndices{Tv, Ti <: Integer}\n",
    "    matrix::SparseMatrixCSC{Tv,Ti}\n",
    "    diag::Vector{Ti}\n",
    "\n",
    "    function DiagonalIndices{Tv,Ti}(A::SparseMatrixCSC{Tv,Ti}) where {Tv,Ti}\n",
    "        # Check square?\n",
    "        diag = Vector{Ti}(undef, A.n)\n",
    "\n",
    "        for col = 1 : A.n\n",
    "            r1 = Int(A.colptr[col])\n",
    "            r2 = Int(A.colptr[col + 1] - 1)\n",
    "            r1 = searchsortedfirst(A.rowval, col, r1, r2, Base.Order.Forward)\n",
    "            if r1 > r2 || A.rowval[r1] != col || iszero(A.nzval[r1])\n",
    "                throw(LinearAlgebra.SingularException(col))\n",
    "            end\n",
    "            diag[col] = r1\n",
    "        end \n",
    "\n",
    "        new(A, diag) #\n",
    "    end\n",
    "end\n",
    "\n",
    "DiagonalIndices(A::SparseMatrixCSC{Tv,Ti}) where {Tv,Ti} = DiagonalIndices{Tv,Ti}(A)\n",
    "@inline getindex(d::DiagonalIndices, i::Int) = d.diag[i]\n",
    "\n",
    "\n",
    "struct FastLowerTriangular{Tv,Ti}\n",
    "    matrix::SparseMatrixCSC{Tv,Ti}\n",
    "    diag::DiagonalIndices{Tv,Ti}\n",
    "end\n",
    "\n",
    "struct FastUpperTriangular{Tv,Ti}\n",
    "    matrix::SparseMatrixCSC{Tv,Ti}\n",
    "    diag::DiagonalIndices{Tv,Ti}\n",
    "end\n",
    "\n",
    "struct StrictlyUpperTriangular{Tv,Ti}\n",
    "    matrix::SparseMatrixCSC{Tv,Ti}\n",
    "    diag::DiagonalIndices{Tv,Ti}\n",
    "end\n",
    "\n",
    "struct StrictlyLowerTriangular{Tv,Ti}\n",
    "    matrix::SparseMatrixCSC{Tv,Ti}\n",
    "    diag::DiagonalIndices{Tv,Ti}\n",
    "end\n",
    "\n",
    "struct OffDiagonal{Tv,Ti}\n",
    "    matrix::SparseMatrixCSC{Tv,Ti}\n",
    "    diag::DiagonalIndices{Tv,Ti}\n",
    "end\n",
    "\n",
    "\n",
    "function forward_sub!(F::FastLowerTriangular, x::AbstractVector)\n",
    "    A = F.matrix\n",
    "    @inbounds for col = 1 : A.n\n",
    "        idx = F.diag[col]\n",
    "        x[col] /= A.nzval[idx] # ok\n",
    "        for i = idx + 1 : (A.colptr[col + 1] - 1) #colptr인데 lower triangular이기 때문에 해당 col의 diagonal 아래 개수가나옴.\n",
    "            x[A.rowval[i]] -= A.nzval[i] * x[col] # 이 term으로 x[n] 계산할때 그이전텀들이 다 마이너스 되어서 있음. \n",
    "        end\n",
    "    end\n",
    "    x\n",
    "end\n",
    "\n",
    "function backward_sub!(F::FastUpperTriangular, x::AbstractVector)\n",
    "    A = F.matrix\n",
    "\n",
    "    @inbounds for col = A.n : -1 : 1\n",
    "\n",
    "        # Solve for diagonal element\n",
    "        idx = F.diag[col]\n",
    "        x[col] = x[col] / A.nzval[idx]\n",
    "\n",
    "        # Substitute next values involving x[col]\n",
    "        for i = A.colptr[col] : idx - 1\n",
    "            x[A.rowval[i]] -= A.nzval[i] * x[col]\n",
    "        end\n",
    "    end\n",
    "\n",
    "    x\n",
    "end\n",
    "\n",
    "\n"
   ]
  },
  {
   "cell_type": "markdown",
   "metadata": {},
   "source": [
    "## Matrix Generator"
   ]
  },
  {
   "cell_type": "code",
   "execution_count": 2,
   "metadata": {},
   "outputs": [
    {
     "data": {
      "text/plain": [
       "gen_Ab_temp (generic function with 1 method)"
      ]
     },
     "execution_count": 2,
     "metadata": {},
     "output_type": "execute_result"
    }
   ],
   "source": [
    "using BenchmarkTools, IterativeSolvers, LinearAlgebra, MatrixDepot, Random\n",
    "\n",
    "\n",
    "using LinearAlgebra\n",
    "using SparseArrays\n",
    "\n",
    "function cartesianidx(k::Int, n::Int)\n",
    "    \"\"\"\n",
    "    {s_i} are on a regular 10 by 10 lattice over the two dimensional domain\n",
    "    S = [1, 10] \\times [1, 10].\n",
    "    output gives a cartesian index (i, j) of s_k, i.e., \n",
    "    S = [s01 s11 s21 ... s91\n",
    "         s02 s12 s22 ... s92\n",
    "         s03 s13 s23 ... s93\n",
    "            ... ... \n",
    "         s10 s20 s30 ... s100]\n",
    "    \"\"\"\n",
    "    if k % n == 0\n",
    "        [n; k ÷ n]\n",
    "    else\n",
    "        [k % n; k ÷ n + 1]\n",
    "    end\n",
    "end\n",
    "\n",
    "\"\"\"\n",
    "n_i is the number of points neighbouring s_i, i.e., with distance 1from s_i\n",
    "N[i, j] = n_k, where cartesianindex(k, 10) = (i, j)\n",
    "\"\"\"\n",
    "\n",
    "function gen_Ab(n)\n",
    "    #n = 10\n",
    "    N = 4 * ones(n, n);\n",
    "    for k in 1:n\n",
    "        N[1, k] -= 1\n",
    "        N[k, 1] -= 1\n",
    "        N[n, k] -= 1\n",
    "        N[k, n] -= 1\n",
    "    end\n",
    "\n",
    "    \"\"\"\n",
    "    6.1 A 10 by 10 lattice example (n = 100)\n",
    "    \"\"\"\n",
    "    A = zeros(n^2, n^2)\n",
    "    for i in 1:n^2\n",
    "        for j in 1:n^2\n",
    "            if i == j\n",
    "                A[i, j] = 0.0001 + N[i]\n",
    "            elseif norm(cartesianidx(i, n)-cartesianidx(j, n)) <= 1.0\n",
    "                A[i, j] = -1.0\n",
    "            else\n",
    "                A[i, j] = 0.0\n",
    "            end\n",
    "        end\n",
    "    end\n",
    "\n",
    "    A = sparse(A)\n",
    "    b = randn(n^2)\n",
    "    \n",
    "    (A,b)\n",
    "end\n",
    "\n",
    "\n",
    "\n",
    "function gen_Ab_temp(n)\n",
    "    #n = 100\n",
    "    # Poisson matrix of dimension n^2=10000, pd and sparse\n",
    "    A = matrixdepot(\"poisson\", n)\n",
    "    @show typeof(A)\n",
    "    # dense matrix representation of A\n",
    "    #Afull = convert(Matrix, A)\n",
    "    #@show typeof(Afull)\n",
    "    # sparsity level\n",
    "    count(!iszero, A) / length(A)\n",
    "    b = randn(n^2)\n",
    "    (A,b)\n",
    "end"
   ]
  },
  {
   "cell_type": "markdown",
   "metadata": {},
   "source": [
    "# K3 src"
   ]
  },
  {
   "cell_type": "markdown",
   "metadata": {},
   "source": [
    "# SOR"
   ]
  },
  {
   "cell_type": "code",
   "execution_count": 3,
   "metadata": {},
   "outputs": [
    {
     "data": {
      "text/plain": [
       "k3_sor (generic function with 1 method)"
      ]
     },
     "execution_count": 3,
     "metadata": {},
     "output_type": "execute_result"
    }
   ],
   "source": [
    "function f_mul!(α::T, O::DiagonalIndices, x::AbstractVector, b::AbstractVector, r::AbstractVector  ) where {T}\n",
    "    A = O.matrix\n",
    "    r[:] = b\n",
    "    @inbounds for col = 1 : A.n\n",
    "        αx = α * x[col]\n",
    "        diag_index = O.diag[col]\n",
    "        for j = A.colptr[col] : A.colptr[col + 1] - 1\n",
    "            r[A.rowval[j]] += A.nzval[j] * αx \n",
    "        end\n",
    "    end\n",
    "    r\n",
    "end\n",
    "\n",
    "function sum!(z, r, A::SparseMatrixCSC)\n",
    "    @inbounds for i =1: A.n\n",
    "        z[i] += r[i]\n",
    "    end\n",
    "end\n",
    "\n",
    "\n",
    "function m_sor!(A, D::DiagonalIndices, w)\n",
    "    for d_idx in D.diag \n",
    "        A.nzval[d_idx]  *= (1/w)\n",
    "    end\n",
    "    @inbounds for col = 1 : A.n\n",
    "        for j = A.colptr[col] :  A.colptr[col + 1] - 1\n",
    "            if A.rowval[j] < col \n",
    "                A.nzval[j] = 0\n",
    "            end\n",
    "        end\n",
    "    end\n",
    "    \n",
    "end\n",
    "\n",
    "\n",
    "function itter_sor!(F::FastLowerTriangular, D::DiagonalIndices,\n",
    "                        x::AbstractVector, b::AbstractVector, max_itter)\n",
    "    A = D.matrix\n",
    "    T = eltype(x)\n",
    "    r =zeros(A.n)\n",
    "    \n",
    "    for i = 1 : max_itter \n",
    "        f_mul!(-one(T), D, x, b, r) # r <- b- Ax\n",
    "        \n",
    "        if norm(r) < 10^(-8)\n",
    "            println(\"sor_itter : \",i)\n",
    "            break\n",
    "        end \n",
    "        \n",
    "        forward_sub!(F, r)# r <- M_sor\\r\n",
    "        sum!(x, r, A) # x <- x +  M_sor/b        \n",
    "    end\n",
    "    x\n",
    "    \n",
    "end\n",
    "\n",
    "function k3_sor(A, b::AbstractVector, w, maxiter)\n",
    "    x = zeros(A.n)\n",
    "    m_sor = copy(A)\n",
    "    D = DiagonalIndices(A)\n",
    "    m_sor!(m_sor, D, w)\n",
    "    D_ms = DiagonalIndices(m_sor)\n",
    "    itter_sor!(FastLowerTriangular(m_sor ,D_ms), D, x , b, maxiter)\n",
    "end\n",
    "\n"
   ]
  },
  {
   "cell_type": "markdown",
   "metadata": {},
   "source": [
    "# SSOR"
   ]
  },
  {
   "cell_type": "code",
   "execution_count": 12,
   "metadata": {},
   "outputs": [
    {
     "data": {
      "text/plain": [
       "k3_ssor (generic function with 1 method)"
      ]
     },
     "execution_count": 12,
     "metadata": {},
     "output_type": "execute_result"
    }
   ],
   "source": [
    "function gamma_sqrt_diag_mul!( D::DiagonalIndices, b::AbstractVector, w ,b_c)\n",
    "    A = D.matrix\n",
    "    for idx in D.diag \n",
    "        b[A.rowval[idx]] *=  sqrt( b_c * ((2/w) -1) * A.nzval[idx])\n",
    "    end\n",
    "end\n",
    "\n",
    "function sum2!(x,y,z, A::SparseMatrixCSC)\n",
    "    @inbounds for i =1: A.n\n",
    "        x[i] =y[i]+z[i]\n",
    "    end\n",
    "end\n",
    "\n",
    "function itter_ssor!(F::FastLowerTriangular, U::FastUpperTriangular, D::DiagonalIndices,\n",
    "                        D_t::DiagonalIndices, x::AbstractVector, b::AbstractVector\n",
    "                        , w,  max_itter)\n",
    "    \n",
    "    A = D.matrix\n",
    "    A_t = D_t.matrix\n",
    "    #symetric일때도 필요한지 고려 diag정의는 새로필요한거 같음\n",
    "    \n",
    "    T = eltype(b)\n",
    "    r = zeros(A.n)\n",
    "    y = zeros(A.n)\n",
    "        \n",
    "    for i = 1 : max_itter \n",
    "        f_mul!(-one(T), D, x, b, r) # r_1 <-  γ * D^(1/2) * b- Ay\n",
    "\n",
    "        \"\"\"\n",
    "        if norm(r) < 10^(-8)\n",
    "            println(\"ssor_itter : \",i)\n",
    "            break\n",
    "        end \n",
    "        \n",
    "        \"\"\"\n",
    "        \n",
    "        gamma_sqrt_diag_mul!(D,r,w,1)\n",
    "        forward_sub!(F, r) #r_1 <- m_sor\\r_1\n",
    "        gamma_sqrt_diag_mul!(D,r,w,1)\n",
    "        backward_sub!(U, r)\n",
    "        sum!(x, r, A)\n",
    "\n",
    "    end\n",
    "    x\n",
    "end\n",
    "\n",
    "\n",
    "\n",
    "function k3_ssor(A, b::AbstractVector, w, maxiter)\n",
    "    x = zeros(A.n)\n",
    "    m_sor = copy(A)\n",
    "    D = DiagonalIndices(A)\n",
    "    D_t = DiagonalIndices(sparse(A'))\n",
    "    \n",
    "    m_sor!(m_sor, D, w)\n",
    "    \n",
    "    D_ms = DiagonalIndices(m_sor)\n",
    "    m_sor_t = sparse(m_sor')\n",
    "    D_ms_t = DiagonalIndices(m_sor_t)\n",
    "    \n",
    "    itter_ssor!(FastLowerTriangular(m_sor ,D_ms), FastUpperTriangular(m_sor_t,D_ms_t),\n",
    "                    D, D_t, x , b, w, maxiter)\n",
    "end\n"
   ]
  },
  {
   "cell_type": "markdown",
   "metadata": {},
   "source": [
    "# Cheby_SSOR"
   ]
  },
  {
   "cell_type": "code",
   "execution_count": 5,
   "metadata": {},
   "outputs": [
    {
     "data": {
      "text/plain": [
       "k3_CB_ssor (generic function with 1 method)"
      ]
     },
     "execution_count": 5,
     "metadata": {},
     "output_type": "execute_result"
    }
   ],
   "source": [
    "mutable struct CB_variable\n",
    "    β::Float64\n",
    "    α::Float64\n",
    "    b::Float64\n",
    "    a::Float64\n",
    "    κ::Float64\n",
    "end\n",
    "\n",
    "function mul_sum!(x_next, x, x_pre, r, α, τ, A)\n",
    "    for i = 1:A.n \n",
    "        x_next[i] = (1-α)*x_pre[i] + α*x[i] + (τ*α*r[i])\n",
    "    end\n",
    "    # x\n",
    "end\n",
    "\n",
    "\n",
    "\n",
    "function sum2!(x_next, x, r, A)\n",
    "    for i = 1:A.n \n",
    "        x_next[i] = x[i] + r[i]\n",
    "    end\n",
    "    # x\n",
    "end\n",
    "\n",
    "function sum3!(w_v, x_temp , x, r, A)\n",
    "    for i = 1:A.n \n",
    "        w_v[i] = x_temp[i] - x[i] + r[i]\n",
    "    end\n",
    "    # x\n",
    "end\n",
    "\n",
    "function eigMm(A::SparseMatrixCSC, ω::Real)\n",
    "\n",
    "    Dw = sqrt((2/ω-1)) * Diagonal(sqrt.(diag(A)))\n",
    "    L = (LowerTriangular(A)- (1-1/ω) * Diagonal(A))*(inv(Dw))\n",
    "\n",
    "    Meig = inv(cholesky(L*L')) * A\n",
    "    \n",
    "    λ_max = eigs(Meig; nev=1, ritzvec=false, which=:LM)[1][1]\n",
    "    λ_min = eigs(Meig; nev=1, ritzvec=false, which=:SM)[1][1]\n",
    "    real(λ_max), real(λ_min)\n",
    "end\n",
    "\n",
    "\n",
    "function itter_CB_ssor!(F::FastLowerTriangular, U::FastUpperTriangular, D::DiagonalIndices,\n",
    "                        D_t::DiagonalIndices, x::AbstractVector, b::AbstractVector\n",
    "                        , w,  λ_max, λ_min, max_itter)\n",
    "    \n",
    "    A = D.matrix\n",
    "    A_t = D_t.matrix\n",
    "    \n",
    "    δ = ((λ_max - λ_min)/4)^2\n",
    "    τ = 2/(λ_max + λ_min)\n",
    "    \n",
    "    T = eltype(b)\n",
    "    cb = CB_variable(0,0,0,0,0)\n",
    "    #Assign initial parameter\n",
    "    cb.β  = 2*τ\n",
    "    cb.α = 1\n",
    "    cb.b = 2/cb.α - 1\n",
    "    cb.a = (2/τ -1) * cb.b\n",
    "    cb.κ = τ\n",
    "    \n",
    "    T = eltype(b)\n",
    "    r_1 = zeros(A.n)\n",
    "    r_2 = zeros(A.n)\n",
    "    x_pre = zeros(A.n)\n",
    "    x_next = zeros(A.n)\n",
    "    x_temp = zeros(A.n)\n",
    "    w_v = zeros(A.n)\n",
    " \n",
    "    for i = 1 : max_itter \n",
    "\n",
    "        x_pre[:] = x \n",
    "        x[:] = x_next\n",
    "        \n",
    "        f_mul!(-one(T), D, x, b, r_1) # r <- b - A* X        \n",
    "        if norm(r_1) < 10^(-8)\n",
    "            println(\"CB sor_itter : \",i)\n",
    "            break\n",
    "        end \n",
    "        \n",
    "        \n",
    "        \n",
    "        \n",
    "        forward_sub!(F, r_1) #r_1 <- m_sor\\r_1\n",
    "        sum2!(x_temp, x, r_1, A) #x_next <- x + τ*r\n",
    "        \n",
    "        f_mul!(-one(T), D, x_temp, b, r_2) # r_2 <- b - A* X\n",
    "        backward_sub!(U, r_2)\n",
    "        sum3!(w_v, x_temp , x, r_2, A)\n",
    "        \n",
    "        if i == 1\n",
    "            sum2!(x_next, cb.α*x, τ*w_v, A) #x_next <- x + τ*r\n",
    "        else\n",
    "            mul_sum!(x_next, x, x_pre, w_v, cb.α, τ, A) # x_next <- (1-α)*x_pre + α*x + (τ*α*r[i])\n",
    "\n",
    "        end\n",
    "        \n",
    "        \n",
    "        cb.β = 1 / ( (1/τ)  - cb.β*δ ) \n",
    "        cb.α = cb.β / τ\n",
    "        cb.b = ( ( 2*cb.κ*(1- cb.α) ) / cb.β) + 1\n",
    "        cb.a = ((2/τ) -1) + (cb.b-1) * ( (1/τ) + (1/cb.κ) -1 )\n",
    "        cb.κ = cb.β  + ( (1 - cb.α) * cb.κ)\n",
    "        \n",
    "    end\n",
    "    x\n",
    "\n",
    "end\n",
    "\n",
    "\n",
    "\n",
    "function k3_CB_ssor(A, b::AbstractVector, w, λ_max, λ_min,  maxiter)\n",
    "    x = zeros(A.n)\n",
    "    m_sor = copy(A)\n",
    "    D = DiagonalIndices(A)\n",
    "    D_t = DiagonalIndices(sparse(A'))\n",
    "    \n",
    "    m_sor!(m_sor, D, w)\n",
    "    \n",
    "    D_ms = DiagonalIndices(m_sor)\n",
    "    m_sor_t = sparse(m_sor')\n",
    "    D_ms_t = DiagonalIndices(m_sor_t)\n",
    "    #λ_max,λ_min = eigMm(A, w)\n",
    "    \n",
    "    itter_CB_ssor!(FastLowerTriangular(m_sor ,D_ms), FastUpperTriangular(m_sor_t,D_ms_t),\n",
    "                    D, D_t, x , b, w, λ_max, λ_min, maxiter)\n",
    "end\n"
   ]
  },
  {
   "cell_type": "markdown",
   "metadata": {},
   "source": [
    "# Richardson"
   ]
  },
  {
   "cell_type": "code",
   "execution_count": 6,
   "metadata": {},
   "outputs": [
    {
     "data": {
      "text/plain": [
       "k3_RCS (generic function with 1 method)"
      ]
     },
     "execution_count": 6,
     "metadata": {},
     "output_type": "execute_result"
    }
   ],
   "source": [
    "\n",
    "function itter_Richardson!(D::DiagonalIndices, x::AbstractVector, w, b::AbstractVector, max_itter)\n",
    "    A = D.matrix\n",
    "    T = eltype(x)\n",
    "    r =zeros(A.n)\n",
    "    \n",
    "    for i = 1 : max_itter \n",
    "        f_mul!(-one(T), D, x, b, r) # r <- b- Ax\n",
    "        \n",
    "        if norm(r) < 10^(-8)\n",
    "            println(\"Richardson_itter : \",i)\n",
    "            break\n",
    "        end \n",
    "        \n",
    "        sum!(x, w*r, A) # x <- x +  wr\n",
    "        \n",
    "    end\n",
    "    x\n",
    "    \n",
    "end\n",
    "\n",
    "\n",
    "function k3_RCS(A, b::AbstractVector, w, maxiter)\n",
    "    x = zeros(A.n)\n",
    "    D = DiagonalIndices(A)\n",
    "    itter_Richardson!(D, x , w, b, maxiter)\n",
    "end\n",
    "\n"
   ]
  },
  {
   "cell_type": "markdown",
   "metadata": {},
   "source": [
    "# Jacobi"
   ]
  },
  {
   "cell_type": "code",
   "execution_count": 7,
   "metadata": {},
   "outputs": [
    {
     "data": {
      "text/plain": [
       "k3_JCB (generic function with 1 method)"
      ]
     },
     "execution_count": 7,
     "metadata": {},
     "output_type": "execute_result"
    }
   ],
   "source": [
    "function mul_inv_d!(D, r)\n",
    "    A = D.matrix\n",
    "    for idx in D.diag \n",
    "        r[A.rowval[idx]] *=  (1 / A.nzval[idx])\n",
    "    end\n",
    "end\n",
    "    \n",
    "\n",
    "function itter_JCB!(D::DiagonalIndices, x::AbstractVector, b::AbstractVector, max_itter)\n",
    "    A = D.matrix\n",
    "    T = eltype(x)\n",
    "    r =zeros(A.n)\n",
    "    \n",
    "    for i = 1 : max_itter \n",
    "        f_mul!(-one(T), D, x, b, r) # r <- b- Ax\n",
    "        \n",
    "        if norm(r) < 10^(-8)\n",
    "            println(\"Jacobi_itter : \",i)\n",
    "            break\n",
    "        end \n",
    "\n",
    "        mul_inv_d!(D, r)# r <- D^-1*r\n",
    "        sum!(x, r, A) # x <- x +  M^-1*r\n",
    "    end\n",
    "    x\n",
    "    \n",
    "end\n",
    "\n",
    "\n",
    "function k3_JCB(A, b::AbstractVector, maxiter)\n",
    "    x = zeros(A.n)\n",
    "    D = DiagonalIndices(A)\n",
    "    itter_JCB!(D, x , b, maxiter)\n",
    "end\n",
    "\n"
   ]
  },
  {
   "cell_type": "markdown",
   "metadata": {},
   "source": [
    "# Gauss-Seidal"
   ]
  },
  {
   "cell_type": "code",
   "execution_count": 14,
   "metadata": {},
   "outputs": [
    {
     "data": {
      "text/plain": [
       "k3_GS (generic function with 1 method)"
      ]
     },
     "execution_count": 14,
     "metadata": {},
     "output_type": "execute_result"
    }
   ],
   "source": [
    "\n",
    "function m_GS!(A, D::DiagonalIndices)\n",
    "    @inbounds for col = 1 : A.n\n",
    "        for j = A.colptr[col] :  A.colptr[col + 1] - 1\n",
    "            if A.rowval[j] < col \n",
    "                A.nzval[j] = 0\n",
    "            end\n",
    "        end\n",
    "    end\n",
    "    \n",
    "end\n",
    "\n",
    "\n",
    "function itter_GS!(F::FastLowerTriangular, D::DiagonalIndices,\n",
    "                        x::AbstractVector, b::AbstractVector, max_itter)\n",
    "    A = D.matrix\n",
    "    T = eltype(x)\n",
    "    r =zeros(A.n)\n",
    "    \n",
    "    for i = 1 : max_itter \n",
    "        f_mul!(-one(T), D, x, b, r) # r <- b- Ax\n",
    "        \n",
    "        if norm(r) < 10^(-8)\n",
    "            println(\"Gause-Seidal : \",i)\n",
    "            break\n",
    "        end \n",
    "        \n",
    "        forward_sub!(F, r)# r <- M_sor\\r\n",
    "        sum!(x, r, A) # x <- x +  M_sor/b        \n",
    "    end\n",
    "    x\n",
    "    \n",
    "end\n",
    "\n",
    "\n",
    "function k3_GS(A, b::AbstractVector, maxiter)\n",
    "    x = zeros(A.n)\n",
    "    m_GS = copy(A)\n",
    "    D = DiagonalIndices(A)\n",
    "    m_GS!(m_GS, D)\n",
    "    D_GS = DiagonalIndices(m_GS)\n",
    "    itter_GS!(FastLowerTriangular(m_GS ,D_GS), D, x , b, maxiter)\n",
    "end\n",
    "\n"
   ]
  },
  {
   "cell_type": "markdown",
   "metadata": {},
   "source": [
    "# Test"
   ]
  },
  {
   "cell_type": "code",
   "execution_count": 7,
   "metadata": {},
   "outputs": [
    {
     "data": {
      "text/plain": [
       "(\n",
       "  [1  ,   1]  =  2.0001\n",
       "  [2  ,   1]  =  -1.0\n",
       "  [11 ,   1]  =  -1.0\n",
       "  [1  ,   2]  =  -1.0\n",
       "  [2  ,   2]  =  3.0001\n",
       "  [3  ,   2]  =  -1.0\n",
       "  [12 ,   2]  =  -1.0\n",
       "  [2  ,   3]  =  -1.0\n",
       "  [3  ,   3]  =  3.0001\n",
       "  [4  ,   3]  =  -1.0\n",
       "  [13 ,   3]  =  -1.0\n",
       "  [3  ,   4]  =  -1.0\n",
       "  ⋮\n",
       "  [97 ,  97]  =  3.0001\n",
       "  [98 ,  97]  =  -1.0\n",
       "  [88 ,  98]  =  -1.0\n",
       "  [97 ,  98]  =  -1.0\n",
       "  [98 ,  98]  =  3.0001\n",
       "  [99 ,  98]  =  -1.0\n",
       "  [89 ,  99]  =  -1.0\n",
       "  [98 ,  99]  =  -1.0\n",
       "  [99 ,  99]  =  3.0001\n",
       "  [100,  99]  =  -1.0\n",
       "  [90 , 100]  =  -1.0\n",
       "  [99 , 100]  =  -1.0\n",
       "  [100, 100]  =  2.0001, [0.10966715721160032, 0.2656927127025517, 0.794014581258495, -0.0468183690652249, -0.8327446214722528, -1.468576823678516, 0.7977695961053077, -0.5941877059907252, -0.14393615532592963, -0.3783799871839709  …  -1.8064886300659826, -1.0278464284487296, -1.8251696419248158, 0.8072620598173083, 2.734476470340489, 0.7786217976088599, -1.6123564410967657, -0.3803267338952001, 1.2074555518725307, 0.025362889872946846])"
      ]
     },
     "execution_count": 7,
     "metadata": {},
     "output_type": "execute_result"
    }
   ],
   "source": [
    "A,b = gen_Ab(10)"
   ]
  },
  {
   "cell_type": "code",
   "execution_count": 15,
   "metadata": {},
   "outputs": [
    {
     "data": {
      "text/plain": [
       "BenchmarkTools.Trial: \n",
       "  memory estimate:  1.96 MiB\n",
       "  allocs estimate:  128008\n",
       "  --------------\n",
       "  minimum time:     86.863 ms (0.00% GC)\n",
       "  median time:      87.762 ms (0.00% GC)\n",
       "  mean time:        89.777 ms (1.28% GC)\n",
       "  maximum time:     133.410 ms (34.79% GC)\n",
       "  --------------\n",
       "  samples:          56\n",
       "  evals/sample:     1"
      ]
     },
     "execution_count": 15,
     "metadata": {},
     "output_type": "execute_result"
    }
   ],
   "source": [
    "@benchmark sor(A, b, 1.6641, maxiter= 64000)"
   ]
  },
  {
   "cell_type": "code",
   "execution_count": 14,
   "metadata": {},
   "outputs": [
    {
     "data": {
      "text/plain": [
       "BenchmarkTools.Trial: \n",
       "  memory estimate:  12.02 KiB\n",
       "  allocs estimate:  11\n",
       "  --------------\n",
       "  minimum time:     85.997 ms (0.00% GC)\n",
       "  median time:      87.990 ms (0.00% GC)\n",
       "  mean time:        89.472 ms (0.00% GC)\n",
       "  maximum time:     100.938 ms (0.00% GC)\n",
       "  --------------\n",
       "  samples:          56\n",
       "  evals/sample:     1"
      ]
     },
     "execution_count": 14,
     "metadata": {},
     "output_type": "execute_result"
    }
   ],
   "source": [
    "@benchmark k3_sor(A, b, 1.6641, 64000)"
   ]
  },
  {
   "cell_type": "code",
   "execution_count": 89,
   "metadata": {},
   "outputs": [
    {
     "data": {
      "text/plain": [
       "BenchmarkTools.Trial: \n",
       "  memory estimate:  36.89 KiB\n",
       "  allocs estimate:  33\n",
       "  --------------\n",
       "  minimum time:     3.112 ms (0.00% GC)\n",
       "  median time:      3.273 ms (0.00% GC)\n",
       "  mean time:        3.337 ms (1.31% GC)\n",
       "  maximum time:     54.598 ms (93.92% GC)\n",
       "  --------------\n",
       "  samples:          1497\n",
       "  evals/sample:     1"
      ]
     },
     "execution_count": 89,
     "metadata": {},
     "output_type": "execute_result"
    }
   ],
   "source": [
    "w = 1.6641\n",
    "λ_max,λ_min = eigMm(A, w)\n",
    "@benchmark k3_CB_ssor(A, b_, 1.6641, λ_max, λ_min, 1100)"
   ]
  },
  {
   "cell_type": "code",
   "execution_count": 90,
   "metadata": {},
   "outputs": [
    {
     "data": {
      "text/plain": [
       "BenchmarkTools.Trial: \n",
       "  memory estimate:  36.89 KiB\n",
       "  allocs estimate:  33\n",
       "  --------------\n",
       "  minimum time:     236.739 ms (0.00% GC)\n",
       "  median time:      240.880 ms (0.00% GC)\n",
       "  mean time:        243.286 ms (0.00% GC)\n",
       "  maximum time:     263.917 ms (0.00% GC)\n",
       "  --------------\n",
       "  samples:          21\n",
       "  evals/sample:     1"
      ]
     },
     "execution_count": 90,
     "metadata": {},
     "output_type": "execute_result"
    }
   ],
   "source": [
    "w = 1.6641\n",
    "λ_max,λ_min = eigMm(A, w)\n",
    "@benchmark k3_CB_ssor(A, b_, 1.6641, λ_max, λ_min, 80000)"
   ]
  },
  {
   "cell_type": "code",
   "execution_count": 15,
   "metadata": {},
   "outputs": [
    {
     "name": "stdout",
     "output_type": "stream",
     "text": [
      "Jacobi_itter : 640842\n",
      "ssor_itter : 55858\n",
      "sor_itter : 1536\n",
      "CB sor_itter : 1018\n",
      "CB sor_itter : 633\n",
      "Gause-Seidal : 290729\n"
     ]
    },
    {
     "data": {
      "text/plain": [
       "100-element Array{Float64,1}:\n",
       " 103.4479486359771 \n",
       " 103.63793147973331\n",
       " 103.33740169154488\n",
       " 102.14099518690315\n",
       " 101.10989655952864\n",
       " 100.14282190516575\n",
       " 100.71549720893162\n",
       " 100.86593907422267\n",
       " 100.25218271357114\n",
       "  99.78418087209002\n",
       " 103.46400668907769\n",
       " 103.08641999575767\n",
       " 102.52163368394103\n",
       "   ⋮               \n",
       "  99.04640407718385\n",
       "  98.66068709959447\n",
       " 100.42586065774577\n",
       " 100.52202698546581\n",
       " 101.29702431918716\n",
       " 101.60069541276138\n",
       " 102.00449587101843\n",
       " 101.88594889800058\n",
       " 100.77135424876566\n",
       "  99.50133608706352\n",
       "  98.18605392298748\n",
       "  97.7196383200333 "
      ]
     },
     "execution_count": 15,
     "metadata": {},
     "output_type": "execute_result"
    }
   ],
   "source": [
    "sol_1 = sor(A,b , 1.9852 ,maxiter=100000)\n",
    "sol_2 = ssor(A,b , 1.6641 ,maxiter=100000)\n",
    "\n",
    "\n",
    "#b_ = copy(b)\n",
    "#sol_3 = k3_RCS(A, b_, 1, 100000)\n",
    "\n",
    "\n",
    "b_ = copy(b)\n",
    "sol_4 = k3_JCB(A, b_, 1000000)\n",
    "\n",
    "\n",
    "b_ = copy(b)\n",
    "sol_5 = k3_ssor(A, b_, 1.6641, 100000)\n",
    "\n",
    "b_ = copy(b)\n",
    "sol_6 = k3_sor(A, b_, 1.9852, 100000)\n",
    "\n",
    "\n",
    "w = 1\n",
    "λ_max,λ_min = eigMm(A, w)\n",
    "b_ = copy(b)\n",
    "sol_7 = k3_CB_ssor(A, b_, 1, λ_max,λ_min, 100000)\n",
    "\n",
    "w = 1.6641\n",
    "λ_max,λ_min = eigMm(A, w)\n",
    "b_ = copy(b)\n",
    "sol_8 = k3_CB_ssor(A, b_, 1.6641, λ_max, λ_min, 80000)\n",
    "\n",
    "b_ = copy(b)\n",
    "sol_8 = k3_GS(A, b_, 1000000)\n",
    "\n",
    "#copyright kkk"
   ]
  }
 ],
 "metadata": {
  "kernelspec": {
   "display_name": "Julia 1.2.0",
   "language": "julia",
   "name": "julia-1.2"
  },
  "language_info": {
   "file_extension": ".jl",
   "mimetype": "application/julia",
   "name": "julia",
   "version": "1.2.0"
  }
 },
 "nbformat": 4,
 "nbformat_minor": 4
}
