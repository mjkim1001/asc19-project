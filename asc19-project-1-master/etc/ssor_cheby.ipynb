{
 "cells": [
  {
   "cell_type": "markdown",
   "metadata": {},
   "source": [
    "### Generate test matrix"
   ]
  },
  {
   "cell_type": "code",
   "execution_count": 1,
   "metadata": {},
   "outputs": [
    {
     "name": "stderr",
     "output_type": "stream",
     "text": [
      "┌ Info: Recompiling stale cache file C:\\Users\\cobook\\.julia\\compiled\\v1.2\\BenchmarkTools\\ZXPQo.ji for BenchmarkTools [6e4b80f9-dd63-53aa-95a3-0cdb28fa8baf]\n",
      "└ @ Base loading.jl:1240\n"
     ]
    },
    {
     "name": "stdout",
     "output_type": "stream",
     "text": [
      "include group.jl for user defined matrix generators\n",
      "verify download of index files...\n",
      "used remote site is https://sparse.tamu.edu/?per_page=All\n",
      "populating internal database...\n",
      "typeof(A) = SparseArrays.SparseMatrixCSC{Float64,Int64}\n",
      "typeof(Afull) = Array{Float64,2}\n"
     ]
    },
    {
     "data": {
      "text/plain": [
       "10000-element Array{Float64,1}:\n",
       "  0.12623784496408763 \n",
       " -2.3468794813834966  \n",
       "  1.9166090582536102  \n",
       " -0.23920888512829233 \n",
       " -0.5784508270929073  \n",
       " -1.1278278196026448  \n",
       "  1.1478628422667982  \n",
       " -1.354705173870581   \n",
       " -0.23706547458394342 \n",
       " -0.6809935026697     \n",
       " -0.8826696457022515  \n",
       "  1.7138424693341203  \n",
       " -0.7339523682572253  \n",
       "  ⋮                   \n",
       " -1.1242756459799825  \n",
       " -1.5840165152654142  \n",
       " -0.18205667606452444 \n",
       " -0.7596266189004605  \n",
       " -1.4396141684820316  \n",
       "  0.004180129114450185\n",
       " -0.07636458207051988 \n",
       " -1.9658459863745268  \n",
       " -1.3457051266647149  \n",
       "  0.3120272656011855  \n",
       "  0.6456518202208312  \n",
       " -0.28866613765800436 "
      ]
     },
     "execution_count": 1,
     "metadata": {},
     "output_type": "execute_result"
    }
   ],
   "source": [
    "using BenchmarkTools, IterativeSolvers, LinearAlgebra, MatrixDepot, Random\n",
    "\n",
    "Random.seed!(280)\n",
    "\n",
    "n = 100\n",
    "# Poisson matrix of dimension n^2=10000, pd and sparse\n",
    "A = matrixdepot(\"poisson\", n)\n",
    "@show typeof(A)\n",
    "# dense matrix representation of A\n",
    "Afull = convert(Matrix, A)\n",
    "@show typeof(Afull)\n",
    "# sparsity level\n",
    "count(!iszero, A) / length(A)\n",
    "b = randn(n^2)"
   ]
  },
  {
   "cell_type": "markdown",
   "metadata": {},
   "source": [
    "### Matrix-vector muliplication"
   ]
  },
  {
   "cell_type": "markdown",
   "metadata": {},
   "source": [
    "### Jacobi solver\n",
    "\n",
    "It seems that Jacobi solver doesn't give the correct answer."
   ]
  },
  {
   "cell_type": "code",
   "execution_count": 2,
   "metadata": {},
   "outputs": [
    {
     "data": {
      "text/plain": [
       "10000-element Array{Float64,1}:\n",
       " -0.11622985241732496\n",
       " -0.4635831908534026 \n",
       "  0.23226025476409706\n",
       " -0.31758303896233386\n",
       " -0.5545511535763019 \n",
       " -0.4111814236198636 \n",
       "  0.3181490123608109 \n",
       " -0.10506164752145747\n",
       " -0.10484671846434306\n",
       " -0.34799055652105043\n",
       " -0.3266061388021883 \n",
       "  0.3377951681302126 \n",
       " -0.03656658807294293\n",
       "  ⋮                  \n",
       " -0.6028865411307084 \n",
       " -0.8572621518011447 \n",
       " -0.4292611655954205 \n",
       " -0.6022628752430368 \n",
       " -0.8685276036611846 \n",
       " -0.645085481736975  \n",
       " -0.5105671301040766 \n",
       " -0.8004520746400694 \n",
       " -0.5459042625106357 \n",
       "  0.0835217275886183 \n",
       "  0.2886685655652838 \n",
       "  0.1480671984569923 "
      ]
     },
     "execution_count": 2,
     "metadata": {},
     "output_type": "execute_result"
    }
   ],
   "source": [
    "xjacobi = jacobi(A, b)"
   ]
  },
  {
   "cell_type": "markdown",
   "metadata": {},
   "source": [
    "[Documentation](https://juliamath.github.io/IterativeSolvers.jl/dev/linear_systems/stationary/#Jacobi-1) reveals that the default value of `maxiter` is 10. A couple trial runs shows that 30000 Jacobi iterations are enough to get an accurate solution."
   ]
  },
  {
   "cell_type": "code",
   "execution_count": 14,
   "metadata": {},
   "outputs": [
    {
     "data": {
      "text/plain": [
       "BenchmarkTools.Trial: \n",
       "  memory estimate:  234.72 KiB\n",
       "  allocs estimate:  9\n",
       "  --------------\n",
       "  minimum time:     2.936 s (0.00% GC)\n",
       "  median time:      3.034 s (0.00% GC)\n",
       "  mean time:        3.034 s (0.00% GC)\n",
       "  maximum time:     3.131 s (0.00% GC)\n",
       "  --------------\n",
       "  samples:          2\n",
       "  evals/sample:     1"
      ]
     },
     "execution_count": 14,
     "metadata": {},
     "output_type": "execute_result"
    }
   ],
   "source": [
    "@benchmark jacobi($A, $b, maxiter=30000)"
   ]
  },
  {
   "cell_type": "markdown",
   "metadata": {},
   "source": [
    "### Gauss-Seidal"
   ]
  },
  {
   "cell_type": "code",
   "execution_count": 27,
   "metadata": {},
   "outputs": [
    {
     "data": {
      "text/plain": [
       "BenchmarkTools.Trial: \n",
       "  memory estimate:  156.55 KiB\n",
       "  allocs estimate:  8\n",
       "  --------------\n",
       "  minimum time:     1.477 s (0.00% GC)\n",
       "  median time:      1.496 s (0.00% GC)\n",
       "  mean time:        1.493 s (0.00% GC)\n",
       "  maximum time:     1.502 s (0.00% GC)\n",
       "  --------------\n",
       "  samples:          4\n",
       "  evals/sample:     1"
      ]
     },
     "execution_count": 27,
     "metadata": {},
     "output_type": "execute_result"
    }
   ],
   "source": [
    "@benchmark gauss_seidel($A, $b, maxiter=15000)"
   ]
  },
  {
   "cell_type": "markdown",
   "metadata": {},
   "source": [
    "### SOR"
   ]
  },
  {
   "cell_type": "code",
   "execution_count": 3,
   "metadata": {},
   "outputs": [
    {
     "data": {
      "text/plain": [
       "10000-element Array{Float64,1}:\n",
       " -0.13573654687466608 \n",
       " -0.5206789599457584  \n",
       "  0.17980466568538686 \n",
       " -0.4002791892116248  \n",
       " -0.6289282383590915  \n",
       " -0.49588500865874097 \n",
       "  0.22224230893685876 \n",
       " -0.21247273236519465 \n",
       " -0.2535061468257664  \n",
       " -0.5432927433952679  \n",
       " -0.592638429470118   \n",
       " -0.014784103432608579\n",
       " -0.4729947308070689  \n",
       "  ⋮                   \n",
       " -0.7926471240504929  \n",
       " -1.2221432286720415  \n",
       " -0.9305374922935421  \n",
       " -1.1872801056414293  \n",
       " -1.4885989790708278  \n",
       " -1.2383547534718287  \n",
       " -1.0271753757267539  \n",
       " -1.2094409837853988  \n",
       " -0.8319275353822709  \n",
       " -0.09415051921681566 \n",
       "  0.19629893973017298 \n",
       "  0.11037395266590884 "
      ]
     },
     "execution_count": 3,
     "metadata": {},
     "output_type": "execute_result"
    }
   ],
   "source": [
    "xsor = sor(A, b, 0.75, maxiter=10000)"
   ]
  },
  {
   "cell_type": "code",
   "execution_count": 8,
   "metadata": {},
   "outputs": [
    {
     "data": {
      "text/plain": [
       "532.9587839534698"
      ]
     },
     "execution_count": 8,
     "metadata": {},
     "output_type": "execute_result"
    }
   ],
   "source": [
    "norm(xsor - xjacobi)"
   ]
  },
  {
   "cell_type": "code",
   "execution_count": 15,
   "metadata": {},
   "outputs": [
    {
     "data": {
      "text/plain": [
       "BenchmarkTools.Trial: \n",
       "  memory estimate:  547.27 KiB\n",
       "  allocs estimate:  20010\n",
       "  --------------\n",
       "  minimum time:     1.336 s (0.00% GC)\n",
       "  median time:      1.351 s (0.00% GC)\n",
       "  mean time:        1.390 s (0.00% GC)\n",
       "  maximum time:     1.520 s (0.00% GC)\n",
       "  --------------\n",
       "  samples:          4\n",
       "  evals/sample:     1"
      ]
     },
     "execution_count": 15,
     "metadata": {},
     "output_type": "execute_result"
    }
   ],
   "source": [
    "@benchmark sor($A, $b, 0.75, maxiter=10000)"
   ]
  },
  {
   "cell_type": "markdown",
   "metadata": {},
   "source": [
    "### Conjugate Gradient"
   ]
  },
  {
   "cell_type": "code",
   "execution_count": 28,
   "metadata": {},
   "outputs": [
    {
     "name": "stderr",
     "output_type": "stream",
     "text": [
      "┌ Info: Precompiling Distributions [31c24e10-a181-5473-b8eb-7969acd0382f]\n",
      "└ @ Base loading.jl:1242\n"
     ]
    }
   ],
   "source": [
    "using Distributions"
   ]
  },
  {
   "cell_type": "code",
   "execution_count": 35,
   "metadata": {
    "collapsed": true,
    "jupyter": {
     "outputs_hidden": true
    }
   },
   "outputs": [
    {
     "data": {
      "text/plain": [
       "1000-element Array{Float64,1}:\n",
       " -0.9180297412776988 \n",
       " -1.7634769653912572 \n",
       "  0.25443648984172623\n",
       " -0.38639775652347746\n",
       " -0.48170094071263075\n",
       "  1.2450785274870282 \n",
       " -0.27523837834165477\n",
       "  1.1113556776790492 \n",
       "  0.8654377551475115 \n",
       "  0.6933408873698911 \n",
       " -0.23706063661395926\n",
       " -0.26957028525662174\n",
       " -0.5092907049314676 \n",
       "  ⋮                  \n",
       " -0.2706915171650025 \n",
       "  0.5240012095319185 \n",
       " -0.8702479313741973 \n",
       " -0.2828254373967815 \n",
       "  1.0872866759683317 \n",
       " -0.03205966284676451\n",
       "  1.2237812621626334 \n",
       "  0.47852700479560545\n",
       "  0.24852960623192705\n",
       "  0.9773327102560351 \n",
       "  0.9245748520867975 \n",
       "  1.0665133622830874 "
      ]
     },
     "execution_count": 35,
     "metadata": {},
     "output_type": "execute_result"
    }
   ],
   "source": [
    "ran_vec =rand(Normal(0, 1), 1000)"
   ]
  },
  {
   "cell_type": "code",
   "execution_count": 65,
   "metadata": {
    "collapsed": true,
    "jupyter": {
     "outputs_hidden": true
    }
   },
   "outputs": [
    {
     "data": {
      "text/plain": [
       "5×5 LowerTriangular{Float64,Array{Float64,2}}:\n",
       "  0.387766    ⋅          ⋅          ⋅          ⋅      \n",
       " -0.387666   6.64226     ⋅          ⋅          ⋅      \n",
       " -0.12516   -0.941094   2.64174     ⋅          ⋅      \n",
       "  0.694163  -2.34704   -0.401052   1.76654     ⋅      \n",
       " -0.140002  -0.694623   0.432363  -0.0764905  0.186699"
      ]
     },
     "execution_count": 65,
     "metadata": {},
     "output_type": "execute_result"
    }
   ],
   "source": [
    "LowerTriangular(A)"
   ]
  },
  {
   "cell_type": "code",
   "execution_count": 70,
   "metadata": {
    "collapsed": true,
    "jupyter": {
     "outputs_hidden": true
    }
   },
   "outputs": [
    {
     "data": {
      "text/plain": [
       "5×5 Diagonal{Float64,Array{Float64,1}}:\n",
       " 0.193883   ⋅        ⋅        ⋅        ⋅       \n",
       "  ⋅        3.32113   ⋅        ⋅        ⋅       \n",
       "  ⋅         ⋅       1.32087   ⋅        ⋅       \n",
       "  ⋅         ⋅        ⋅       0.88327   ⋅       \n",
       "  ⋅         ⋅        ⋅        ⋅       0.0933494"
      ]
     },
     "execution_count": 70,
     "metadata": {},
     "output_type": "execute_result"
    }
   ],
   "source": [
    "Diagonal(A).= 1/2 *Diagonal(A)"
   ]
  },
  {
   "cell_type": "code",
   "execution_count": 71,
   "metadata": {},
   "outputs": [
    {
     "data": {
      "text/plain": [
       "5×5 Diagonal{Float64,Array{Float64,1}}:\n",
       " 0.387766   ⋅        ⋅        ⋅        ⋅      \n",
       "  ⋅        6.64226   ⋅        ⋅        ⋅      \n",
       "  ⋅         ⋅       2.64174   ⋅        ⋅      \n",
       "  ⋅         ⋅        ⋅       1.76654   ⋅      \n",
       "  ⋅         ⋅        ⋅        ⋅       0.186699"
      ]
     },
     "execution_count": 71,
     "metadata": {},
     "output_type": "execute_result"
    }
   ],
   "source": [
    "D = copy(Diagonal(A))"
   ]
  },
  {
   "cell_type": "code",
   "execution_count": 73,
   "metadata": {},
   "outputs": [
    {
     "data": {
      "text/plain": [
       "5×5 Diagonal{Float64,Array{Float64,1}}:\n",
       " 2.57888   ⋅         ⋅         ⋅         ⋅     \n",
       "  ⋅       0.150551   ⋅         ⋅         ⋅     \n",
       "  ⋅        ⋅        0.378538   ⋅         ⋅     \n",
       "  ⋅        ⋅         ⋅        0.566078   ⋅     \n",
       "  ⋅        ⋅         ⋅         ⋅        5.35622"
      ]
     },
     "execution_count": 73,
     "metadata": {},
     "output_type": "execute_result"
    }
   ],
   "source": [
    "D^(-1)"
   ]
  },
  {
   "cell_type": "markdown",
   "metadata": {},
   "source": [
    "http://www.netlib.org/linalg/html_templates/node17.html\n",
    "![ssor_image](./sub_file/ssor.png)"
   ]
  },
  {
   "cell_type": "code",
   "execution_count": 11,
   "metadata": {
    "collapsed": true,
    "jupyter": {
     "outputs_hidden": true
    }
   },
   "outputs": [
    {
     "data": {
      "text/plain": [
       "10000×10000 Array{Float64,2}:\n",
       "  5.33333   -0.666667   0.0       …   0.0        0.0        0.0     \n",
       " -0.666667   5.41667   -0.666667      0.0        0.0        0.0     \n",
       "  0.0       -0.666667   5.41667       0.0        0.0        0.0     \n",
       "  0.0        0.0       -0.666667      0.0        0.0        0.0     \n",
       "  0.0        0.0        0.0           0.0        0.0        0.0     \n",
       "  0.0        0.0        0.0       …   0.0        0.0        0.0     \n",
       "  0.0        0.0        0.0           0.0        0.0        0.0     \n",
       "  0.0        0.0        0.0           0.0        0.0        0.0     \n",
       "  0.0        0.0        0.0           0.0        0.0        0.0     \n",
       "  0.0        0.0        0.0           0.0        0.0        0.0     \n",
       "  0.0        0.0        0.0       …   0.0        0.0        0.0     \n",
       "  0.0        0.0        0.0           0.0        0.0        0.0     \n",
       "  0.0        0.0        0.0           0.0        0.0        0.0     \n",
       "  ⋮                               ⋱                                 \n",
       "  0.0        0.0        0.0           0.0        0.0        0.0     \n",
       "  0.0        0.0        0.0           0.0        0.0        0.0     \n",
       "  0.0        0.0        0.0       …   0.0        0.0        0.0     \n",
       "  0.0        0.0        0.0           0.0        0.0        0.0     \n",
       "  0.0        0.0        0.0           0.0        0.0        0.0     \n",
       "  0.0        0.0        0.0           0.0        0.0        0.0     \n",
       "  0.0        0.0        0.0           0.0        0.0        0.0     \n",
       "  0.0        0.0        0.0       …   0.0        0.0        0.0     \n",
       "  0.0        0.0        0.0          -0.666667   0.0        0.0     \n",
       "  0.0        0.0        0.0           5.5       -0.666667   0.0     \n",
       "  0.0        0.0        0.0          -0.666667   5.5       -0.666667\n",
       "  0.0        0.0        0.0           0.0       -0.666667   5.5     "
      ]
     },
     "execution_count": 11,
     "metadata": {},
     "output_type": "execute_result"
    }
   ],
   "source": [
    "w/(2-w) * M_sor * D^(-1) * Transpose(M_sor)"
   ]
  },
  {
   "cell_type": "code",
   "execution_count": 10,
   "metadata": {},
   "outputs": [
    {
     "data": {
      "text/plain": [
       "10000×10000 LowerTriangular{Float64,Array{Float64,2}}:\n",
       "  8.0    ⋅     ⋅     ⋅     ⋅     ⋅   …    ⋅     ⋅     ⋅     ⋅     ⋅    ⋅ \n",
       " -1.0   8.0    ⋅     ⋅     ⋅     ⋅        ⋅     ⋅     ⋅     ⋅     ⋅    ⋅ \n",
       "  0.0  -1.0   8.0    ⋅     ⋅     ⋅        ⋅     ⋅     ⋅     ⋅     ⋅    ⋅ \n",
       "  0.0   0.0  -1.0   8.0    ⋅     ⋅        ⋅     ⋅     ⋅     ⋅     ⋅    ⋅ \n",
       "  0.0   0.0   0.0  -1.0   8.0    ⋅        ⋅     ⋅     ⋅     ⋅     ⋅    ⋅ \n",
       "  0.0   0.0   0.0   0.0  -1.0   8.0  …    ⋅     ⋅     ⋅     ⋅     ⋅    ⋅ \n",
       "  0.0   0.0   0.0   0.0   0.0  -1.0       ⋅     ⋅     ⋅     ⋅     ⋅    ⋅ \n",
       "  0.0   0.0   0.0   0.0   0.0   0.0       ⋅     ⋅     ⋅     ⋅     ⋅    ⋅ \n",
       "  0.0   0.0   0.0   0.0   0.0   0.0       ⋅     ⋅     ⋅     ⋅     ⋅    ⋅ \n",
       "  0.0   0.0   0.0   0.0   0.0   0.0       ⋅     ⋅     ⋅     ⋅     ⋅    ⋅ \n",
       "  0.0   0.0   0.0   0.0   0.0   0.0  …    ⋅     ⋅     ⋅     ⋅     ⋅    ⋅ \n",
       "  0.0   0.0   0.0   0.0   0.0   0.0       ⋅     ⋅     ⋅     ⋅     ⋅    ⋅ \n",
       "  0.0   0.0   0.0   0.0   0.0   0.0       ⋅     ⋅     ⋅     ⋅     ⋅    ⋅ \n",
       "  ⋮                             ⋮    ⋱         ⋮                         \n",
       "  0.0   0.0   0.0   0.0   0.0   0.0       ⋅     ⋅     ⋅     ⋅     ⋅    ⋅ \n",
       "  0.0   0.0   0.0   0.0   0.0   0.0       ⋅     ⋅     ⋅     ⋅     ⋅    ⋅ \n",
       "  0.0   0.0   0.0   0.0   0.0   0.0  …    ⋅     ⋅     ⋅     ⋅     ⋅    ⋅ \n",
       "  0.0   0.0   0.0   0.0   0.0   0.0       ⋅     ⋅     ⋅     ⋅     ⋅    ⋅ \n",
       "  0.0   0.0   0.0   0.0   0.0   0.0       ⋅     ⋅     ⋅     ⋅     ⋅    ⋅ \n",
       "  0.0   0.0   0.0   0.0   0.0   0.0       ⋅     ⋅     ⋅     ⋅     ⋅    ⋅ \n",
       "  0.0   0.0   0.0   0.0   0.0   0.0      8.0    ⋅     ⋅     ⋅     ⋅    ⋅ \n",
       "  0.0   0.0   0.0   0.0   0.0   0.0  …  -1.0   8.0    ⋅     ⋅     ⋅    ⋅ \n",
       "  0.0   0.0   0.0   0.0   0.0   0.0      0.0  -1.0   8.0    ⋅     ⋅    ⋅ \n",
       "  0.0   0.0   0.0   0.0   0.0   0.0      0.0   0.0  -1.0   8.0    ⋅    ⋅ \n",
       "  0.0   0.0   0.0   0.0   0.0   0.0      0.0   0.0   0.0  -1.0   8.0   ⋅ \n",
       "  0.0   0.0   0.0   0.0   0.0   0.0      0.0   0.0   0.0   0.0  -1.0  8.0"
      ]
     },
     "execution_count": 10,
     "metadata": {},
     "output_type": "execute_result"
    }
   ],
   "source": [
    "M_sor = (1/w-1) * Diagonal(A) +  LowerTriangular(A)\n",
    "w/(2-w) * M_sor * D^(-1) * Transpose(M_sor)"
   ]
  },
  {
   "cell_type": "code",
   "execution_count": 11,
   "metadata": {
    "collapsed": true,
    "jupyter": {
     "outputs_hidden": true
    }
   },
   "outputs": [
    {
     "data": {
      "text/plain": [
       "10000×10000 Array{Float64,2}:\n",
       " 1.33333   0.333333  0.0       0.0       …  0.0       0.0       0.0     \n",
       " 0.333333  1.41667   0.333333  0.0          0.0       0.0       0.0     \n",
       " 0.0       0.333333  1.41667   0.333333     0.0       0.0       0.0     \n",
       " 0.0       0.0       0.333333  1.41667      0.0       0.0       0.0     \n",
       " 0.0       0.0       0.0       0.333333     0.0       0.0       0.0     \n",
       " 0.0       0.0       0.0       0.0       …  0.0       0.0       0.0     \n",
       " 0.0       0.0       0.0       0.0          0.0       0.0       0.0     \n",
       " 0.0       0.0       0.0       0.0          0.0       0.0       0.0     \n",
       " 0.0       0.0       0.0       0.0          0.0       0.0       0.0     \n",
       " 0.0       0.0       0.0       0.0          0.0       0.0       0.0     \n",
       " 0.0       0.0       0.0       0.0       …  0.0       0.0       0.0     \n",
       " 0.0       0.0       0.0       0.0          0.0       0.0       0.0     \n",
       " 0.0       0.0       0.0       0.0          0.0       0.0       0.0     \n",
       " ⋮                                       ⋱                              \n",
       " 0.0       0.0       0.0       0.0          0.0       0.0       0.0     \n",
       " 0.0       0.0       0.0       0.0          0.0       0.0       0.0     \n",
       " 0.0       0.0       0.0       0.0       …  0.0       0.0       0.0     \n",
       " 0.0       0.0       0.0       0.0          0.0       0.0       0.0     \n",
       " 0.0       0.0       0.0       0.0          0.0       0.0       0.0     \n",
       " 0.0       0.0       0.0       0.0          0.0       0.0       0.0     \n",
       " 0.0       0.0       0.0       0.0          0.0       0.0       0.0     \n",
       " 0.0       0.0       0.0       0.0       …  0.0       0.0       0.0     \n",
       " 0.0       0.0       0.0       0.0          0.333333  0.0       0.0     \n",
       " 0.0       0.0       0.0       0.0          1.5       0.333333  0.0     \n",
       " 0.0       0.0       0.0       0.0          0.333333  1.5       0.333333\n",
       " 0.0       0.0       0.0       0.0          0.0       0.333333  1.5     "
      ]
     },
     "execution_count": 11,
     "metadata": {},
     "output_type": "execute_result"
    }
   ],
   "source": [
    "#Init val\n",
    "w = 0.5 # not greater than 2?\n",
    "A_ = copy(A)\n",
    "D = copy(Diagonal(A))\n",
    "max_itter = 100\n",
    "#Diagonal(A_).= 1/w *Diagonal(A_)\n",
    "#M_sor = LowerTriangular(A_)\n",
    "\n",
    "#Calc M & N\n",
    "M_sor = (1/w-1) * D +  LowerTriangular(A)\n",
    "M_ssor = w/(2-w) * M_sor * D^(-1) * Transpose(M_sor)\n",
    "N = M_ssor - A\n"
   ]
  },
  {
   "cell_type": "code",
   "execution_count": 12,
   "metadata": {
    "collapsed": true,
    "jupyter": {
     "outputs_hidden": true
    }
   },
   "outputs": [
    {
     "data": {
      "text/plain": [
       "10000-element Array{Float64,1}:\n",
       " -0.08883298053250063\n",
       " -1.2434593361184914 \n",
       "  1.0254074149101564 \n",
       " -0.2567539622671509 \n",
       " -0.6689801443240143 \n",
       " -0.7633226588437758 \n",
       "  0.7168048560764445 \n",
       " -0.6489898940226291 \n",
       " -0.265195021695715  \n",
       " -0.6043807262245158 \n",
       " -0.6038465344161905 \n",
       "  1.0026544921001344 \n",
       " -0.24176817494416905\n",
       "  ⋮                  \n",
       " -0.9086930566762922 \n",
       " -1.2665634586360557 \n",
       " -0.2343798874088155 \n",
       " -0.5877064602698528 \n",
       " -1.0450912474431597 \n",
       " -0.31692282041693515\n",
       " -0.2550672301648231 \n",
       " -1.347086260775811  \n",
       " -0.9793160003664941 \n",
       "  0.1876339974682442 \n",
       "  0.4388798112469138 \n",
       "  0.01317718103599641"
      ]
     },
     "execution_count": 12,
     "metadata": {},
     "output_type": "execute_result"
    }
   ],
   "source": [
    "#Calc SSOR\n",
    "max_itter = 100\n",
    "γ = sqrt(2/w -1)\n",
    "D_s = sqrt(D)\n",
    "y = zeros(length(b))\n",
    "m_inv = inv(M_ssor)\n",
    "\n",
    "m_inv_n = m_inv*N\n",
    "D_s_b = D_s*b\n",
    "m_inv_D_s_b = γ*m_inv*D_s_b\n",
    "m_inv_t_n_t = Transpose(m_inv)*Transpose(N)\n",
    "m_inv_t_D_s_b = γ*Transpose(m_inv)*D_s_b\n",
    "\n",
    "\n",
    "for i = 1 : max_itter\n",
    "    print(i)\n",
    "    x = m_inv_n*y + m_inv_D_s_b\n",
    "    y = m_inv_t_n_t*x + m_inv_t_D_s_b\n",
    "    #x = m_inv*(N*y + γ*(D_s*b))\n",
    "    #y = (m_inv')*(N'x + γ*D_s*b)\n",
    "end"
   ]
  },
  {
   "cell_type": "markdown",
   "metadata": {},
   "source": [
    "# All solver!\n"
   ]
  },
  {
   "cell_type": "code",
   "execution_count": 27,
   "metadata": {},
   "outputs": [
    {
     "data": {
      "text/plain": [
       "sor_temp (generic function with 2 methods)"
      ]
     },
     "execution_count": 27,
     "metadata": {},
     "output_type": "execute_result"
    }
   ],
   "source": [
    "#It takes long time to calc init / inverse matirx \n",
    "using SparseArrays\n",
    "\n",
    "\n",
    "function sor_temp(A,b,w, max_itter)\n",
    "    batch = 100\n",
    "    D = sparse(Diagonal(A))\n",
    "    M = sparse((1/w-1) * D + LowerTriangular(A))\n",
    "    #N = M - A # automatlly assigned sparse type\n",
    "    #M_inv_N = sparse(M\\N)\n",
    "    #M_inv_b = sparse(M\\b)\n",
    "    big_itter = max_itter ÷ batch\n",
    "    x =zeros(length(b))\n",
    "    r = zeros(length(b))\n",
    "    #x_pre = zeros(length(b))\n",
    "    \n",
    "    for j = 1 : big_itter \n",
    "        for i = 1:batch \n",
    "            #x[:] = M_inv_N*x + M_inv_b\n",
    "            r = b - A*x\n",
    "            x = x + sparse(M\\r)\n",
    "        end\n",
    "        #내가 봤을때 M_inv_N*x이거 매퍼 써야하는 각\n",
    "        if norm( r, 2) < 10^-8 \n",
    "            return x \n",
    "        end\n",
    "    end\n",
    "    \n",
    "    return x\n",
    "end\n",
    "\n"
   ]
  },
  {
   "cell_type": "code",
   "execution_count": 29,
   "metadata": {},
   "outputs": [
    {
     "data": {
      "text/plain": [
       "BenchmarkTools.Trial: \n",
       "  memory estimate:  2.05 GiB\n",
       "  allocs estimate:  39043\n",
       "  --------------\n",
       "  minimum time:     2.726 s (7.86% GC)\n",
       "  median time:      2.730 s (7.88% GC)\n",
       "  mean time:        2.730 s (7.88% GC)\n",
       "  maximum time:     2.735 s (7.90% GC)\n",
       "  --------------\n",
       "  samples:          2\n",
       "  evals/sample:     1"
      ]
     },
     "execution_count": 29,
     "metadata": {},
     "output_type": "execute_result"
    }
   ],
   "source": [
    "@benchmark sor_temp($A,$b, 0.5,1000) "
   ]
  },
  {
   "cell_type": "markdown",
   "metadata": {},
   "source": [
    "# temp_code"
   ]
  },
  {
   "cell_type": "code",
   "execution_count": null,
   "metadata": {},
   "outputs": [],
   "source": [
    "#Init val\n",
    "w = 0.5 # not greater than 2?\n",
    "A_ = copy(A)\n",
    "D = copy(Diagonal(A))\n",
    "Diagonal(A_).= 1/w *Diagonal(A_)\n",
    "\n",
    "#Calc M & N\n",
    "M_sor = LowerTriangular(A_)\n",
    "M_ssor = w/(2-w) * M_sor * D^(-1) * M_sor'\n",
    "N = M_ssor - A\n",
    "\n",
    "#Calc SSOR\n",
    "γ = sqrt(2/w -1)\n",
    "big_itter = itter ÷ batch\n",
    "D_s = sqrt(D)\n",
    "for j = 1 : big_itter\n",
    "    z_1 = rand(Normal(0, 1), big_itter*p)\n",
    "    z_2 = rand(Normal(0, 1), big_itter*p)\n",
    "    for i = 1 : batch\n",
    "        idx = p*batch*(j-1)+p*(i-1)+1\n",
    "        x = m_inv*(N*y + γ*(D_s*z_1[idx:idx+p-1]))\n",
    "        y = (m_inv')*(N'x + γ*D_s*z_2[idx:idx+p-1])\n",
    "    end\n",
    "    if norm(y-y_pr) < s :\n",
    "        return y\n",
    "    end\n",
    "end\n"
   ]
  },
  {
   "cell_type": "code",
   "execution_count": 34,
   "metadata": {},
   "outputs": [
    {
     "name": "stdout",
     "output_type": "stream",
     "text": [
      "123456789101112131415161718192021222324252627"
     ]
    }
   ],
   "source": [
    "p, big_itter , batch = 3,3,3\n",
    "hi = 1:p*big_itter*batch\n",
    "for j = 1: big_itter\n",
    "    for i = 1: batch\n",
    "        for k in p*batch*(j-1)+p*(i-1)+1 : p*batch*(j-1)+p*(i-1)+p\n",
    "            print(k)\n",
    "        end\n",
    "    end\n",
    "end"
   ]
  },
  {
   "cell_type": "markdown",
   "metadata": {},
   "source": [
    "# miscellaneous"
   ]
  },
  {
   "cell_type": "code",
   "execution_count": 20,
   "metadata": {},
   "outputs": [],
   "source": [
    "a1,a2 = findnz(A); "
   ]
  },
  {
   "cell_type": "code",
   "execution_count": 21,
   "metadata": {},
   "outputs": [
    {
     "data": {
      "text/plain": [
       "2.23606797749979"
      ]
     },
     "execution_count": 21,
     "metadata": {},
     "output_type": "execute_result"
    }
   ],
   "source": [
    "sqrt(5)"
   ]
  },
  {
   "cell_type": "code",
   "execution_count": 21,
   "metadata": {},
   "outputs": [
    {
     "data": {
      "text/plain": [
       "2-element Array{Array{Int64,1},1}:\n",
       " [1, 2, 3, 4, 5, 6, 7, 8, 9, 10  …  9991, 9992, 9993, 9994, 9995, 9996, 9997, 9998, 9999, 10000]\n",
       " [1, 2, 3, 4, 5, 6, 7, 8, 9, 10  …  9991, 9992, 9993, 9994, 9995, 9996, 9997, 9998, 9999, 10000]"
      ]
     },
     "execution_count": 21,
     "metadata": {},
     "output_type": "execute_result"
    }
   ],
   "source": [
    "[a1[a1 .== a2],a2[a1 .== a2]]"
   ]
  },
  {
   "cell_type": "code",
   "execution_count": 13,
   "metadata": {},
   "outputs": [
    {
     "name": "stdout",
     "output_type": "stream",
     "text": [
      "123456789101112131415161718192021222324252627282930313233343536373839404142434445464748495051525354555657585960616263646566676869707172737475767778798081828384858687888990919293949596979899100"
     ]
    }
   ],
   "source": [
    "\n",
    "for i = 1 : max_itter\n",
    "    print(i)\n",
    "    x = m_inv_n*y + m_inv_D_s_b\n",
    "    y = m_inv_t_n_t*x + m_inv_t_D_s_b\n",
    "    #x = m_inv*(N*y + γ*(D_s*b))\n",
    "    #y = (m_inv')*(N'x + γ*D_s*b)\n",
    "end\n"
   ]
  },
  {
   "cell_type": "code",
   "execution_count": 2,
   "metadata": {},
   "outputs": [
    {
     "name": "stdout",
     "output_type": "stream",
     "text": [
      "typeof(A) = SparseArrays.SparseMatrixCSC{Float64,Int64}\n"
     ]
    },
    {
     "data": {
      "text/plain": [
       "1000000-element Array{Float64,1}:\n",
       "  0.12623784496408763\n",
       " -2.3468794813834966 \n",
       "  1.9166090582536102 \n",
       " -0.23920888512829233\n",
       " -0.5784508270929073 \n",
       " -1.1278278196026448 \n",
       "  1.1478628422667982 \n",
       " -1.354705173870581  \n",
       " -0.23706547458394342\n",
       " -0.6809935026697    \n",
       " -0.8826696457022515 \n",
       "  1.7138424693341203 \n",
       " -0.7339523682572253 \n",
       "  ⋮                  \n",
       "  0.9974336658860118 \n",
       " -0.6938258120738878 \n",
       " -0.2581456552315425 \n",
       " -1.1521788642253536 \n",
       "  0.9090789430757401 \n",
       "  0.4155618883658102 \n",
       "  0.9035113629042111 \n",
       "  1.0941697035759808 \n",
       "  0.5103199450199046 \n",
       "  0.1637036005101834 \n",
       "  0.24691062073070266\n",
       "  0.10853338073637239"
      ]
     },
     "execution_count": 2,
     "metadata": {},
     "output_type": "execute_result"
    }
   ],
   "source": [
    "using BenchmarkTools, IterativeSolvers, LinearAlgebra, MatrixDepot, Random\n",
    "\n",
    "Random.seed!(280)\n",
    "\n",
    "n = 1000\n",
    "# Poisson matrix of dimension n^2=10000, pd and sparse\n",
    "A = matrixdepot(\"poisson\", n)\n",
    "@show typeof(A)\n",
    "# dense matrix representation of A\n",
    "#Afull = convert(Matrix, A)\n",
    "#@show typeof(Afull)\n",
    "# sparsity level\n",
    "count(!iszero, A) / length(A)\n",
    "b = randn(n^2)"
   ]
  },
  {
   "cell_type": "code",
   "execution_count": 7,
   "metadata": {},
   "outputs": [
    {
     "data": {
      "text/plain": [
       "1000000×1000000 Adjoint{Float64,SparseArrays.SparseMatrixCSC{Float64,Int64}}:\n",
       "  4.0  -1.0   0.0   0.0   0.0   0.0  …   0.0   0.0   0.0   0.0   0.0   0.0\n",
       " -1.0   4.0  -1.0   0.0   0.0   0.0      0.0   0.0   0.0   0.0   0.0   0.0\n",
       "  0.0  -1.0   4.0  -1.0   0.0   0.0      0.0   0.0   0.0   0.0   0.0   0.0\n",
       "  0.0   0.0  -1.0   4.0  -1.0   0.0      0.0   0.0   0.0   0.0   0.0   0.0\n",
       "  0.0   0.0   0.0  -1.0   4.0  -1.0      0.0   0.0   0.0   0.0   0.0   0.0\n",
       "  0.0   0.0   0.0   0.0  -1.0   4.0  …   0.0   0.0   0.0   0.0   0.0   0.0\n",
       "  0.0   0.0   0.0   0.0   0.0  -1.0      0.0   0.0   0.0   0.0   0.0   0.0\n",
       "  0.0   0.0   0.0   0.0   0.0   0.0      0.0   0.0   0.0   0.0   0.0   0.0\n",
       "  0.0   0.0   0.0   0.0   0.0   0.0      0.0   0.0   0.0   0.0   0.0   0.0\n",
       "  0.0   0.0   0.0   0.0   0.0   0.0      0.0   0.0   0.0   0.0   0.0   0.0\n",
       "  0.0   0.0   0.0   0.0   0.0   0.0  …   0.0   0.0   0.0   0.0   0.0   0.0\n",
       "  0.0   0.0   0.0   0.0   0.0   0.0      0.0   0.0   0.0   0.0   0.0   0.0\n",
       "  0.0   0.0   0.0   0.0   0.0   0.0      0.0   0.0   0.0   0.0   0.0   0.0\n",
       "  ⋮                             ⋮    ⋱         ⋮                          \n",
       "  0.0   0.0   0.0   0.0   0.0   0.0      0.0   0.0   0.0   0.0   0.0   0.0\n",
       "  0.0   0.0   0.0   0.0   0.0   0.0      0.0   0.0   0.0   0.0   0.0   0.0\n",
       "  0.0   0.0   0.0   0.0   0.0   0.0  …   0.0   0.0   0.0   0.0   0.0   0.0\n",
       "  0.0   0.0   0.0   0.0   0.0   0.0      0.0   0.0   0.0   0.0   0.0   0.0\n",
       "  0.0   0.0   0.0   0.0   0.0   0.0      0.0   0.0   0.0   0.0   0.0   0.0\n",
       "  0.0   0.0   0.0   0.0   0.0   0.0     -1.0   0.0   0.0   0.0   0.0   0.0\n",
       "  0.0   0.0   0.0   0.0   0.0   0.0      4.0  -1.0   0.0   0.0   0.0   0.0\n",
       "  0.0   0.0   0.0   0.0   0.0   0.0  …  -1.0   4.0  -1.0   0.0   0.0   0.0\n",
       "  0.0   0.0   0.0   0.0   0.0   0.0      0.0  -1.0   4.0  -1.0   0.0   0.0\n",
       "  0.0   0.0   0.0   0.0   0.0   0.0      0.0   0.0  -1.0   4.0  -1.0   0.0\n",
       "  0.0   0.0   0.0   0.0   0.0   0.0      0.0   0.0   0.0  -1.0   4.0  -1.0\n",
       "  0.0   0.0   0.0   0.0   0.0   0.0      0.0   0.0   0.0   0.0  -1.0   4.0"
      ]
     },
     "execution_count": 7,
     "metadata": {},
     "output_type": "execute_result"
    }
   ],
   "source": [
    "B = A'"
   ]
  },
  {
   "cell_type": "code",
   "execution_count": 13,
   "metadata": {},
   "outputs": [],
   "source": [
    "using SparseArrays"
   ]
  },
  {
   "cell_type": "code",
   "execution_count": 20,
   "metadata": {},
   "outputs": [
    {
     "data": {
      "text/plain": [
       "4×4 Array{Float64,2}:\n",
       " 1.0  2.0  3.0   0.0\n",
       " 1.0  1.0  0.0   0.0\n",
       " 0.0  1.0  4.0   1.0\n",
       " 1.0  0.0  0.0  10.0"
      ]
     },
     "execution_count": 20,
     "metadata": {},
     "output_type": "execute_result"
    }
   ],
   "source": [
    "A = sparse([1.0 2 3 0; 1 1 0 0;0 1 4 1; 1 0 0 10])\n",
    "Matrix(A)"
   ]
  },
  {
   "cell_type": "code",
   "execution_count": 19,
   "metadata": {},
   "outputs": [
    {
     "data": {
      "text/plain": [
       "4×4 Array{Float64,2}:\n",
       " 1.0  1.0  0.0   1.0\n",
       " 2.0  1.0  1.0   0.0\n",
       " 3.0  0.0  4.0   0.0\n",
       " 0.0  0.0  1.0  10.0"
      ]
     },
     "execution_count": 19,
     "metadata": {},
     "output_type": "execute_result"
    }
   ],
   "source": [
    "B = sparse(A')\n",
    "Matrix(B)"
   ]
  },
  {
   "cell_type": "code",
   "execution_count": null,
   "metadata": {},
   "outputs": [],
   "source": [
    "[]"
   ]
  },
  {
   "cell_type": "markdown",
   "metadata": {},
   "source": [
    "need some linear mapper for fast calc"
   ]
  }
 ],
 "metadata": {
  "kernelspec": {
   "display_name": "Julia 1.2.0",
   "language": "julia",
   "name": "julia-1.2"
  },
  "language_info": {
   "file_extension": ".jl",
   "mimetype": "application/julia",
   "name": "julia",
   "version": "1.2.0"
  }
 },
 "nbformat": 4,
 "nbformat_minor": 4
}
