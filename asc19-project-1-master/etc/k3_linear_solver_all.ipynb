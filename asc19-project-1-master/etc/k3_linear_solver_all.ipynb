{
 "cells": [
  {
   "cell_type": "markdown",
   "metadata": {},
   "source": [
    "# julia itteration solver sparse src"
   ]
  },
  {
   "cell_type": "code",
   "execution_count": 18,
   "metadata": {},
   "outputs": [
    {
     "data": {
      "text/plain": [
       "backward_sub! (generic function with 1 method)"
      ]
     },
     "execution_count": 18,
     "metadata": {},
     "output_type": "execute_result"
    }
   ],
   "source": [
    "import LinearAlgebra: mul!, ldiv!\n",
    "import Base: getindex, iterate\n",
    "using SparseArrays\n",
    "using Arpack\n",
    "using LinearAlgebra\n",
    "using BenchmarkTools, IterativeSolvers, MatrixDepot, Random\n",
    "\n",
    "\n",
    "struct DiagonalIndices{Tv, Ti <: Integer}\n",
    "    matrix::SparseMatrixCSC{Tv,Ti}\n",
    "    diag::Vector{Ti}\n",
    "\n",
    "    function DiagonalIndices{Tv,Ti}(A::SparseMatrixCSC{Tv,Ti}) where {Tv,Ti}\n",
    "        # Check square?\n",
    "        diag = Vector{Ti}(undef, A.n)\n",
    "\n",
    "        for col = 1 : A.n\n",
    "            r1 = Int(A.colptr[col])\n",
    "            r2 = Int(A.colptr[col + 1] - 1)\n",
    "            r1 = searchsortedfirst(A.rowval, col, r1, r2, Base.Order.Forward)\n",
    "            if r1 > r2 || A.rowval[r1] != col || iszero(A.nzval[r1])\n",
    "                throw(LinearAlgebra.SingularException(col))\n",
    "            end\n",
    "            diag[col] = r1\n",
    "        end \n",
    "\n",
    "        new(A, diag) #\n",
    "    end\n",
    "end\n",
    "\n",
    "DiagonalIndices(A::SparseMatrixCSC{Tv,Ti}) where {Tv,Ti} = DiagonalIndices{Tv,Ti}(A)\n",
    "@inline getindex(d::DiagonalIndices, i::Int) = d.diag[i]\n",
    "\n",
    "\n",
    "struct FastLowerTriangular{Tv,Ti}\n",
    "    matrix::SparseMatrixCSC{Tv,Ti}\n",
    "    diag::DiagonalIndices{Tv,Ti}\n",
    "end\n",
    "\n",
    "struct FastUpperTriangular{Tv,Ti}\n",
    "    matrix::SparseMatrixCSC{Tv,Ti}\n",
    "    diag::DiagonalIndices{Tv,Ti}\n",
    "end\n",
    "\n",
    "struct StrictlyUpperTriangular{Tv,Ti}\n",
    "    matrix::SparseMatrixCSC{Tv,Ti}\n",
    "    diag::DiagonalIndices{Tv,Ti}\n",
    "end\n",
    "\n",
    "struct StrictlyLowerTriangular{Tv,Ti}\n",
    "    matrix::SparseMatrixCSC{Tv,Ti}\n",
    "    diag::DiagonalIndices{Tv,Ti}\n",
    "end\n",
    "\n",
    "struct OffDiagonal{Tv,Ti}\n",
    "    matrix::SparseMatrixCSC{Tv,Ti}\n",
    "    diag::DiagonalIndices{Tv,Ti}\n",
    "end\n",
    "\n",
    "\n",
    "function forward_sub!(F::FastLowerTriangular, x::AbstractVector)\n",
    "    A = F.matrix\n",
    "    @inbounds for col = 1 : A.n\n",
    "        idx = F.diag[col]\n",
    "        x[col] /= A.nzval[idx] # ok\n",
    "        for i = idx + 1 : (A.colptr[col + 1] - 1) #colptr인데 lower triangular이기 때문에 해당 col의 diagonal 아래 개수가나옴.\n",
    "            x[A.rowval[i]] -= A.nzval[i] * x[col] # 이 term으로 x[n] 계산할때 그이전텀들이 다 마이너스 되어서 있음. \n",
    "        end\n",
    "    end\n",
    "    x\n",
    "end\n",
    "\n",
    "function backward_sub!(F::FastUpperTriangular, x::AbstractVector)\n",
    "    A = F.matrix\n",
    "\n",
    "    @inbounds for col = A.n : -1 : 1\n",
    "\n",
    "        # Solve for diagonal element\n",
    "        idx = F.diag[col]\n",
    "        x[col] = x[col] / A.nzval[idx]\n",
    "\n",
    "        # Substitute next values involving x[col]\n",
    "        for i = A.colptr[col] : idx - 1\n",
    "            x[A.rowval[i]] -= A.nzval[i] * x[col]\n",
    "        end\n",
    "    end\n",
    "\n",
    "    x\n",
    "end\n",
    "\n",
    "\n"
   ]
  },
  {
   "cell_type": "markdown",
   "metadata": {},
   "source": [
    "## miscell_fn"
   ]
  },
  {
   "cell_type": "code",
   "execution_count": 3,
   "metadata": {
    "collapsed": true,
    "jupyter": {
     "outputs_hidden": true
    }
   },
   "outputs": [
    {
     "name": "stdout",
     "output_type": "stream",
     "text": [
      "include group.jl for user defined matrix generators\n",
      "verify download of index files...\n",
      "used remote site is https://sparse.tamu.edu/?per_page=All\n",
      "populating internal database...\n"
     ]
    },
    {
     "data": {
      "text/plain": [
       "gen_Ab (generic function with 1 method)"
      ]
     },
     "execution_count": 3,
     "metadata": {},
     "output_type": "execute_result"
    }
   ],
   "source": [
    "using BenchmarkTools, IterativeSolvers, LinearAlgebra, MatrixDepot, Random\n",
    "\n",
    "\n",
    "function gen_Ab(n)\n",
    "    #n = 100\n",
    "    # Poisson matrix of dimension n^2=10000, pd and sparse\n",
    "    A = matrixdepot(\"poisson\", n)\n",
    "    @show typeof(A)\n",
    "    # dense matrix representation of A\n",
    "    #Afull = convert(Matrix, A)\n",
    "    #@show typeof(Afull)\n",
    "    # sparsity level\n",
    "    count(!iszero, A) / length(A)\n",
    "    b = randn(n^2)\n",
    "    (A,b)\n",
    "end"
   ]
  },
  {
   "cell_type": "markdown",
   "metadata": {},
   "source": [
    "# Custom src"
   ]
  },
  {
   "cell_type": "markdown",
   "metadata": {},
   "source": [
    "# SOR"
   ]
  },
  {
   "cell_type": "code",
   "execution_count": 19,
   "metadata": {},
   "outputs": [
    {
     "data": {
      "text/plain": [
       "k3_sor (generic function with 1 method)"
      ]
     },
     "execution_count": 19,
     "metadata": {},
     "output_type": "execute_result"
    }
   ],
   "source": [
    "\n",
    "#(α×A×X)+(b)  \n",
    "#f_mul!(-one(T), D, x, b, r) # r <- b- Ax\n",
    "function f_mul!(α::T, O::DiagonalIndices, x::AbstractVector, b::AbstractVector, r::AbstractVector  ) where {T}\n",
    "    A = O.matrix\n",
    "    r[:] = b\n",
    "    @inbounds for col = 1 : A.n\n",
    "        αx = α * x[col]\n",
    "        diag_index = O.diag[col]\n",
    "        for j = A.colptr[col] : A.colptr[col + 1] - 1\n",
    "            r[A.rowval[j]] += A.nzval[j] * αx \n",
    "        end\n",
    "    end\n",
    "    r\n",
    "end\n",
    "\n",
    "function sum!(z, r, A::SparseMatrixCSC)\n",
    "    @inbounds for i =1: A.n\n",
    "        z[i] += r[i]\n",
    "    end\n",
    "end\n",
    "\n",
    "\n",
    "function m_sor!(A, D::DiagonalIndices, w)\n",
    "    for d_idx in D.diag \n",
    "        A.nzval[d_idx]  *= (1/w)\n",
    "    end\n",
    "    @inbounds for col = 1 : A.n\n",
    "        for j = A.colptr[col] :  A.colptr[col + 1] - 1\n",
    "            if A.rowval[j] < col \n",
    "                A.nzval[j] = 0\n",
    "            end\n",
    "        end\n",
    "    end\n",
    "    \n",
    "end\n",
    "\n",
    "\n",
    "function itter_sor!(F::FastLowerTriangular, D::DiagonalIndices,\n",
    "                        x::AbstractVector, b::AbstractVector, max_itter)\n",
    "    A = D.matrix\n",
    "    T = eltype(x)\n",
    "    r =zeros(A.n)\n",
    "    \n",
    "    for i = 1 : max_itter \n",
    "        f_mul!(-one(T), D, x, b, r) # r <- b- Ax\n",
    "        forward_sub!(F, r)# r <- M_sor\\r\n",
    "        sum!(x, r, A) # x <- x +  M_sor/b\n",
    "        #x[:] = x+r\n",
    "        \n",
    "    end\n",
    "    x\n",
    "    \n",
    "end\n",
    "\n",
    "\n",
    "function k3_sor(A, b::AbstractVector, w, maxiter)\n",
    "    x = zeros(A.n)\n",
    "    m_sor = copy(A)\n",
    "    D = DiagonalIndices(A)\n",
    "    m_sor!(m_sor, D, w)\n",
    "    D_ms = DiagonalIndices(m_sor)\n",
    "    itter_sor!(FastLowerTriangular(m_sor ,D_ms), D, x , b, maxiter)\n",
    "end\n",
    "\n"
   ]
  },
  {
   "cell_type": "markdown",
   "metadata": {},
   "source": [
    "# SSOR"
   ]
  },
  {
   "cell_type": "code",
   "execution_count": 20,
   "metadata": {},
   "outputs": [
    {
     "data": {
      "text/plain": [
       "k3_ssor (generic function with 1 method)"
      ]
     },
     "execution_count": 20,
     "metadata": {},
     "output_type": "execute_result"
    }
   ],
   "source": [
    "function gamma_sqrt_diag_mul!( D::DiagonalIndices, b::AbstractVector, w ,b_c)\n",
    "    A = D.matrix\n",
    "    for idx in D.diag \n",
    "        b[A.rowval[idx]] *=  sqrt( b_c * ((2/w) -1) * A.nzval[idx])\n",
    "    end\n",
    "end\n",
    "\n",
    "function sum2!(x,y,z, A::SparseMatrixCSC)\n",
    "    @inbounds for i =1: A.n\n",
    "        x[i] =y[i]+z[i]\n",
    "    end\n",
    "end\n",
    "\n",
    "function itter_ssor!(F::FastLowerTriangular, U::FastUpperTriangular, D::DiagonalIndices,\n",
    "                        D_t::DiagonalIndices, x::AbstractVector, b::AbstractVector\n",
    "                        , w,  max_itter)\n",
    "    \n",
    "    A = D.matrix\n",
    "    A_t = D_t.matrix\n",
    "    #symetric일때도 필요한지 고려 diag정의는 새로필요한거 같음\n",
    "    \n",
    "    T = eltype(b)\n",
    "    r = zeros(A.n)\n",
    "    y = zeros(A.n)\n",
    "        \n",
    "    for i = 1 : max_itter \n",
    "        f_mul!(-one(T), D, x, b, r) # r_1 <-  γ * D^(1/2) * b- Ay\n",
    "        gamma_sqrt_diag_mul!(D,r,w,1)\n",
    "        forward_sub!(F, r) #r_1 <- m_sor\\r_1\n",
    "        gamma_sqrt_diag_mul!(D,r,w,1)\n",
    "        backward_sub!(U, r)\n",
    "        sum!(x, r, A)\n",
    "\n",
    "    end\n",
    "    x\n",
    "end\n",
    "\n",
    "\n",
    "\n",
    "function k3_ssor(A, b::AbstractVector, w, maxiter)\n",
    "    x = zeros(A.n)\n",
    "    m_sor = copy(A)\n",
    "    D = DiagonalIndices(A)\n",
    "    D_t = DiagonalIndices(sparse(A'))\n",
    "    \n",
    "    m_sor!(m_sor, D, w)\n",
    "    \n",
    "    D_ms = DiagonalIndices(m_sor)\n",
    "    m_sor_t = sparse(m_sor')\n",
    "    D_ms_t = DiagonalIndices(m_sor_t)\n",
    "    \n",
    "    itter_ssor!(FastLowerTriangular(m_sor ,D_ms), FastUpperTriangular(m_sor_t,D_ms_t),\n",
    "                    D, D_t, x , b, w, maxiter)\n",
    "end\n"
   ]
  },
  {
   "cell_type": "markdown",
   "metadata": {},
   "source": [
    "# Cheby_SSOR"
   ]
  },
  {
   "cell_type": "code",
   "execution_count": 21,
   "metadata": {},
   "outputs": [
    {
     "data": {
      "text/plain": [
       "k3_CB_ssor (generic function with 1 method)"
      ]
     },
     "execution_count": 21,
     "metadata": {},
     "output_type": "execute_result"
    }
   ],
   "source": [
    "function mul_sum!(x_next, x, x_pre, r, α, τ, A)\n",
    "    for i = 1:A.n \n",
    "        x_next[i] = (1-α)*x_pre[i] + α*x[i] + (τ*α*r[i])\n",
    "    end\n",
    "    x\n",
    "end\n",
    "\n",
    "function sum2!(x_next, x, r, A)\n",
    "    for i = 1:A.n \n",
    "        x_next[i] = x[i] + r[i]\n",
    "    end\n",
    "    x\n",
    "end\n",
    "\n",
    "function eigMm(A::SparseMatrixCSC, ω::Real)\n",
    "\n",
    "    Dw = sqrt((2/ω-1)) * Diagonal(sqrt.(diag(A)))\n",
    "    L = (LowerTriangular(A)- (1-1/ω) * Diagonal(A))*(inv(Dw))\n",
    "\n",
    "    Meig = inv(cholesky(L*L')) * A\n",
    "    \n",
    "    λ_max = eigs(Meig; nev=1, ritzvec=false, which=:LM)[1][1]\n",
    "    λ_min = eigs(Meig; nev=1, ritzvec=false, which=:SM)[1][1]\n",
    "    real(λ_max), real(λ_min)\n",
    "end\n",
    "\n",
    "\n",
    "function itter_CB_ssor!(F::FastLowerTriangular, U::FastUpperTriangular, D::DiagonalIndices,\n",
    "                        D_t::DiagonalIndices, x::AbstractVector, b::AbstractVector\n",
    "                        , w,  λ_max, λ_min, max_itter)\n",
    "    \n",
    "    A = D.matrix\n",
    "    A_t = D_t.matrix\n",
    "    \n",
    "    δ = ((λ_max - λ_min)/4)^2\n",
    "    τ = 2/(λ_max + λ_min)\n",
    "    \n",
    "    #Assign initial parameter\n",
    "    β  = 2*τ\n",
    "    α = 1\n",
    "    b_c = 2/α - 1\n",
    "    a = (2/τ -1) * b_c\n",
    "    κ = τ\n",
    "    \n",
    "    T = eltype(b)\n",
    "    r = zeros(A.n)\n",
    "    x_pre = zeros(A.n)\n",
    "    x_next = zeros(A.n)\n",
    " \n",
    "    for i = 1 : max_itter \n",
    "\n",
    "        x_pre[:] = x \n",
    "        x[:] = x_next\n",
    "        \n",
    "        f_mul!(-one(T), D, x, b, r) # r_1 <-  γ * D^(1/2) * b- Ay\n",
    "        gamma_sqrt_diag_mul!(D,r,w,1)\n",
    "        forward_sub!(F, r) #r_1 <- m_sor\\r_1\n",
    "        gamma_sqrt_diag_mul!(D,r,w,1)\n",
    "        backward_sub!(U, r)\n",
    "        \n",
    "        if i == 1\n",
    "            sum2!(x_next, x, τ*r, A)\n",
    "        else\n",
    "            mul_sum!(x_next, x, x_pre, r, α, τ, A) # x_next <- (1-α)*x_pre + α*x + (τ*α*r[i])\n",
    "        end\n",
    "                \n",
    "        β = 1 / ( (1/τ)  - β*δ ) \n",
    "        α = β / τ\n",
    "        b_c = ( ( 2*κ*(1- α) ) / β) + 1\n",
    "        a = ((2/τ) -1) + (b_c-1) * ( (1/τ) + (1/κ) -1 )\n",
    "        κ = β  + ( (1 - α) * κ)\n",
    "    end\n",
    "\n",
    "    x\n",
    "\n",
    "end\n",
    "\n",
    "\n",
    "\n",
    "function k3_CB_ssor(A, b::AbstractVector, w, maxiter)\n",
    "    x = zeros(A.n)\n",
    "    m_sor = copy(A)\n",
    "    D = DiagonalIndices(A)\n",
    "    D_t = DiagonalIndices(sparse(A'))\n",
    "    \n",
    "    m_sor!(m_sor, D, w)\n",
    "    \n",
    "    D_ms = DiagonalIndices(m_sor)\n",
    "    m_sor_t = sparse(m_sor')\n",
    "    D_ms_t = DiagonalIndices(m_sor_t)\n",
    "    λ_max,λ_min = eigMm(A, w)\n",
    "    \n",
    "    itter_CB_ssor!(FastLowerTriangular(m_sor ,D_ms), FastUpperTriangular(m_sor_t,D_ms_t),\n",
    "                    D, D_t, x , b, w, λ_max, λ_min, maxiter)\n",
    "end\n"
   ]
  },
  {
   "cell_type": "markdown",
   "metadata": {},
   "source": [
    "# Richardson"
   ]
  },
  {
   "cell_type": "code",
   "execution_count": 29,
   "metadata": {},
   "outputs": [
    {
     "data": {
      "text/plain": [
       "k3_RCS (generic function with 1 method)"
      ]
     },
     "execution_count": 29,
     "metadata": {},
     "output_type": "execute_result"
    }
   ],
   "source": [
    "\n",
    "function itter_Richardson!(D::DiagonalIndices, x::AbstractVector, w, b::AbstractVector, max_itter)\n",
    "    A = D.matrix\n",
    "    T = eltype(x)\n",
    "    r =zeros(A.n)\n",
    "    \n",
    "    for i = 1 : max_itter \n",
    "        f_mul!(-one(T), D, x, b, r) # r <- b- Ax\n",
    "        sum!(x, w*r, A) # x <- x +  wr\n",
    "        \n",
    "    end\n",
    "    x\n",
    "    \n",
    "end\n",
    "\n",
    "\n",
    "function k3_RCS(A, b::AbstractVector, w, maxiter)\n",
    "    x = zeros(A.n)\n",
    "    D = DiagonalIndices(A)\n",
    "    itter_Richardson!(D, x , w, b, maxiter)\n",
    "end\n",
    "\n"
   ]
  },
  {
   "cell_type": "markdown",
   "metadata": {},
   "source": [
    "# Jacobi"
   ]
  },
  {
   "cell_type": "code",
   "execution_count": 31,
   "metadata": {},
   "outputs": [
    {
     "data": {
      "text/plain": [
       "k3_JCB (generic function with 1 method)"
      ]
     },
     "execution_count": 31,
     "metadata": {},
     "output_type": "execute_result"
    }
   ],
   "source": [
    "function mul_inv_d!(D, r)\n",
    "    A = D.matrix\n",
    "    for idx in D.diag \n",
    "        r[A.rowval[idx]] *=  (1 / A.nzval[idx])\n",
    "    end\n",
    "end\n",
    "    \n",
    "\n",
    "function itter_JCB!(D::DiagonalIndices, x::AbstractVector, b::AbstractVector, max_itter)\n",
    "    A = D.matrix\n",
    "    T = eltype(x)\n",
    "    r =zeros(A.n)\n",
    "    \n",
    "    for i = 1 : max_itter \n",
    "        f_mul!(-one(T), D, x, b, r) # r <- b- Ax\n",
    "        mul_inv_d!(D, r)# r <- D^-1*r\n",
    "        sum!(x, r, A) # x <- x +  M^-1*r\n",
    "        #x[:] = x+r \n",
    "    end\n",
    "    x\n",
    "    \n",
    "end\n",
    "\n",
    "\n",
    "function k3_JCB(A, b::AbstractVector, maxiter)\n",
    "    x = zeros(A.n)\n",
    "    D = DiagonalIndices(A)\n",
    "    itter_JCB!(D, x , b, maxiter)\n",
    "end\n",
    "\n"
   ]
  },
  {
   "cell_type": "markdown",
   "metadata": {},
   "source": [
    "# Gauss-Seidal"
   ]
  },
  {
   "cell_type": "code",
   "execution_count": 24,
   "metadata": {},
   "outputs": [
    {
     "data": {
      "text/plain": [
       "k3_GS (generic function with 1 method)"
      ]
     },
     "execution_count": 24,
     "metadata": {},
     "output_type": "execute_result"
    }
   ],
   "source": [
    "\n",
    "function m_GS!(A, D::DiagonalIndices)\n",
    "    @inbounds for col = 1 : A.n\n",
    "        for j = A.colptr[col] :  A.colptr[col + 1] - 1\n",
    "            if A.rowval[j] < col \n",
    "                A.nzval[j] = 0\n",
    "            end\n",
    "        end\n",
    "    end\n",
    "    \n",
    "end\n",
    "\n",
    "\n",
    "function itter_GS!(F::FastLowerTriangular, D::DiagonalIndices,\n",
    "                        x::AbstractVector, b::AbstractVector, max_itter)\n",
    "    A = D.matrix\n",
    "    T = eltype(x)\n",
    "    r =zeros(A.n)\n",
    "    \n",
    "    for i = 1 : max_itter \n",
    "        f_mul!(-one(T), D, x, b, r) # r <- b- Ax\n",
    "        forward_sub!(F, r)# r <- M_sor\\r\n",
    "        sum!(x, r, A) # x <- x +  M_sor/b        \n",
    "    end\n",
    "    x\n",
    "    \n",
    "end\n",
    "\n",
    "\n",
    "function k3_GS(A, b::AbstractVector, maxiter)\n",
    "    x = zeros(A.n)\n",
    "    m_GS = copy(A)\n",
    "    D = DiagonalIndices(A)\n",
    "    m_GS!(m_GS, D)\n",
    "    D_GS = DiagonalIndices(m_GS)\n",
    "    itter_sor!(FastLowerTriangular(m_GS ,D_GS), D, x , b, maxiter)\n",
    "end\n",
    "\n"
   ]
  },
  {
   "cell_type": "markdown",
   "metadata": {},
   "source": [
    "# Test"
   ]
  },
  {
   "cell_type": "code",
   "execution_count": 25,
   "metadata": {},
   "outputs": [
    {
     "data": {
      "text/plain": [
       "gen_Ab (generic function with 1 method)"
      ]
     },
     "execution_count": 25,
     "metadata": {},
     "output_type": "execute_result"
    }
   ],
   "source": [
    "using LinearAlgebra\n",
    "using SparseArrays\n",
    "\n",
    "function cartesianidx(k::Int, n::Int)\n",
    "    \"\"\"\n",
    "    {s_i} are on a regular 10 by 10 lattice over the two dimensional domain\n",
    "    S = [1, 10] \\times [1, 10].\n",
    "    output gives a cartesian index (i, j) of s_k, i.e., \n",
    "    S = [s01 s11 s21 ... s91\n",
    "         s02 s12 s22 ... s92\n",
    "         s03 s13 s23 ... s93\n",
    "            ... ... \n",
    "         s10 s20 s30 ... s100]\n",
    "    \"\"\"\n",
    "    if k % n == 0\n",
    "        [n; k ÷ n]\n",
    "    else\n",
    "        [k % n; k ÷ n + 1]\n",
    "    end\n",
    "end\n",
    "\n",
    "\"\"\"\n",
    "n_i is the number of points neighbouring s_i, i.e., with distance 1from s_i\n",
    "N[i, j] = n_k, where cartesianindex(k, 10) = (i, j)\n",
    "\"\"\"\n",
    "\n",
    "function gen_Ab(n)\n",
    "    #n = 10\n",
    "    N = 4 * ones(n, n);\n",
    "    for k in 1:n\n",
    "        N[1, k] -= 1\n",
    "        N[k, 1] -= 1\n",
    "        N[n, k] -= 1\n",
    "        N[k, n] -= 1\n",
    "    end\n",
    "\n",
    "    \"\"\"\n",
    "    6.1 A 10 by 10 lattice example (n = 100)\n",
    "    \"\"\"\n",
    "    A = zeros(n^2, n^2)\n",
    "    for i in 1:n^2\n",
    "        for j in 1:n^2\n",
    "            if i == j\n",
    "                A[i, j] = 0.0001 + N[i]\n",
    "            elseif norm(cartesianidx(i, n^2)-cartesianidx(j, n^2)) <= 1.0\n",
    "                A[i, j] = -1.0\n",
    "            else\n",
    "                A[i, j] = 0.0\n",
    "            end\n",
    "        end\n",
    "    end\n",
    "\n",
    "    A = sparse(A)\n",
    "    b = randn(n^2)\n",
    "    \n",
    "    (A,b)\n",
    "end\n",
    "\n"
   ]
  },
  {
   "cell_type": "code",
   "execution_count": 15,
   "metadata": {},
   "outputs": [
    {
     "data": {
      "text/plain": [
       "(\n",
       "  [1  ,   1]  =  2.0001\n",
       "  [2  ,   1]  =  -1.0\n",
       "  [1  ,   2]  =  -1.0\n",
       "  [2  ,   2]  =  3.0001\n",
       "  [3  ,   2]  =  -1.0\n",
       "  [2  ,   3]  =  -1.0\n",
       "  [3  ,   3]  =  3.0001\n",
       "  [4  ,   3]  =  -1.0\n",
       "  [3  ,   4]  =  -1.0\n",
       "  [4  ,   4]  =  3.0001\n",
       "  [5  ,   4]  =  -1.0\n",
       "  [4  ,   5]  =  -1.0\n",
       "  ⋮\n",
       "  [96 ,  96]  =  3.0001\n",
       "  [97 ,  96]  =  -1.0\n",
       "  [96 ,  97]  =  -1.0\n",
       "  [97 ,  97]  =  3.0001\n",
       "  [98 ,  97]  =  -1.0\n",
       "  [97 ,  98]  =  -1.0\n",
       "  [98 ,  98]  =  3.0001\n",
       "  [99 ,  98]  =  -1.0\n",
       "  [98 ,  99]  =  -1.0\n",
       "  [99 ,  99]  =  3.0001\n",
       "  [100,  99]  =  -1.0\n",
       "  [99 , 100]  =  -1.0\n",
       "  [100, 100]  =  2.0001, [0.1932438144638102, 0.7935948797879782, -0.6166603890553979, -0.5669832516983522, 0.8274751304764992, -0.024615985567000922, -0.5674057243062406, 0.29376068105844827, -1.4645315085650001, 0.30882307768829564  …  1.1849611550954835, 0.6798365588500925, 1.333745898443076, -0.9012749434236612, 2.454122200318449, -0.4578421730345891, -0.2810682891356796, 0.10396032107323669, -0.9225630073669616, 0.11743688912518445])"
      ]
     },
     "execution_count": 15,
     "metadata": {},
     "output_type": "execute_result"
    }
   ],
   "source": [
    "A,b = gen_Ab(10)"
   ]
  },
  {
   "cell_type": "code",
   "execution_count": 38,
   "metadata": {},
   "outputs": [
    {
     "data": {
      "text/plain": [
       "100-element Array{Float64,1}:\n",
       "  0.24118294592717585 \n",
       "  0.2891461956851342  \n",
       " -0.16731032404018273 \n",
       " -0.17443350978268868 \n",
       "  0.21097560303949062 \n",
       " -0.020093714015034722\n",
       " -0.24664276888899536 \n",
       " -0.15245353262259975 \n",
       " -0.5044937553905144  \n",
       "  0.10345332564051744 \n",
       "  0.4025876743158178  \n",
       " -0.13445096618060293 \n",
       " -0.5849060447007972  \n",
       "  ⋮                   \n",
       "  0.15414340310348054 \n",
       "  0.3056057452300107  \n",
       "  1.2000917728645433  \n",
       "  0.909736654580879   \n",
       "  0.8493726056934597  \n",
       "  0.3047202013169939  \n",
       "  0.966093413701315   \n",
       "  0.1395344488098726  \n",
       " -0.08963394079222707 \n",
       " -0.1273769454449534  \n",
       " -0.39646995431041443 \n",
       " -0.1395095571147592  "
      ]
     },
     "execution_count": 38,
     "metadata": {},
     "output_type": "execute_result"
    }
   ],
   "source": [
    "sol_1 = sor(A,b , 0.75 ,maxiter=10000)\n",
    "sol_2 = ssor(A,b , 0.75 ,maxiter=10000)\n",
    "b_ = copy(b)\n",
    "sol_4 = k3_CB_ssor(A, b_, 0.75, 10000)\n",
    "b_ = copy(b)\n",
    "sol_5 = k3_RCS(A, b_, 1, 10000)\n",
    "b_ = copy(b)\n",
    "sol_6 = k3_GS(A, b_, 10000)\n",
    "b_ = copy(b)\n",
    "sol_7 = k3_JCB(A, b_,  10000)\n"
   ]
  },
  {
   "cell_type": "code",
   "execution_count": 39,
   "metadata": {
    "collapsed": true,
    "jupyter": {
     "outputs_hidden": true
    }
   },
   "outputs": [
    {
     "data": {
      "text/plain": [
       "100-element Array{Float64,1}:\n",
       " NaN\n",
       " NaN\n",
       " NaN\n",
       " NaN\n",
       " NaN\n",
       " NaN\n",
       " NaN\n",
       " NaN\n",
       " NaN\n",
       " NaN\n",
       " NaN\n",
       " NaN\n",
       " NaN\n",
       "   ⋮\n",
       " NaN\n",
       " NaN\n",
       " NaN\n",
       " NaN\n",
       " NaN\n",
       " NaN\n",
       " NaN\n",
       " NaN\n",
       " NaN\n",
       " NaN\n",
       " NaN\n",
       " NaN"
      ]
     },
     "execution_count": 39,
     "metadata": {},
     "output_type": "execute_result"
    }
   ],
   "source": [
    "sol_5"
   ]
  }
 ],
 "metadata": {
  "kernelspec": {
   "display_name": "Julia 1.2.0",
   "language": "julia",
   "name": "julia-1.2"
  },
  "language_info": {
   "file_extension": ".jl",
   "mimetype": "application/julia",
   "name": "julia",
   "version": "1.2.0"
  }
 },
 "nbformat": 4,
 "nbformat_minor": 4
}
