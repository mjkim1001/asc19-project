{
 "cells": [
  {
   "cell_type": "code",
   "execution_count": 1,
   "metadata": {},
   "outputs": [
    {
     "data": {
      "text/plain": [
       "iterate (generic function with 287 methods)"
      ]
     },
     "execution_count": 1,
     "metadata": {},
     "output_type": "execute_result"
    }
   ],
   "source": [
    "import Base: iterate\n",
    "using Printf, IterativeSolvers, LinearAlgebra, Random, Distributions, Preconditioners\n",
    "export cg, cg!, CGSampler, PCGSampler, cgSamp!, CGStateVariables\n",
    "\n",
    "\"\"\"\n",
    "  y ~ N(A^(-1)b , A^(-1))\n",
    "  x ~ A^(-1)b\n",
    "\"\"\"\n",
    "mutable struct CGSampler{matT, solT, vecT, numT <: Real}\n",
    "    A::matT\n",
    "    x::solT\n",
    "    r::vecT\n",
    "    c::vecT\n",
    "    u::vecT\n",
    "    y::vecT\n",
    "    α::Float64\n",
    "    a::Array{Float64,1}\n",
    "    b::Array{Complex,1}\n",
    "    reltol::numT\n",
    "    residual::numT\n",
    "    prev_residual::numT\n",
    "    maxiter::Int\n",
    "    mv_products::Int\n",
    "end\n",
    "\n",
    "mutable struct PCGSampler{precT, matT, solT, vecT, numT <: Real, paramT <: Number}\n",
    "    Pl::precT\n",
    "    A::matT\n",
    "    x::solT\n",
    "    r::vecT\n",
    "    c::vecT\n",
    "    u::vecT\n",
    "    y::vecT\n",
    "    α::Float64\n",
    "    a::Array{Float64,1}\n",
    "    b::Array{Complex,1}\n",
    "    reltol::numT\n",
    "    residual::numT\n",
    "    ρ::paramT\n",
    "    maxiter::Int\n",
    "    mv_products::Int\n",
    "end\n",
    "\n",
    "@inline converged(it::Union{CGSampler, PCGSampler}) = it.residual ≤ it.reltol\n",
    "\n",
    "@inline start(it::Union{CGSampler, PCGSampler}) = 0\n",
    "\n",
    "@inline done(it::Union{CGSampler, PCGSampler}, iteration::Int) = iteration ≥ it.maxiter || converged(it)\n",
    "\n",
    "\n",
    "###############\n",
    "# Ordinary CG #\n",
    "###############\n",
    "\n",
    "function iterate(it::CGSampler, iteration::Int=start(it))\n",
    "    if done(it, iteration) return nothing end\n",
    "    # u := r + βu (almost an axpy)\n",
    "    β = it.residual^2 / it.prev_residual^2\n",
    "    if(iteration != 0) \n",
    "        append!( it.a, - β/it.α)\n",
    "        append!( it.b, sqrt(complex(-β))/it.α )\n",
    "    end\n",
    "    it.u .= it.r .+ β .* it.u\n",
    "\n",
    "    # c = A * u\n",
    "    mul!(it.c, it.A, it.u)\n",
    "    α = it.residual^2 / dot(it.u, it.c)\n",
    "    it.a[iteration+1] =  it.a[iteration+1] + 1/it.α\n",
    "    # Improve solution and residual\n",
    "    it.x .+= α .* it.u\n",
    "    it.y = it.y + randn() .* it.u ./sqrt(dot(it.u, it.c)) \n",
    "    it.r .-= α .* it.c\n",
    "    \n",
    "    it.prev_residual = it.residual\n",
    "    it.residual = norm(it.r)\n",
    "\n",
    "    # Return the residual at item and iteration number as state\n",
    "    it.residual, iteration + 1\n",
    "end\n",
    "\n",
    "#####################\n",
    "# Preconditioned CG #\n",
    "#####################\n",
    "\n",
    "function iterate(it::PCGSampler, iteration::Int=start(it))\n",
    "    # Check for termination first\n",
    "    #print(iteration)\n",
    "    if done(it, iteration)\n",
    "        return nothing\n",
    "    end\n",
    "    ## c = Pl \\ r ##\n",
    "    ldiv!(it.c, it.Pl, it.r)\n",
    "\n",
    "    ρ_prev = it.ρ\n",
    "    it.ρ = dot(it.c, it.r)\n",
    "\n",
    "    # u := c + βu (almost an axpy)\n",
    "    β = it.ρ / ρ_prev\n",
    "    if(iteration != 0) \n",
    "        append!( it.a, - β/it.α)\n",
    "        append!( it.b, sqrt(complex(-β))/it.α )\n",
    "    end\n",
    "    it.u .= it.c .+ β .* it.u\n",
    "\n",
    "    # c = A * u\n",
    "    mul!(it.c, it.A, it.u)\n",
    "    it.α = it.ρ / dot(it.u, it.c)\n",
    "    it.a[iteration+1] =  it.a[iteration+1] + 1/it.α\n",
    "    \n",
    "    # Improve solution and residual\n",
    "    it.x .+= it.α .* it.u\n",
    "    it.y = it.y + randn() .* it.u ./sqrt(dot(it.u, it.c)) \n",
    "    it.r .-= it.α .* it.c\n",
    "\n",
    "    it.residual = norm(it.r)\n",
    "\n",
    "    # Return the residual at item and iteration number as state\n",
    "    it.residual, iteration + 1\n",
    "end"
   ]
  },
  {
   "cell_type": "code",
   "execution_count": 2,
   "metadata": {},
   "outputs": [
    {
     "data": {
      "text/plain": [
       "cg_sampler! (generic function with 2 methods)"
      ]
     },
     "execution_count": 2,
     "metadata": {},
     "output_type": "execute_result"
    }
   ],
   "source": [
    "struct CGStateVariables{T,Tx<:AbstractArray{T}}\n",
    "    u::Tx\n",
    "    r::Tx\n",
    "    c::Tx\n",
    "end\n",
    "\n",
    "function cg_sampler!(x, A, y0, b, Pl = Identity();\n",
    "    tol = sqrt(eps(real(eltype(b)))),\n",
    "    maxiter::Int = size(A, 2),\n",
    "    statevars::CGStateVariables = CGStateVariables(zero(x), similar(x), similar(x)),\n",
    "    initially_zero::Bool = false\n",
    ")\n",
    "    u = statevars.u\n",
    "    r = statevars.r\n",
    "    c = statevars.c\n",
    "    u .= zero(eltype(x))\n",
    "    copyto!(r, b)\n",
    "\n",
    "    # Compute r with an MV-product or not.\n",
    "    if initially_zero\n",
    "        mv_products = 0\n",
    "        c = similar(x)\n",
    "        residual = norm(b)\n",
    "        reltol = residual * tol # Save one dot product\n",
    "    else\n",
    "        mv_products = 1\n",
    "        mul!(c, A, x)\n",
    "        r .-= c\n",
    "        residual = norm(r)\n",
    "        reltol = norm(b) * tol\n",
    "    end\n",
    "\n",
    "    # Return the Sampler\n",
    "    if isa(Pl, Identity)\n",
    "        return CGSampler(A, x, r, c, u, y0, 0., zeros(1), zeros(Complex,0),\n",
    "            reltol, residual, one(residual),\n",
    "            maxiter, mv_products\n",
    "        )\n",
    "    else\n",
    "        return PCGSampler(Pl, A, x, r, c, u, y0, 0., zeros(1), zeros(Complex,0),\n",
    "            reltol, residual, one(eltype(x)),\n",
    "            maxiter, mv_products\n",
    "        )\n",
    "    end\n",
    "end\n"
   ]
  },
  {
   "cell_type": "code",
   "execution_count": 3,
   "metadata": {},
   "outputs": [
    {
     "data": {
      "text/plain": [
       "cgSamp! (generic function with 1 method)"
      ]
     },
     "execution_count": 3,
     "metadata": {},
     "output_type": "execute_result"
    }
   ],
   "source": [
    "function cgSamp!(x, A, y0, b;\n",
    "    tol = sqrt(eps(real(eltype(b)))),\n",
    "    maxiter::Int = size(A, 2),\n",
    "    log::Bool = false,\n",
    "    statevars::CGStateVariables = CGStateVariables(zero(x), similar(x), similar(x)),\n",
    "    verbose::Bool = false,\n",
    "    Pl = Identity(),\n",
    "    kwargs...\n",
    ")\n",
    "    history = ConvergenceHistory(partial = !log)\n",
    "    history[:tol] = tol\n",
    "    log && reserve!(history, :resnorm, maxiter + 1)\n",
    "\n",
    "    # Actually perform CG\n",
    "    iterable = cg_sampler!(x, A, y0, b, Pl; tol = tol, maxiter = maxiter, statevars = statevars, kwargs...)\n",
    "    if log\n",
    "        history.mvps = iterable.mv_products\n",
    "    end\n",
    "    for (iteration, item) = enumerate(iterable)\n",
    "        if log\n",
    "            nextiter!(history, mvps = 1)\n",
    "            push!(history, :resnorm, iterable.residual)\n",
    "        end\n",
    "        verbose && @printf(\"%3d\\t%1.2e\\n\", iteration, iterable.residual)\n",
    "    end\n",
    "\n",
    "    verbose && println()\n",
    "    log && setconv(history, converged(iterable))\n",
    "    log && shrink!(history)\n",
    "\n",
    "    log ? (iterable.x, history) : iterable\n",
    "end\n"
   ]
  },
  {
   "cell_type": "code",
   "execution_count": 4,
   "metadata": {},
   "outputs": [],
   "source": [
    "include(\"../src/data_generation.jl\")\n",
    "using Random, LinearAlgebra, Preconditioners, BenchmarkTools\n"
   ]
  },
  {
   "cell_type": "code",
   "execution_count": 5,
   "metadata": {},
   "outputs": [
    {
     "data": {
      "text/plain": [
       "100-element Array{Float64,1}:\n",
       " -508.2912457638938 \n",
       " -508.9804860526637 \n",
       " -508.958887873163  \n",
       " -509.9352042344667 \n",
       " -510.6453735326395 \n",
       " -510.37934186963656\n",
       " -509.908469475584  \n",
       " -510.2317711822458 \n",
       " -509.7419206286623 \n",
       " -509.05902017055774\n",
       " -508.422397620369  \n",
       " -508.6074585988139 \n",
       " -509.34587990843613\n",
       "    ⋮               \n",
       " -508.13853687737674\n",
       " -508.38457667174526\n",
       " -508.6311657322781 \n",
       " -508.0445684821186 \n",
       " -509.3877032387501 \n",
       " -509.2786551853962 \n",
       " -509.11393304625585\n",
       " -509.2279385251645 \n",
       " -509.0197662063185 \n",
       " -507.9741640533016 \n",
       " -508.2196218355882 \n",
       " -509.06992113789573"
      ]
     },
     "execution_count": 5,
     "metadata": {},
     "output_type": "execute_result"
    }
   ],
   "source": [
    "Random.seed!(111)\n",
    "n = 10\n",
    "A = gen_A(n)\n",
    "b = randn(n^2)\n",
    "x = zeros(n^2)\n",
    "L = LowerTriangular(A)\n",
    "p = CholeskyPreconditioner(L, 2)\n",
    "samp = cgSamp!(x, A, x, b;\n",
    "    tol = sqrt(eps(real(eltype(b)))),\n",
    "    maxiter= 50,\n",
    "    Pl = p)\n",
    "samp.x"
   ]
  },
  {
   "cell_type": "code",
   "execution_count": 100,
   "metadata": {},
   "outputs": [
    {
     "data": {
      "text/plain": [
       "100-element Array{Float64,1}:\n",
       " -508.2912435681162 \n",
       " -508.9804838641082 \n",
       " -508.9588856850026 \n",
       " -509.9352020460191 \n",
       " -510.6453713458184 \n",
       " -510.3793396808102 \n",
       " -509.9084672879415 \n",
       " -510.2317689937005 \n",
       " -509.74191843892856\n",
       " -509.0590179846583 \n",
       " -508.4223954291875 \n",
       " -508.6074564077927 \n",
       " -509.345877720993  \n",
       "    ⋮               \n",
       " -508.13853468572677\n",
       " -508.384574482358  \n",
       " -508.63116354176185\n",
       " -508.0445662898434 \n",
       " -509.38770104832855\n",
       " -509.2786529978664 \n",
       " -509.1139308588661 \n",
       " -509.2279363360354 \n",
       " -509.01976401935644\n",
       " -507.9741618672869 \n",
       " -508.2196196464825 \n",
       " -509.0699189471981 "
      ]
     },
     "execution_count": 100,
     "metadata": {},
     "output_type": "execute_result"
    }
   ],
   "source": [
    "Random.seed!(111)\n",
    "n = 10\n",
    "A = gen_A(n)\n",
    "b = randn(n^2)\n",
    "ssor(A, b, 1.6641, maxiter=70000)"
   ]
  },
  {
   "cell_type": "code",
   "execution_count": 125,
   "metadata": {},
   "outputs": [
    {
     "data": {
      "text/plain": [
       "100-element Array{Float64,1}:\n",
       " -508.2912457747934 \n",
       " -508.9804860697394 \n",
       " -508.95888787324384\n",
       " -509.93520423275567\n",
       " -510.64537352740535\n",
       " -510.3793418651406 \n",
       " -509.9084694799371 \n",
       " -510.23177118970784\n",
       " -509.74192063569416\n",
       " -509.0590201796033 \n",
       " -508.4223976091782 \n",
       " -508.60745860037065\n",
       " -509.3458799059738 \n",
       "    ⋮               \n",
       " -508.1385368693835 \n",
       " -508.38457666668904\n",
       " -508.6311657306854 \n",
       " -508.0445684780483 \n",
       " -509.38770324174794\n",
       " -509.27865518547696\n",
       " -509.1139330439906 \n",
       " -509.2279385301774 \n",
       " -509.01976621585237\n",
       " -507.9741640566261 \n",
       " -508.21962183658866\n",
       " -509.06992113211567"
      ]
     },
     "execution_count": 125,
     "metadata": {},
     "output_type": "execute_result"
    }
   ],
   "source": [
    "cg!(x, A, b;\n",
    "    tol = sqrt(eps(real(eltype(b)))),\n",
    "    maxiter= 100,\n",
    "    Pl = p)"
   ]
  },
  {
   "cell_type": "code",
   "execution_count": 45,
   "metadata": {},
   "outputs": [
    {
     "data": {
      "text/plain": [
       "(0.9998564750469746, 0.0002751717871851232)"
      ]
     },
     "execution_count": 45,
     "metadata": {},
     "output_type": "execute_result"
    }
   ],
   "source": [
    "include(\"../src/cheby_mj.jl\")\n",
    "Random.seed!(111)\n",
    "n = 10\n",
    "A = gen_A(n)\n",
    "b = randn(n^2)\n",
    "ω=1.6641\n",
    "M, m = eigMm(A,ω)\n",
    "\n",
    "cheby_ssor(A, b, ω, M,m, maxiter=100000)\n",
    "#cheby_ssor_sampler(A, b, ω, M, m,𝛎 =randn(100) , maxiter=100000)"
   ]
  },
  {
   "cell_type": "code",
   "execution_count": 21,
   "metadata": {},
   "outputs": [
    {
     "ename": "MethodError",
     "evalue": "MethodError: no method matching randn!(::Float64)\nClosest candidates are:\n  randn!(!Matched::AbstractRNG, !Matched::AbstractArray{T,N} where N) where T at /Users/sabae/buildbot/worker/package_macos64/build/usr/share/julia/stdlib/v1.2/Random/src/normal.jl:172\n  randn!(!Matched::SharedArrays.SharedArray) at /Users/sabae/buildbot/worker/package_macos64/build/usr/share/julia/stdlib/v1.2/SharedArrays/src/SharedArrays.jl:530\n  randn!(!Matched::AbstractArray) at /Users/sabae/buildbot/worker/package_macos64/build/usr/share/julia/stdlib/v1.2/Random/src/normal.jl:178",
     "output_type": "error",
     "traceback": [
      "MethodError: no method matching randn!(::Float64)\nClosest candidates are:\n  randn!(!Matched::AbstractRNG, !Matched::AbstractArray{T,N} where N) where T at /Users/sabae/buildbot/worker/package_macos64/build/usr/share/julia/stdlib/v1.2/Random/src/normal.jl:172\n  randn!(!Matched::SharedArrays.SharedArray) at /Users/sabae/buildbot/worker/package_macos64/build/usr/share/julia/stdlib/v1.2/SharedArrays/src/SharedArrays.jl:530\n  randn!(!Matched::AbstractArray) at /Users/sabae/buildbot/worker/package_macos64/build/usr/share/julia/stdlib/v1.2/Random/src/normal.jl:178",
      "",
      "Stacktrace:",
      " [1] top-level scope at In[21]:2"
     ]
    }
   ],
   "source": [
    "a=1.\n",
    "randn!()"
   ]
  },
  {
   "cell_type": "code",
   "execution_count": 15,
   "metadata": {},
   "outputs": [
    {
     "data": {
      "text/plain": [
       "CholeskyPreconditioner{Float64,SparseMatrixCSC{Float64,Int64}}([2.0001 0.0 … 0.0 0.0; -1.0 3.0001 … 0.0 0.0; … ; 0.0 0.0 … 3.0001 0.0; 0.0 0.0 … -1.0 2.0001], 2)"
      ]
     },
     "execution_count": 15,
     "metadata": {},
     "output_type": "execute_result"
    }
   ],
   "source": [
    "\n",
    "n = 10\n",
    "A = gen_A(n)\n",
    "x = zeros(n^2)\n",
    "\n",
    "L = LowerTriangular(A)\n",
    "p = CholeskyPreconditioner(L, 2)"
   ]
  },
  {
   "cell_type": "code",
   "execution_count": 15,
   "metadata": {},
   "outputs": [
    {
     "data": {
      "text/plain": [
       "262144×262144 SparseMatrixCSC{Float64,Int64} with 1308672 stored entries:\n",
       "  [1     ,      1]  =  2.0001\n",
       "  [2     ,      1]  =  -1.0\n",
       "  [513   ,      1]  =  -1.0\n",
       "  [1     ,      2]  =  -1.0\n",
       "  [2     ,      2]  =  3.0001\n",
       "  [3     ,      2]  =  -1.0\n",
       "  [514   ,      2]  =  -1.0\n",
       "  [2     ,      3]  =  -1.0\n",
       "  [3     ,      3]  =  3.0001\n",
       "  [4     ,      3]  =  -1.0\n",
       "  [515   ,      3]  =  -1.0\n",
       "  [3     ,      4]  =  -1.0\n",
       "  ⋮\n",
       "  [262141, 262141]  =  3.0001\n",
       "  [262142, 262141]  =  -1.0\n",
       "  [261630, 262142]  =  -1.0\n",
       "  [262141, 262142]  =  -1.0\n",
       "  [262142, 262142]  =  3.0001\n",
       "  [262143, 262142]  =  -1.0\n",
       "  [261631, 262143]  =  -1.0\n",
       "  [262142, 262143]  =  -1.0\n",
       "  [262143, 262143]  =  3.0001\n",
       "  [262144, 262143]  =  -1.0\n",
       "  [261632, 262144]  =  -1.0\n",
       "  [262143, 262144]  =  -1.0\n",
       "  [262144, 262144]  =  2.0001"
      ]
     },
     "execution_count": 15,
     "metadata": {},
     "output_type": "execute_result"
    }
   ],
   "source": [
    "include(\"matrixgen.jl\")\n",
    "A = laplacematrix(512)"
   ]
  },
  {
   "cell_type": "code",
   "execution_count": 16,
   "metadata": {},
   "outputs": [
    {
     "data": {
      "text/plain": [
       "262144×262144 LowerTriangular{Float64,SparseMatrixCSC{Float64,Int64}}:\n",
       "  2.0001    ⋅        ⋅        ⋅      …    ⋅        ⋅        ⋅       ⋅    \n",
       " -1.0      3.0001    ⋅        ⋅           ⋅        ⋅        ⋅       ⋅    \n",
       "  0.0     -1.0      3.0001    ⋅           ⋅        ⋅        ⋅       ⋅    \n",
       "  0.0      0.0     -1.0      3.0001       ⋅        ⋅        ⋅       ⋅    \n",
       "  0.0      0.0      0.0     -1.0          ⋅        ⋅        ⋅       ⋅    \n",
       "  0.0      0.0      0.0      0.0     …    ⋅        ⋅        ⋅       ⋅    \n",
       "  0.0      0.0      0.0      0.0          ⋅        ⋅        ⋅       ⋅    \n",
       "  0.0      0.0      0.0      0.0          ⋅        ⋅        ⋅       ⋅    \n",
       "  0.0      0.0      0.0      0.0          ⋅        ⋅        ⋅       ⋅    \n",
       "  0.0      0.0      0.0      0.0          ⋅        ⋅        ⋅       ⋅    \n",
       "  0.0      0.0      0.0      0.0     …    ⋅        ⋅        ⋅       ⋅    \n",
       "  0.0      0.0      0.0      0.0          ⋅        ⋅        ⋅       ⋅    \n",
       "  0.0      0.0      0.0      0.0          ⋅        ⋅        ⋅       ⋅    \n",
       "  ⋮                                  ⋱   ⋮                               \n",
       "  0.0      0.0      0.0      0.0          ⋅        ⋅        ⋅       ⋅    \n",
       "  0.0      0.0      0.0      0.0          ⋅        ⋅        ⋅       ⋅    \n",
       "  0.0      0.0      0.0      0.0          ⋅        ⋅        ⋅       ⋅    \n",
       "  0.0      0.0      0.0      0.0     …    ⋅        ⋅        ⋅       ⋅    \n",
       "  0.0      0.0      0.0      0.0          ⋅        ⋅        ⋅       ⋅    \n",
       "  0.0      0.0      0.0      0.0          ⋅        ⋅        ⋅       ⋅    \n",
       "  0.0      0.0      0.0      0.0          ⋅        ⋅        ⋅       ⋅    \n",
       "  0.0      0.0      0.0      0.0          ⋅        ⋅        ⋅       ⋅    \n",
       "  0.0      0.0      0.0      0.0     …   3.0001    ⋅        ⋅       ⋅    \n",
       "  0.0      0.0      0.0      0.0        -1.0      3.0001    ⋅       ⋅    \n",
       "  0.0      0.0      0.0      0.0         0.0     -1.0      3.0001   ⋅    \n",
       "  0.0      0.0      0.0      0.0         0.0      0.0     -1.0     2.0001"
      ]
     },
     "execution_count": 16,
     "metadata": {},
     "output_type": "execute_result"
    }
   ],
   "source": [
    "L = LowerTriangular(A)"
   ]
  },
  {
   "cell_type": "code",
   "execution_count": 20,
   "metadata": {},
   "outputs": [],
   "source": [
    "p = CholeskyPreconditioner(L, 2)\n",
    "x = zeros(512^2)\n",
    "b = randn(512^2);"
   ]
  },
  {
   "cell_type": "code",
   "execution_count": 21,
   "metadata": {},
   "outputs": [
    {
     "data": {
      "text/plain": [
       "262144-element Array{Float64,1}:\n",
       "  20.705392088565198\n",
       "  19.955280248837173\n",
       "  19.676219505442706\n",
       "  19.78235786522592 \n",
       "  20.044658020883983\n",
       "  19.347270962557214\n",
       "  18.554601815598666\n",
       "  17.974547408514518\n",
       "  17.884418234570646\n",
       "  18.26788571276589 \n",
       "  17.844190667480415\n",
       "  17.737743495872582\n",
       "  18.075605176737763\n",
       "   ⋮                \n",
       " -43.35690856242121 \n",
       " -41.97127511694285 \n",
       " -40.96219644218682 \n",
       " -40.14547433871541 \n",
       " -39.055539656324406\n",
       " -38.675531519039914\n",
       " -38.76193666436958 \n",
       " -38.078334697682266\n",
       " -37.263672140151535\n",
       " -37.313901837139   \n",
       " -36.85923396932515 \n",
       " -36.778120495713736"
      ]
     },
     "execution_count": 21,
     "metadata": {},
     "output_type": "execute_result"
    }
   ],
   "source": [
    "samp = cgSamp!(x, A, x, b;\n",
    "    tol = sqrt(eps(real(eltype(b)))),\n",
    "    maxiter= 50,\n",
    "    Pl = p)\n",
    "samp.x"
   ]
  },
  {
   "cell_type": "code",
   "execution_count": 23,
   "metadata": {},
   "outputs": [
    {
     "data": {
      "text/plain": [
       "49-element Array{Complex,1}:\n",
       " 0.0 + 0.06620089434484114im\n",
       " 0.0 + 0.06757839735721233im\n",
       " 0.0 + 0.08159498164038559im\n",
       " 0.0 + 0.11932533474510076im\n",
       " 0.0 + 0.1609015541049887im \n",
       " 0.0 + 0.1125975012631055im \n",
       " 0.0 + 0.08416063748265495im\n",
       " 0.0 + 0.12419958598963761im\n",
       " 0.0 + 0.12232445508280095im\n",
       " 0.0 + 0.0808902566167037im \n",
       " 0.0 + 0.08862879216220831im\n",
       " 0.0 + 0.08359653973198192im\n",
       " 0.0 + 0.07368596877002291im\n",
       "     ⋮                      \n",
       " 0.0 + 0.08708976127173183im\n",
       " 0.0 + 0.08678210359680892im\n",
       " 0.0 + 0.08319356000644779im\n",
       " 0.0 + 0.07901385980509103im\n",
       " 0.0 + 0.085454375322866im  \n",
       " 0.0 + 0.11387021913227316im\n",
       " 0.0 + 0.1304580808226108im \n",
       " 0.0 + 0.09478877250763643im\n",
       " 0.0 + 0.07934341138523987im\n",
       " 0.0 + 0.07866221550906312im\n",
       " 0.0 + 0.0794757215925305im \n",
       " 0.0 + 0.07820522486640574im"
      ]
     },
     "execution_count": 23,
     "metadata": {},
     "output_type": "execute_result"
    }
   ],
   "source": [
    "samp.b"
   ]
  },
  {
   "cell_type": "code",
   "execution_count": 14,
   "metadata": {},
   "outputs": [
    {
     "data": {
      "text/plain": [
       "100-element Array{Float64,1}:\n",
       "  0.9840081770575446 \n",
       "  1.5120529400061509 \n",
       " -0.7320340092586142 \n",
       " -1.5382633913261394 \n",
       " -0.0801791185040779 \n",
       " -0.21820670010876822\n",
       "  0.500781551660488  \n",
       " -0.06159156197969655\n",
       "  1.9774842642942712 \n",
       "  0.3833200357791712 \n",
       " -0.6601000297773038 \n",
       " -1.0768640096163058 \n",
       " -1.0233498786140616 \n",
       "  ⋮                  \n",
       "  0.5021309525870198 \n",
       " -0.3483132137748249 \n",
       " -1.5494142108480256 \n",
       "  0.13269048942903844\n",
       " -0.6814260125895202 \n",
       " -0.08663762529155392\n",
       "  0.7673788652498749 \n",
       " -2.3059035073249547 \n",
       " -0.6811462758510334 \n",
       "  0.10393133443104506\n",
       " -1.2810640940491917 \n",
       "  1.4992718805933383 "
      ]
     },
     "execution_count": 14,
     "metadata": {},
     "output_type": "execute_result"
    }
   ],
   "source": [
    "\n",
    "b = randn(n^2)"
   ]
  },
  {
   "cell_type": "code",
   "execution_count": 13,
   "metadata": {},
   "outputs": [
    {
     "data": {
      "text/plain": [
       "59-element Array{Complex,1}:\n",
       "   0.23748329896071782 + 0.0im                 \n",
       "   0.18349849023768833 + 0.0im                 \n",
       "   0.06809622578130593 + 0.0im                 \n",
       "  0.002569988240799209 + 0.0im                 \n",
       "  -0.04683131830077242 + 0.0im                 \n",
       " -0.042238130140678565 + 0.0im                 \n",
       " -0.042038269273782986 + 0.0im                 \n",
       "  -0.07710586095997832 + 0.0im                 \n",
       "  -0.11218397955079021 + 0.0im                 \n",
       "  -0.07902816722130268 + 0.0im                 \n",
       "  -0.07398595873303765 + 0.0im                 \n",
       "  -0.06009641520340964 + 0.0im                 \n",
       "   0.10331103628674951 + 0.0im                 \n",
       "                       ⋮                       \n",
       "                   0.0 + 0.04691446107521637im \n",
       "                   0.0 + 0.04330710120696413im \n",
       "                   0.0 + 0.05030946291596315im \n",
       "                   0.0 + 0.0758514374423246im  \n",
       "                   0.0 + 0.1235992213232298im  \n",
       "                   0.0 + 0.0865310275897783im  \n",
       "                   0.0 + 0.046123644821078245im\n",
       "                   0.0 + 0.041569699316312846im\n",
       "                   0.0 + 0.05963682730164468im \n",
       "                   0.0 + 0.06592255825973697im \n",
       "                   0.0 + 0.05869614019492629im \n",
       "                   0.0 + 0.05147885756106756im "
      ]
     },
     "execution_count": 13,
     "metadata": {},
     "output_type": "execute_result"
    }
   ],
   "source": [
    "vcat(Complex.(samp.a), samp.b) "
   ]
  },
  {
   "cell_type": "code",
   "execution_count": 43,
   "metadata": {},
   "outputs": [
    {
     "data": {
      "text/plain": [
       "nz_vals (generic function with 2 methods)"
      ]
     },
     "execution_count": 43,
     "metadata": {},
     "output_type": "execute_result"
    }
   ],
   "source": [
    "function nz_vals(k, a, b)\n",
    "    # a, b: complex\n",
    "    # a: k-vector, b: k-1 vector\n",
    "    nzs = vcat(a[1], b[1])\n",
    "    ck = vcat(b[k-1], a[k])\n",
    "    for i in 2:k-1\n",
    "        colunit = vcat(b[i-1], a[i], b[i])\n",
    "        nzs = vcat(nzs, colunit)\n",
    "    end\n",
    "    nzs = vcat(nzs, ck)\n",
    "    nzs\n",
    "end"
   ]
  },
  {
   "cell_type": "code",
   "execution_count": 25,
   "metadata": {},
   "outputs": [
    {
     "data": {
      "text/plain": [
       "rowidx (generic function with 1 method)"
      ]
     },
     "execution_count": 25,
     "metadata": {},
     "output_type": "execute_result"
    }
   ],
   "source": [
    "function rowidx(k)\n",
    "    idx = [1; 2]\n",
    "    unit = [-1; 0; 1]\n",
    "    for i in 2:k-1\n",
    "        idx = vcat(idx, unit.+i)\n",
    "    end\n",
    "    idx = vcat(idx, [k-1; k])\n",
    "    idx\n",
    "end"
   ]
  },
  {
   "cell_type": "code",
   "execution_count": 30,
   "metadata": {},
   "outputs": [
    {
     "data": {
      "text/plain": [
       "3-element Array{Int64,1}:\n",
       " 2\n",
       " 3\n",
       " 2"
      ]
     },
     "execution_count": 30,
     "metadata": {},
     "output_type": "execute_result"
    }
   ],
   "source": [
    "k = 3\n",
    "vcat(2, repeat([3], k-2), 2)"
   ]
  },
  {
   "cell_type": "code",
   "execution_count": 31,
   "metadata": {},
   "outputs": [
    {
     "data": {
      "text/plain": [
       "colptr (generic function with 1 method)"
      ]
     },
     "execution_count": 31,
     "metadata": {},
     "output_type": "execute_result"
    }
   ],
   "source": [
    "function colptr(k)\n",
    "    seq = vcat(2, repeat([3], k-2), 2)\n",
    "    temp = ones(Int64, k+1)\n",
    "    for i in 2:k+1\n",
    "        temp[i] = temp[i-1] + seq[i-1]\n",
    "    end\n",
    "    temp\n",
    "end"
   ]
  },
  {
   "cell_type": "code",
   "execution_count": 32,
   "metadata": {},
   "outputs": [
    {
     "data": {
      "text/plain": [
       "6-element Array{Int64,1}:\n",
       "  1\n",
       "  3\n",
       "  6\n",
       "  9\n",
       " 12\n",
       " 14"
      ]
     },
     "execution_count": 32,
     "metadata": {},
     "output_type": "execute_result"
    }
   ],
   "source": [
    "colptr(5)"
   ]
  },
  {
   "cell_type": "code",
   "execution_count": 36,
   "metadata": {},
   "outputs": [],
   "source": [
    "using SparseArrays"
   ]
  },
  {
   "cell_type": "code",
   "execution_count": 44,
   "metadata": {},
   "outputs": [
    {
     "data": {
      "text/plain": [
       "50×50 SparseMatrixCSC{Complex{Float64},Int64} with 148 stored entries:\n",
       "  [1 ,  1]  =  0.188469+0.0im\n",
       "  [2 ,  1]  =  0.0+0.0662009im\n",
       "  [1 ,  2]  =  0.0+0.0662009im\n",
       "  [2 ,  2]  =  0.0660515+0.0im\n",
       "  [3 ,  2]  =  0.0+0.0675784im\n",
       "  [2 ,  3]  =  0.0+0.0675784im\n",
       "  [3 ,  3]  =  0.0398384+0.0im\n",
       "  [4 ,  3]  =  0.0+0.081595im\n",
       "  [3 ,  4]  =  0.0+0.081595im\n",
       "  [4 ,  4]  =  0.0455474+0.0im\n",
       "  [5 ,  4]  =  0.0+0.119325im\n",
       "  [4 ,  5]  =  0.0+0.119325im\n",
       "  ⋮\n",
       "  [46, 46]  =  -0.00571468+0.0im\n",
       "  [47, 46]  =  0.0+0.0793434im\n",
       "  [46, 47]  =  0.0+0.0793434im\n",
       "  [47, 47]  =  0.00189459+0.0im\n",
       "  [48, 47]  =  0.0+0.0786622im\n",
       "  [47, 48]  =  0.0+0.0786622im\n",
       "  [48, 48]  =  0.00251943+0.0im\n",
       "  [49, 48]  =  0.0+0.0794757im\n",
       "  [48, 49]  =  0.0+0.0794757im\n",
       "  [49, 49]  =  0.0016515+0.0im\n",
       "  [50, 49]  =  0.0+0.0782052im\n",
       "  [49, 50]  =  0.0+0.0782052im\n",
       "  [50, 50]  =  0.00238808+0.0im"
      ]
     },
     "execution_count": 44,
     "metadata": {},
     "output_type": "execute_result"
    }
   ],
   "source": [
    "A = SparseMatrixCSC(50, 50, colptr(50), rowidx(50), nz_vals(50, a, b))"
   ]
  },
  {
   "cell_type": "code",
   "execution_count": 46,
   "metadata": {},
   "outputs": [
    {
     "data": {
      "text/plain": [
       "50-element Array{Complex{Float64},1}:\n",
       "    0.18846874281103776 + 0.0im\n",
       "    0.06605148509874463 + 0.0im\n",
       "   0.039838359455287034 + 0.0im\n",
       "    0.04554740615978575 + 0.0im\n",
       "    0.05409249743758619 + 0.0im\n",
       "  -0.007402659057657579 + 0.0im\n",
       "    0.00377210910298717 + 0.0im\n",
       "    0.03770435485724731 + 0.0im\n",
       "   0.015015561166412422 + 0.0im\n",
       "  -0.012381939145657994 + 0.0im\n",
       "   0.014830627333642293 + 0.0im\n",
       "   0.004002240797597437 + 0.0im\n",
       " -0.0004966106106656515 + 0.0im\n",
       "                        ⋮      \n",
       "   0.003001425830882684 + 0.0im\n",
       "   0.000759111710341806 + 0.0im\n",
       " 0.00026924501407811496 + 0.0im\n",
       "   0.005810706302993449 + 0.0im\n",
       "    0.01754492736271432 + 0.0im\n",
       "   0.014836399354218321 + 0.0im\n",
       "  -0.020038390376414583 + 0.0im\n",
       "  -0.005714677973388885 + 0.0im\n",
       "  0.0018945906538230528 + 0.0im\n",
       "  0.0025194316040171444 + 0.0im\n",
       "  0.0016515023564118159 + 0.0im\n",
       "  0.0023880817573888186 + 0.0im"
      ]
     },
     "execution_count": 46,
     "metadata": {},
     "output_type": "execute_result"
    }
   ],
   "source": [
    "a"
   ]
  },
  {
   "cell_type": "code",
   "execution_count": 50,
   "metadata": {},
   "outputs": [
    {
     "data": {
      "text/plain": [
       "0.023603549696475008 + 0.22780925450536535im"
      ]
     },
     "execution_count": 50,
     "metadata": {},
     "output_type": "execute_result"
    }
   ],
   "source": [
    "using Arpack\n",
    "M = eigs(A; nev=1, ritzvec=false, which=:LM)[1][1]\n"
   ]
  },
  {
   "cell_type": "code",
   "execution_count": null,
   "metadata": {},
   "outputs": [],
   "source": [
    "m = eigs(A; nev=1, ritzvec=false, which=:SM)[1][1]"
   ]
  },
  {
   "cell_type": "code",
   "execution_count": 33,
   "metadata": {},
   "outputs": [
    {
     "data": {
      "text/plain": [
       "49-element Array{Complex,1}:\n",
       " 0.0 + 0.06620089434484114im\n",
       " 0.0 + 0.06757839735721233im\n",
       " 0.0 + 0.08159498164038559im\n",
       " 0.0 + 0.11932533474510076im\n",
       " 0.0 + 0.1609015541049887im \n",
       " 0.0 + 0.1125975012631055im \n",
       " 0.0 + 0.08416063748265495im\n",
       " 0.0 + 0.12419958598963761im\n",
       " 0.0 + 0.12232445508280095im\n",
       " 0.0 + 0.0808902566167037im \n",
       " 0.0 + 0.08862879216220831im\n",
       " 0.0 + 0.08359653973198192im\n",
       " 0.0 + 0.07368596877002291im\n",
       "     ⋮                      \n",
       " 0.0 + 0.08708976127173183im\n",
       " 0.0 + 0.08678210359680892im\n",
       " 0.0 + 0.08319356000644779im\n",
       " 0.0 + 0.07901385980509103im\n",
       " 0.0 + 0.085454375322866im  \n",
       " 0.0 + 0.11387021913227316im\n",
       " 0.0 + 0.1304580808226108im \n",
       " 0.0 + 0.09478877250763643im\n",
       " 0.0 + 0.07934341138523987im\n",
       " 0.0 + 0.07866221550906312im\n",
       " 0.0 + 0.0794757215925305im \n",
       " 0.0 + 0.07820522486640574im"
      ]
     },
     "execution_count": 33,
     "metadata": {},
     "output_type": "execute_result"
    }
   ],
   "source": [
    "a = Complex.(samp.a)\n",
    "b = samp.b\n"
   ]
  },
  {
   "cell_type": "code",
   "execution_count": 10,
   "metadata": {},
   "outputs": [
    {
     "data": {
      "text/plain": [
       "29-element Array{Complex,1}:\n",
       " 0.0 + 0.08464928969031496im \n",
       " 0.0 + 0.15442592708168015im \n",
       " 0.0 + 0.14118301805995154im \n",
       " 0.0 + 0.1254188600571702im  \n",
       " 0.0 + 0.12077248279400081im \n",
       " 0.0 + 0.1175351624789117im  \n",
       " 0.0 + 0.09828489559274567im \n",
       " 0.0 + 0.08603066204976287im \n",
       " 0.0 + 0.06956212594323452im \n",
       " 0.0 + 0.07619404225381202im \n",
       " 0.0 + 0.07503841330506228im \n",
       " 0.0 + 0.055657164238697605im\n",
       " 0.0 + 0.06735699406414618im \n",
       "     ⋮                       \n",
       " 0.0 + 0.04691446107521637im \n",
       " 0.0 + 0.04330710120696413im \n",
       " 0.0 + 0.05030946291596315im \n",
       " 0.0 + 0.0758514374423246im  \n",
       " 0.0 + 0.1235992213232298im  \n",
       " 0.0 + 0.0865310275897783im  \n",
       " 0.0 + 0.046123644821078245im\n",
       " 0.0 + 0.041569699316312846im\n",
       " 0.0 + 0.05963682730164468im \n",
       " 0.0 + 0.06592255825973697im \n",
       " 0.0 + 0.05869614019492629im \n",
       " 0.0 + 0.05147885756106756im "
      ]
     },
     "execution_count": 10,
     "metadata": {},
     "output_type": "execute_result"
    }
   ],
   "source": [
    "samp.a\n",
    "samp.b"
   ]
  }
 ],
 "metadata": {
  "kernelspec": {
   "display_name": "Julia 1.2.0",
   "language": "julia",
   "name": "julia-1.2"
  },
  "language_info": {
   "file_extension": ".jl",
   "mimetype": "application/julia",
   "name": "julia",
   "version": "1.2.0"
  }
 },
 "nbformat": 4,
 "nbformat_minor": 4
}
